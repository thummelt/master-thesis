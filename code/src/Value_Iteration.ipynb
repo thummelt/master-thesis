{
 "cells": [
  {
   "cell_type": "code",
   "execution_count": 12,
   "metadata": {
    "scrolled": false
   },
   "outputs": [
    {
     "name": "stdout",
     "output_type": "stream",
     "text": [
      "The autoreload extension is already loaded. To reload it, use:\n",
      "  %reload_ext autoreload\n"
     ]
    }
   ],
   "source": [
    "import seaborn as sns \n",
    "import pandas as pd\n",
    "import matplotlib.pyplot as plt\n",
    "import numpy as np\n",
    "from fnmatch import fnmatch\n",
    "\n",
    "%load_ext autoreload\n",
    "%autoreload 2\n",
    "\n",
    "from src.modules.probabilities import Probabilities\n",
    "import modules.generator as g\n",
    "from modules.transition import Transition\n",
    "from src.modules.solutionAlgorithms import SolutionAlgorithms\n",
    "from src.modules.app import App\n",
    "from src.modules import constants as con\n",
    "\n",
    "\n"
   ]
  },
  {
   "cell_type": "code",
   "execution_count": 23,
   "metadata": {},
   "outputs": [],
   "source": [
    "df = pd.read_pickle(\"/usr/app/data/tmp/viInputDf.pkl\")\n",
    "df_states = pd.read_pickle(\"/usr/app/data/tmp/viDFStates.pkl\")\n",
    "sol = SolutionAlgorithms()\n",
    "cont = sol.performStandardVI(df, df_states[\"s_obj\"].to_dict())"
   ]
  },
  {
   "cell_type": "code",
   "execution_count": 10,
   "metadata": {},
   "outputs": [
    {
     "name": "stdout",
     "output_type": "stream",
     "text": [
      "(0.0,0.0,0)[]\n",
      "(0.0,0.0,1)[7]\n",
      "(0.2,0.0,0)[]\n",
      "(0.2,0.0,1)[4, 7]\n",
      "(0.4,0.0,0)[]\n",
      "(0.4,0.0,1)[4, 7]\n",
      "(0.6,0.0,0)[]\n",
      "(0.6,0.0,1)[4, 7]\n",
      "(0.8,0.0,0)[]\n",
      "(0.8,0.0,1)[4, 7]\n",
      "(1.0,0.0,0)[]\n",
      "(1.0,0.0,1)[4, 7]\n",
      "(1.2,0.0,0)[1]\n",
      "(1.2,0.0,1)[1, 4, 7]\n",
      "(1.4,0.0,0)[1]\n",
      "(1.4,0.0,1)[1, 4, 7]\n",
      "(1.6,0.0,0)[1]\n",
      "(1.6,0.0,1)[1, 4, 7]\n",
      "(1.8,0.0,0)[1]\n",
      "(1.8,0.0,1)[1, 4, 7]\n",
      "(2.0,0.0,0)[1]\n",
      "(2.0,0.0,1)[1, 4, 7]\n",
      "(2.2,0.0,0)[1]\n",
      "(2.2,0.0,1)[1, 4, 7]\n",
      "(0.0,0.2,0)[]\n",
      "(0.0,0.2,1)[4, 7]\n",
      "(0.0,0.4,0)[]\n",
      "(0.0,0.4,1)[4, 7]\n",
      "(0.0,0.6,0)[]\n",
      "(0.0,0.6,1)[4, 7]\n",
      "(0.0,0.8,0)[]\n",
      "(0.0,0.8,1)[4, 7]\n",
      "(0.0,1.0,0)[]\n",
      "(0.0,1.0,1)[4, 7]\n",
      "(0.0,1.2,0)[]\n",
      "(0.0,1.2,1)[4, 7]\n",
      "(0.0,1.4,0)[]\n",
      "(0.0,1.4,1)[4, 7]\n",
      "(0.0,1.6,0)[]\n",
      "(0.0,1.6,1)[4, 7]\n",
      "(0.0,1.8,0)[]\n",
      "(0.0,1.8,1)[4, 7]\n",
      "(0.0,2.0,0)[]\n",
      "(0.0,2.0,1)[4, 7]\n",
      "(0.0,2.2,0)[]\n",
      "(0.0,2.2,1)[4, 7]\n"
     ]
    },
    {
     "data": {
      "text/html": [
       "<div>\n",
       "<style scoped>\n",
       "    .dataframe tbody tr th:only-of-type {\n",
       "        vertical-align: middle;\n",
       "    }\n",
       "\n",
       "    .dataframe tbody tr th {\n",
       "        vertical-align: top;\n",
       "    }\n",
       "\n",
       "    .dataframe thead th {\n",
       "        text-align: right;\n",
       "    }\n",
       "</style>\n",
       "<table border=\"1\" class=\"dataframe\">\n",
       "  <thead>\n",
       "    <tr style=\"text-align: right;\">\n",
       "      <th></th>\n",
       "      <th>d_key</th>\n",
       "      <th>s_key</th>\n",
       "      <th>d_obj</th>\n",
       "    </tr>\n",
       "  </thead>\n",
       "  <tbody>\n",
       "    <tr>\n",
       "      <th>0</th>\n",
       "      <td>(0.0,0.0,0)</td>\n",
       "      <td>(0,4.0,0,15.5,0.0,0.0)</td>\n",
       "      <td>Decision [(0.0,0.0,0)]</td>\n",
       "    </tr>\n",
       "    <tr>\n",
       "      <th>2</th>\n",
       "      <td>(0.2,0.0,0)</td>\n",
       "      <td>(0,4.0,0,15.5,0.0,0.0)</td>\n",
       "      <td>Decision [(0.2,0.0,0)]</td>\n",
       "    </tr>\n",
       "    <tr>\n",
       "      <th>4</th>\n",
       "      <td>(0.4,0.0,0)</td>\n",
       "      <td>(0,4.0,0,15.5,0.0,0.0)</td>\n",
       "      <td>Decision [(0.4,0.0,0)]</td>\n",
       "    </tr>\n",
       "    <tr>\n",
       "      <th>6</th>\n",
       "      <td>(0.6,0.0,0)</td>\n",
       "      <td>(0,4.0,0,15.5,0.0,0.0)</td>\n",
       "      <td>Decision [(0.6,0.0,0)]</td>\n",
       "    </tr>\n",
       "    <tr>\n",
       "      <th>8</th>\n",
       "      <td>(0.8,0.0,0)</td>\n",
       "      <td>(0,4.0,0,15.5,0.0,0.0)</td>\n",
       "      <td>Decision [(0.8,0.0,0)]</td>\n",
       "    </tr>\n",
       "    <tr>\n",
       "      <th>10</th>\n",
       "      <td>(1.0,0.0,0)</td>\n",
       "      <td>(0,4.0,0,15.5,0.0,0.0)</td>\n",
       "      <td>Decision [(1.0,0.0,0)]</td>\n",
       "    </tr>\n",
       "    <tr>\n",
       "      <th>24</th>\n",
       "      <td>(0.0,0.2,0)</td>\n",
       "      <td>(0,4.0,0,15.5,0.0,0.0)</td>\n",
       "      <td>Decision [(0.0,0.2,0)]</td>\n",
       "    </tr>\n",
       "    <tr>\n",
       "      <th>26</th>\n",
       "      <td>(0.0,0.4,0)</td>\n",
       "      <td>(0,4.0,0,15.5,0.0,0.0)</td>\n",
       "      <td>Decision [(0.0,0.4,0)]</td>\n",
       "    </tr>\n",
       "    <tr>\n",
       "      <th>28</th>\n",
       "      <td>(0.0,0.6,0)</td>\n",
       "      <td>(0,4.0,0,15.5,0.0,0.0)</td>\n",
       "      <td>Decision [(0.0,0.6,0)]</td>\n",
       "    </tr>\n",
       "    <tr>\n",
       "      <th>30</th>\n",
       "      <td>(0.0,0.8,0)</td>\n",
       "      <td>(0,4.0,0,15.5,0.0,0.0)</td>\n",
       "      <td>Decision [(0.0,0.8,0)]</td>\n",
       "    </tr>\n",
       "    <tr>\n",
       "      <th>32</th>\n",
       "      <td>(0.0,1.0,0)</td>\n",
       "      <td>(0,4.0,0,15.5,0.0,0.0)</td>\n",
       "      <td>Decision [(0.0,1.0,0)]</td>\n",
       "    </tr>\n",
       "    <tr>\n",
       "      <th>34</th>\n",
       "      <td>(0.0,1.2,0)</td>\n",
       "      <td>(0,4.0,0,15.5,0.0,0.0)</td>\n",
       "      <td>Decision [(0.0,1.2,0)]</td>\n",
       "    </tr>\n",
       "    <tr>\n",
       "      <th>36</th>\n",
       "      <td>(0.0,1.4,0)</td>\n",
       "      <td>(0,4.0,0,15.5,0.0,0.0)</td>\n",
       "      <td>Decision [(0.0,1.4,0)]</td>\n",
       "    </tr>\n",
       "    <tr>\n",
       "      <th>38</th>\n",
       "      <td>(0.0,1.6,0)</td>\n",
       "      <td>(0,4.0,0,15.5,0.0,0.0)</td>\n",
       "      <td>Decision [(0.0,1.6,0)]</td>\n",
       "    </tr>\n",
       "    <tr>\n",
       "      <th>40</th>\n",
       "      <td>(0.0,1.8,0)</td>\n",
       "      <td>(0,4.0,0,15.5,0.0,0.0)</td>\n",
       "      <td>Decision [(0.0,1.8,0)]</td>\n",
       "    </tr>\n",
       "    <tr>\n",
       "      <th>42</th>\n",
       "      <td>(0.0,2.0,0)</td>\n",
       "      <td>(0,4.0,0,15.5,0.0,0.0)</td>\n",
       "      <td>Decision [(0.0,2.0,0)]</td>\n",
       "    </tr>\n",
       "    <tr>\n",
       "      <th>44</th>\n",
       "      <td>(0.0,2.2,0)</td>\n",
       "      <td>(0,4.0,0,15.5,0.0,0.0)</td>\n",
       "      <td>Decision [(0.0,2.2,0)]</td>\n",
       "    </tr>\n",
       "  </tbody>\n",
       "</table>\n",
       "</div>"
      ],
      "text/plain": [
       "          d_key                   s_key                   d_obj\n",
       "0   (0.0,0.0,0)  (0,4.0,0,15.5,0.0,0.0)  Decision [(0.0,0.0,0)]\n",
       "2   (0.2,0.0,0)  (0,4.0,0,15.5,0.0,0.0)  Decision [(0.2,0.0,0)]\n",
       "4   (0.4,0.0,0)  (0,4.0,0,15.5,0.0,0.0)  Decision [(0.4,0.0,0)]\n",
       "6   (0.6,0.0,0)  (0,4.0,0,15.5,0.0,0.0)  Decision [(0.6,0.0,0)]\n",
       "8   (0.8,0.0,0)  (0,4.0,0,15.5,0.0,0.0)  Decision [(0.8,0.0,0)]\n",
       "10  (1.0,0.0,0)  (0,4.0,0,15.5,0.0,0.0)  Decision [(1.0,0.0,0)]\n",
       "24  (0.0,0.2,0)  (0,4.0,0,15.5,0.0,0.0)  Decision [(0.0,0.2,0)]\n",
       "26  (0.0,0.4,0)  (0,4.0,0,15.5,0.0,0.0)  Decision [(0.0,0.4,0)]\n",
       "28  (0.0,0.6,0)  (0,4.0,0,15.5,0.0,0.0)  Decision [(0.0,0.6,0)]\n",
       "30  (0.0,0.8,0)  (0,4.0,0,15.5,0.0,0.0)  Decision [(0.0,0.8,0)]\n",
       "32  (0.0,1.0,0)  (0,4.0,0,15.5,0.0,0.0)  Decision [(0.0,1.0,0)]\n",
       "34  (0.0,1.2,0)  (0,4.0,0,15.5,0.0,0.0)  Decision [(0.0,1.2,0)]\n",
       "36  (0.0,1.4,0)  (0,4.0,0,15.5,0.0,0.0)  Decision [(0.0,1.4,0)]\n",
       "38  (0.0,1.6,0)  (0,4.0,0,15.5,0.0,0.0)  Decision [(0.0,1.6,0)]\n",
       "40  (0.0,1.8,0)  (0,4.0,0,15.5,0.0,0.0)  Decision [(0.0,1.8,0)]\n",
       "42  (0.0,2.0,0)  (0,4.0,0,15.5,0.0,0.0)  Decision [(0.0,2.0,0)]\n",
       "44  (0.0,2.2,0)  (0,4.0,0,15.5,0.0,0.0)  Decision [(0.0,2.2,0)]"
      ]
     },
     "execution_count": 10,
     "metadata": {},
     "output_type": "execute_result"
    }
   ],
   "source": [
    "from modules.state import State\n",
    "g.constructDecisions(State(0,4.0,0,15.5,0.0,0.0))"
   ]
  },
  {
   "cell_type": "code",
   "execution_count": null,
   "metadata": {},
   "outputs": [],
   "source": [
    "print(df_states[(~df_states.index.to_series().isin(df[\"s_key\"])) & (df_states[\"s_obj\"].apply(lambda s: (not s.get_isTerminal()) & (s.get_V_TA() == 1) & (s.get_B_L() > 3.9)))])\n",
    "print(len(df_states[(~df_states.index.to_series().isin(df[\"s_key\"]))]))\n",
    "print(df.loc[(df[\"s_key\"].apply(lambda k: fnmatch(k, \"(1,5.0,1,20.5,0.1,0.1)\")))])\n",
    "df_states.loc['(2,3.0,0,0.0,0.0,0.0)']"
   ]
  },
  {
   "cell_type": "code",
   "execution_count": null,
   "metadata": {},
   "outputs": [],
   "source": [
    "#df_states.head()\n",
    "df_states.loc['(1,1.0,0,0.0,0.0,0.0)']\n",
    "df.loc[(df[\"s_key\"].apply(lambda k: fnmatch(k, \"(?,1.?,0,0.0,0.0,0.0)\")))] # TODO check states should not be filtered"
   ]
  },
  {
   "cell_type": "code",
   "execution_count": null,
   "metadata": {
    "scrolled": true
   },
   "outputs": [],
   "source": []
  },
  {
   "cell_type": "code",
   "execution_count": null,
   "metadata": {},
   "outputs": [],
   "source": [
    "print(cont[\"cont\"].describe())\n",
    "cont.loc[(cont.cont.astype(float)<= -2150.220000),[\"s_key\",\"d_key\",\"cont\"]]\n",
    "\n",
    "cont.loc[(cont[\"s_key\"].apply(lambda k: fnmatch(k, \"(0,?.?,0,0.0,0.?,0.1)\"))) & \\\n",
    "         (cont[\"d_key\"].apply(lambda k: fnmatch(k, \"(0.?,0.?,0)\"))) & \\\n",
    "         (cont[\"cont\"] == 0.02),[\"s_key\",\"d_key\"]]"
   ]
  },
  {
   "cell_type": "code",
   "execution_count": null,
   "metadata": {
    "scrolled": true
   },
   "outputs": [],
   "source": [
    "# (1) Derive Probabilties for transition\n",
    "\n",
    "\n",
    "np.random.seed(14)\n",
    "prob = Probabilities()\n",
    "\n",
    "p = prob.getProbabilities(1*con.tau*60)\n",
    "\n",
    "#sum(p[\"p\"]) # == 1 !\n"
   ]
  },
  {
   "cell_type": "code",
   "execution_count": null,
   "metadata": {},
   "outputs": [],
   "source": [
    "from src.modules import constants as con\n",
    "# Construct ex_info data frame for all ts\n",
    "df_p = pd.DataFrame()\n",
    "\n",
    "for t in np.arange(0, 1440, con.tau*60):\n",
    "    df_p = df_p.append(prob.getProbabilities(t))\n",
    "    \n",
    "df_p.tail()"
   ]
  },
  {
   "cell_type": "code",
   "execution_count": null,
   "metadata": {
    "scrolled": false
   },
   "outputs": [],
   "source": [
    "# (2) Derive state space\n",
    "\n",
    "\n",
    "import time\n",
    "start = time.process_time()\n",
    "# your code here    \n",
    "sts = g.constructStates()\n",
    "print(time.process_time() - start)\n",
    "sts.describe()"
   ]
  },
  {
   "cell_type": "code",
   "execution_count": null,
   "metadata": {},
   "outputs": [],
   "source": [
    "sts.head()\n",
    "len(sts[(sts[\"V_TA\"] == 0) & (sts[\"t\"] == 2) & (sts[\"B_L\"] >= 40) & (sts[\"D\"] == 0)]) ##120\n",
    "len(sts[(sts[\"V_TA\"] == 0) & (sts[\"t\"] == 10) & (sts[\"B_L\"] >= 40)]) ##120"
   ]
  },
  {
   "cell_type": "code",
   "execution_count": null,
   "metadata": {},
   "outputs": [],
   "source": [
    "# (3) Derive decision space\n",
    "from tqdm import tqdm\n",
    "dec = {}\n",
    "\n",
    "for s in tqdm(sts[\"obj\"].head(1)):\n",
    "    dec[s.getKey()] = g.constructDecisions(s)\n",
    "\n",
    "#print(sts.iloc[0])\n",
    "#print(dec)\n",
    "print(pd.DataFrame([x.__str__() for x in dec[sts.loc[0, \"obj\"].getKey()]]))"
   ]
  },
  {
   "cell_type": "code",
   "execution_count": null,
   "metadata": {
    "scrolled": true
   },
   "outputs": [],
   "source": [
    "# Perform transitions\n",
    "np.random.seed(14)\n",
    "\n",
    "prob = Probabilities()\n",
    "ex_inf = prob.getProbabilities(300).loc[0,:]\n",
    "t = Transition(None, sts.loc[0, \"obj\"], dec[sts.loc[0,\"obj\"].getKey()][-1], ex_inf[\"p\"], ex_inf[0:3])\n",
    "\n",
    "\n",
    "print(sts.loc[0, \"obj\"])\n",
    "print(dec[sts.loc[0,\"obj\"].getKey()][-1])\n",
    "print(ex_inf)\n",
    "print()\n",
    "print(t.get_s_d().__str__())"
   ]
  },
  {
   "cell_type": "code",
   "execution_count": null,
   "metadata": {
    "scrolled": true
   },
   "outputs": [],
   "source": [
    "a = App()\n",
    "a.valueIteration()"
   ]
  },
  {
   "cell_type": "code",
   "execution_count": null,
   "metadata": {
    "scrolled": true
   },
   "outputs": [],
   "source": [
    "#df.loc[(df[\"t\"] == 0) & (df[\"s_obj\"].apply(lambda x: x.get_B_L() == 4.2)) & (df[\"d_obj\"].apply(lambda d: d.get_x_trip() == 1.0)),~df.columns.isin(['s_obj', 'd_obj', \"tr_obj\"])]\n",
    "df.loc[(df[\"t\"] == 0) & (df[\"d_obj\"].apply(lambda d: d.get_x_t() == 1.0)),~df.columns.isin(['s_obj', 'd_obj', \"tr_obj\"])]['trpln'].astype(int).describe()\n",
    "df.loc[ (df[\"s_obj\"].apply(lambda x: (x.get_D() == 0.0) )) ,~df.columns.isin(['s_obj', 'd_obj', \"tr_obj\"])]"
   ]
  },
  {
   "cell_type": "code",
   "execution_count": 19,
   "metadata": {},
   "outputs": [
    {
     "data": {
      "text/html": [
       "<div>\n",
       "<style scoped>\n",
       "    .dataframe tbody tr th:only-of-type {\n",
       "        vertical-align: middle;\n",
       "    }\n",
       "\n",
       "    .dataframe tbody tr th {\n",
       "        vertical-align: top;\n",
       "    }\n",
       "\n",
       "    .dataframe thead th {\n",
       "        text-align: right;\n",
       "    }\n",
       "</style>\n",
       "<table border=\"1\" class=\"dataframe\">\n",
       "  <thead>\n",
       "    <tr style=\"text-align: right;\">\n",
       "      <th></th>\n",
       "      <th>a</th>\n",
       "      <th>b</th>\n",
       "      <th>c</th>\n",
       "    </tr>\n",
       "  </thead>\n",
       "  <tbody>\n",
       "    <tr>\n",
       "      <th>0</th>\n",
       "      <td>1</td>\n",
       "      <td>2.0</td>\n",
       "      <td>2</td>\n",
       "    </tr>\n",
       "    <tr>\n",
       "      <th>1</th>\n",
       "      <td>2</td>\n",
       "      <td>3.0</td>\n",
       "      <td>3</td>\n",
       "    </tr>\n",
       "    <tr>\n",
       "      <th>0</th>\n",
       "      <td>a</td>\n",
       "      <td>NaN</td>\n",
       "      <td>c</td>\n",
       "    </tr>\n",
       "    <tr>\n",
       "      <th>1</th>\n",
       "      <td>b</td>\n",
       "      <td>NaN</td>\n",
       "      <td>d</td>\n",
       "    </tr>\n",
       "  </tbody>\n",
       "</table>\n",
       "</div>"
      ],
      "text/plain": [
       "   a    b  c\n",
       "0  1  2.0  2\n",
       "1  2  3.0  3\n",
       "0  a  NaN  c\n",
       "1  b  NaN  d"
      ]
     },
     "execution_count": 19,
     "metadata": {},
     "output_type": "execute_result"
    }
   ],
   "source": [
    "x = pd.DataFrame({\"a\":[1,2], \"b\": [2,3], \"c\": [2,3]})\n",
    "x.append(pd.DataFrame({\"a\":[\"a\",\"b\"], \"c\": [\"c\",\"d\"]}))"
   ]
  }
 ],
 "metadata": {
  "kernelspec": {
   "display_name": "Python 3",
   "language": "python",
   "name": "python3"
  },
  "language_info": {
   "codemirror_mode": {
    "name": "ipython",
    "version": 3
   },
   "file_extension": ".py",
   "mimetype": "text/x-python",
   "name": "python",
   "nbconvert_exporter": "python",
   "pygments_lexer": "ipython3",
   "version": "3.8.5"
  }
 },
 "nbformat": 4,
 "nbformat_minor": 2
}
