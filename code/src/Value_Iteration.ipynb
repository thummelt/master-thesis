{
 "cells": [
  {
   "cell_type": "code",
   "execution_count": 1,
   "metadata": {
    "scrolled": false
   },
   "outputs": [],
   "source": [
    "import seaborn as sns \n",
    "import pandas as pd\n",
    "import matplotlib.pyplot as plt\n",
    "import numpy as np\n",
    "from fnmatch import fnmatch\n",
    "\n",
    "%load_ext autoreload\n",
    "%autoreload 2\n",
    "\n",
    "from src.modules.probabilities import Probabilities\n",
    "import modules.generator as g\n",
    "from modules.transition import Transition\n",
    "from src.modules.solutionAlgorithms import SolutionAlgorithms\n",
    "from src.modules.app import App\n",
    "from src.modules import constants as con\n"
   ]
  },
  {
   "cell_type": "code",
   "execution_count": 2,
   "metadata": {},
   "outputs": [
    {
     "name": "stderr",
     "output_type": "stream",
     "text": [
      "87812it [00:00, 170816.08it/s]\n",
      "100%|██████████| 87768/87768 [02:06<00:00, 693.61it/s]\n"
     ]
    }
   ],
   "source": [
    "a = App()\n",
    "a.valueIteration()"
   ]
  },
  {
   "cell_type": "code",
   "execution_count": 4,
   "metadata": {},
   "outputs": [
    {
     "name": "stdout",
     "output_type": "stream",
     "text": [
      "(1367720, 11)\n",
      "(87812, 1)\n"
     ]
    }
   ],
   "source": [
    "df = pd.read_pickle(\"/usr/app/data/tmp/viInputDf.pkl\")\n",
    "df_states = pd.read_pickle(\"/usr/app/data/tmp/viDFStates.pkl\")\n",
    "#sol = SolutionAlgorithms()\n",
    "#cont = sol.performStandardVI(df, df_states[\"s_obj\"].to_dict())\n",
    "print(df.shape)\n",
    "print(df_states.shape)\n",
    "\n"
   ]
  },
  {
   "cell_type": "code",
   "execution_count": 8,
   "metadata": {},
   "outputs": [
    {
     "data": {
      "text/html": [
       "<div>\n",
       "<style scoped>\n",
       "    .dataframe tbody tr th:only-of-type {\n",
       "        vertical-align: middle;\n",
       "    }\n",
       "\n",
       "    .dataframe tbody tr th {\n",
       "        vertical-align: top;\n",
       "    }\n",
       "\n",
       "    .dataframe thead th {\n",
       "        text-align: right;\n",
       "    }\n",
       "</style>\n",
       "<table border=\"1\" class=\"dataframe\">\n",
       "  <thead>\n",
       "    <tr style=\"text-align: right;\">\n",
       "      <th></th>\n",
       "      <th>s_key</th>\n",
       "      <th>d_key</th>\n",
       "      <th>s_d_key</th>\n",
       "    </tr>\n",
       "  </thead>\n",
       "  <tbody>\n",
       "    <tr>\n",
       "      <th>1344938</th>\n",
       "      <td>(1,4.2,0.0,0.5,0.0,0.0)</td>\n",
       "      <td>(0.0,0.0,1)</td>\n",
       "      <td>(2,4.1,0.0,0.0,0.1,0.1)</td>\n",
       "    </tr>\n",
       "    <tr>\n",
       "      <th>1344939</th>\n",
       "      <td>(1,4.2,0.0,0.5,0.0,0.0)</td>\n",
       "      <td>(0.0,0.0,1)</td>\n",
       "      <td>(2,4.1,0.0,0.0,0.0,0.0)</td>\n",
       "    </tr>\n",
       "    <tr>\n",
       "      <th>1344960</th>\n",
       "      <td>(1,4.2,0.0,0.5,0.0,0.1)</td>\n",
       "      <td>(0.0,0.0,1)</td>\n",
       "      <td>(2,4.1,0.0,0.0,0.1,0.1)</td>\n",
       "    </tr>\n",
       "    <tr>\n",
       "      <th>1344961</th>\n",
       "      <td>(1,4.2,0.0,0.5,0.0,0.1)</td>\n",
       "      <td>(0.0,0.0,1)</td>\n",
       "      <td>(2,4.1,0.0,0.0,0.0,0.0)</td>\n",
       "    </tr>\n",
       "    <tr>\n",
       "      <th>1344982</th>\n",
       "      <td>(1,4.2,0.0,0.5,0.1,0.0)</td>\n",
       "      <td>(0.0,0.0,1)</td>\n",
       "      <td>(2,4.1,0.0,0.0,0.1,0.1)</td>\n",
       "    </tr>\n",
       "    <tr>\n",
       "      <th>...</th>\n",
       "      <td>...</td>\n",
       "      <td>...</td>\n",
       "      <td>...</td>\n",
       "    </tr>\n",
       "    <tr>\n",
       "      <th>1365235</th>\n",
       "      <td>(1,5.0,0.0,4.5,0.0,0.1)</td>\n",
       "      <td>(0.0,0.0,1)</td>\n",
       "      <td>(2,4.1,0.0,0.0,0.0,0.0)</td>\n",
       "    </tr>\n",
       "    <tr>\n",
       "      <th>1365258</th>\n",
       "      <td>(1,5.0,0.0,4.5,0.1,0.0)</td>\n",
       "      <td>(0.0,0.0,1)</td>\n",
       "      <td>(2,4.1,0.0,0.0,0.1,0.1)</td>\n",
       "    </tr>\n",
       "    <tr>\n",
       "      <th>1365259</th>\n",
       "      <td>(1,5.0,0.0,4.5,0.1,0.0)</td>\n",
       "      <td>(0.0,0.0,1)</td>\n",
       "      <td>(2,4.1,0.0,0.0,0.0,0.0)</td>\n",
       "    </tr>\n",
       "    <tr>\n",
       "      <th>1365282</th>\n",
       "      <td>(1,5.0,0.0,4.5,0.1,0.1)</td>\n",
       "      <td>(0.0,0.0,1)</td>\n",
       "      <td>(2,4.1,0.0,0.0,0.1,0.1)</td>\n",
       "    </tr>\n",
       "    <tr>\n",
       "      <th>1365283</th>\n",
       "      <td>(1,5.0,0.0,4.5,0.1,0.1)</td>\n",
       "      <td>(0.0,0.0,1)</td>\n",
       "      <td>(2,4.1,0.0,0.0,0.0,0.0)</td>\n",
       "    </tr>\n",
       "  </tbody>\n",
       "</table>\n",
       "<p>232 rows × 3 columns</p>\n",
       "</div>"
      ],
      "text/plain": [
       "                           s_key        d_key                  s_d_key\n",
       "1344938  (1,4.2,0.0,0.5,0.0,0.0)  (0.0,0.0,1)  (2,4.1,0.0,0.0,0.1,0.1)\n",
       "1344939  (1,4.2,0.0,0.5,0.0,0.0)  (0.0,0.0,1)  (2,4.1,0.0,0.0,0.0,0.0)\n",
       "1344960  (1,4.2,0.0,0.5,0.0,0.1)  (0.0,0.0,1)  (2,4.1,0.0,0.0,0.1,0.1)\n",
       "1344961  (1,4.2,0.0,0.5,0.0,0.1)  (0.0,0.0,1)  (2,4.1,0.0,0.0,0.0,0.0)\n",
       "1344982  (1,4.2,0.0,0.5,0.1,0.0)  (0.0,0.0,1)  (2,4.1,0.0,0.0,0.1,0.1)\n",
       "...                          ...          ...                      ...\n",
       "1365235  (1,5.0,0.0,4.5,0.0,0.1)  (0.0,0.0,1)  (2,4.1,0.0,0.0,0.0,0.0)\n",
       "1365258  (1,5.0,0.0,4.5,0.1,0.0)  (0.0,0.0,1)  (2,4.1,0.0,0.0,0.1,0.1)\n",
       "1365259  (1,5.0,0.0,4.5,0.1,0.0)  (0.0,0.0,1)  (2,4.1,0.0,0.0,0.0,0.0)\n",
       "1365282  (1,5.0,0.0,4.5,0.1,0.1)  (0.0,0.0,1)  (2,4.1,0.0,0.0,0.1,0.1)\n",
       "1365283  (1,5.0,0.0,4.5,0.1,0.1)  (0.0,0.0,1)  (2,4.1,0.0,0.0,0.0,0.0)\n",
       "\n",
       "[232 rows x 3 columns]"
      ]
     },
     "execution_count": 8,
     "metadata": {},
     "output_type": "execute_result"
    }
   ],
   "source": [
    "df.loc[(df[\"d_obj\"].apply(lambda d: d.get_x_t() == 1)) & (df[\"s_obj\"].apply(lambda s: (s.get_D() > 0) & (s.get_t() == 1))), [\"s_key\", \"d_key\", \"s_d_key\"]]\n",
    "#print(df.loc[(df[\"s_key\"]== \"(1,5.0,9.5,21.5,0.1,0.1)\")])\n",
    "#print(df_states)"
   ]
  },
  {
   "cell_type": "code",
   "execution_count": 7,
   "metadata": {},
   "outputs": [
    {
     "name": "stdout",
     "output_type": "stream",
     "text": [
      "44\n",
      "44\n"
     ]
    }
   ],
   "source": [
    "print(len(df_states[df_states[\"s_obj\"].apply(lambda s: (s.get_isTerminal()) )]))\n",
    "print(87812-87768 )"
   ]
  },
  {
   "cell_type": "code",
   "execution_count": null,
   "metadata": {},
   "outputs": [],
   "source": [
    "from modules.state import State\n",
    "g.constructDecisions(State(0,5.0,0.0,9.5,0.1,0.1), g.decisionSpace())"
   ]
  },
  {
   "cell_type": "code",
   "execution_count": null,
   "metadata": {},
   "outputs": [],
   "source": [
    "print(df_states[(~df_states.index.to_series().isin(df[\"s_key\"])) & (df_states[\"s_obj\"].apply(lambda s: (not s.get_isTerminal()) & (s.get_V_TA() == 1) & (s.get_B_L() > 3.9)))])\n",
    "print(len(df_states[(~df_states.index.to_series().isin(df[\"s_key\"]))]))\n",
    "print(df.loc[(df[\"s_key\"].apply(lambda k: fnmatch(k, \"(1,5.0,1,20.5,0.1,0.1)\")))])\n",
    "df_states.loc['(2,3.0,0,0.0,0.0,0.0)']"
   ]
  },
  {
   "cell_type": "code",
   "execution_count": null,
   "metadata": {},
   "outputs": [],
   "source": [
    "#df_states.head()\n",
    "df_states.loc['(1,1.0,0,0.0,0.0,0.0)']\n",
    "df.loc[(df[\"s_key\"].apply(lambda k: fnmatch(k, \"(?,1.?,0,0.0,0.0,0.0)\")))]"
   ]
  },
  {
   "cell_type": "code",
   "execution_count": null,
   "metadata": {
    "scrolled": true
   },
   "outputs": [],
   "source": []
  },
  {
   "cell_type": "code",
   "execution_count": null,
   "metadata": {},
   "outputs": [],
   "source": [
    "print(cont[\"cont\"].describe())\n",
    "cont.loc[(cont.cont.astype(float)<= -2150.220000),[\"s_key\",\"d_key\",\"cont\"]]\n",
    "\n",
    "cont.loc[(cont[\"s_key\"].apply(lambda k: fnmatch(k, \"(0,?.?,0,0.0,0.?,0.1)\"))) & \\\n",
    "         (cont[\"d_key\"].apply(lambda k: fnmatch(k, \"(0.?,0.?,0)\"))) & \\\n",
    "         (cont[\"cont\"] == 0.02),[\"s_key\",\"d_key\"]]"
   ]
  },
  {
   "cell_type": "code",
   "execution_count": null,
   "metadata": {
    "scrolled": true
   },
   "outputs": [],
   "source": [
    "# (1) Derive Probabilties for transition\n",
    "\n",
    "\n",
    "np.random.seed(14)\n",
    "prob = Probabilities()\n",
    "\n",
    "p = prob.getProbabilities(1*con.tau*60)\n",
    "\n",
    "#sum(p[\"p\"]) # == 1 !\n"
   ]
  },
  {
   "cell_type": "code",
   "execution_count": null,
   "metadata": {},
   "outputs": [],
   "source": [
    "from src.modules import constants as con\n",
    "# Construct ex_info data frame for all ts\n",
    "df_p = pd.DataFrame()\n",
    "\n",
    "for t in np.arange(0, 1440, con.tau*60):\n",
    "    df_p = df_p.append(prob.getProbabilities(t))\n",
    "    \n",
    "df_p.tail()"
   ]
  },
  {
   "cell_type": "code",
   "execution_count": null,
   "metadata": {
    "scrolled": false
   },
   "outputs": [],
   "source": [
    "# (2) Derive state space\n",
    "\n",
    "\n",
    "import time\n",
    "start = time.process_time()\n",
    "# your code here    \n",
    "sts = g.constructStates()\n",
    "print(time.process_time() - start)\n",
    "sts.describe()"
   ]
  },
  {
   "cell_type": "code",
   "execution_count": null,
   "metadata": {},
   "outputs": [],
   "source": [
    "sts.head()\n",
    "len(sts[(sts[\"V_TA\"] == 0) & (sts[\"t\"] == 2) & (sts[\"B_L\"] >= 40) & (sts[\"D\"] == 0)]) ##120\n",
    "len(sts[(sts[\"V_TA\"] == 0) & (sts[\"t\"] == 10) & (sts[\"B_L\"] >= 40)]) ##120"
   ]
  },
  {
   "cell_type": "code",
   "execution_count": null,
   "metadata": {},
   "outputs": [],
   "source": [
    "# (3) Derive decision space\n",
    "from tqdm import tqdm\n",
    "dec = {}\n",
    "\n",
    "for s in tqdm(sts[\"obj\"].head(1)):\n",
    "    dec[s.getKey()] = g.constructDecisions(s)\n",
    "\n",
    "#print(sts.iloc[0])\n",
    "#print(dec)\n",
    "print(pd.DataFrame([x.__str__() for x in dec[sts.loc[0, \"obj\"].getKey()]]))"
   ]
  },
  {
   "cell_type": "code",
   "execution_count": null,
   "metadata": {
    "scrolled": true
   },
   "outputs": [],
   "source": [
    "# Perform transitions\n",
    "np.random.seed(14)\n",
    "\n",
    "prob = Probabilities()\n",
    "ex_inf = prob.getProbabilities(300).loc[0,:]\n",
    "t = Transition(None, sts.loc[0, \"obj\"], dec[sts.loc[0,\"obj\"].getKey()][-1], ex_inf[\"p\"], ex_inf[0:3])\n",
    "\n",
    "\n",
    "print(sts.loc[0, \"obj\"])\n",
    "print(dec[sts.loc[0,\"obj\"].getKey()][-1])\n",
    "print(ex_inf)\n",
    "print()\n",
    "print(t.get_s_d().__str__())"
   ]
  },
  {
   "cell_type": "code",
   "execution_count": null,
   "metadata": {
    "scrolled": true
   },
   "outputs": [],
   "source": [
    "#df.loc[(df[\"t\"] == 0) & (df[\"s_obj\"].apply(lambda x: x.get_B_L() == 4.2)) & (df[\"d_obj\"].apply(lambda d: d.get_x_trip() == 1.0)),~df.columns.isin(['s_obj', 'd_obj', \"tr_obj\"])]\n",
    "df.loc[(df[\"t\"] == 0) & (df[\"d_obj\"].apply(lambda d: d.get_x_t() == 1.0)),~df.columns.isin(['s_obj', 'd_obj', \"tr_obj\"])]['trpln'].astype(int).describe()\n",
    "df.loc[ (df[\"s_obj\"].apply(lambda x: (x.get_D() == 0.0) )) ,~df.columns.isin(['s_obj', 'd_obj', \"tr_obj\"])]"
   ]
  },
  {
   "cell_type": "code",
   "execution_count": null,
   "metadata": {},
   "outputs": [],
   "source": [
    "x = pd.DataFrame({\"a\":[1,2], \"b\": [2,3], \"c\": [2,3]})\n",
    "x.append(pd.DataFrame({\"a\":[\"a\",\"b\"], \"c\": [\"c\",\"d\"]}))"
   ]
  }
 ],
 "metadata": {
  "kernelspec": {
   "display_name": "Python 3",
   "language": "python",
   "name": "python3"
  },
  "language_info": {
   "codemirror_mode": {
    "name": "ipython",
    "version": 3
   },
   "file_extension": ".py",
   "mimetype": "text/x-python",
   "name": "python",
   "nbconvert_exporter": "python",
   "pygments_lexer": "ipython3",
   "version": "3.8.5"
  }
 },
 "nbformat": 4,
 "nbformat_minor": 2
}
