{
 "cells": [
  {
   "cell_type": "code",
   "execution_count": 1,
   "metadata": {
    "scrolled": false
   },
   "outputs": [],
   "source": [
    "import seaborn as sns \n",
    "import pandas as pd\n",
    "import matplotlib.pyplot as plt\n",
    "import numpy as np\n"
   ]
  },
  {
   "cell_type": "code",
   "execution_count": 7,
   "metadata": {},
   "outputs": [],
   "source": [
    "%load_ext autoreload\n",
    "%autoreload 2"
   ]
  },
  {
   "cell_type": "code",
   "execution_count": 13,
   "metadata": {},
   "outputs": [],
   "source": [
    "from modules.probabilities import Probabilities\n"
   ]
  },
  {
   "cell_type": "code",
   "execution_count": 4,
   "metadata": {
    "scrolled": true
   },
   "outputs": [
    {
     "data": {
      "text/html": [
       "<div>\n",
       "<style scoped>\n",
       "    .dataframe tbody tr th:only-of-type {\n",
       "        vertical-align: middle;\n",
       "    }\n",
       "\n",
       "    .dataframe tbody tr th {\n",
       "        vertical-align: top;\n",
       "    }\n",
       "\n",
       "    .dataframe thead th {\n",
       "        text-align: right;\n",
       "    }\n",
       "</style>\n",
       "<table border=\"1\" class=\"dataframe\">\n",
       "  <thead>\n",
       "    <tr style=\"text-align: right;\">\n",
       "      <th></th>\n",
       "      <th>Trip</th>\n",
       "      <th>Length</th>\n",
       "      <th>Price</th>\n",
       "      <th>p</th>\n",
       "    </tr>\n",
       "  </thead>\n",
       "  <tbody>\n",
       "    <tr>\n",
       "      <th>0</th>\n",
       "      <td>y</td>\n",
       "      <td>0</td>\n",
       "      <td>10</td>\n",
       "      <td>0.000262858</td>\n",
       "    </tr>\n",
       "    <tr>\n",
       "      <th>1</th>\n",
       "      <td>y</td>\n",
       "      <td>0</td>\n",
       "      <td>20</td>\n",
       "      <td>0.000248595</td>\n",
       "    </tr>\n",
       "    <tr>\n",
       "      <th>2</th>\n",
       "      <td>y</td>\n",
       "      <td>4</td>\n",
       "      <td>10</td>\n",
       "      <td>0.000242638</td>\n",
       "    </tr>\n",
       "    <tr>\n",
       "      <th>3</th>\n",
       "      <td>y</td>\n",
       "      <td>4</td>\n",
       "      <td>20</td>\n",
       "      <td>0.000229473</td>\n",
       "    </tr>\n",
       "    <tr>\n",
       "      <th>4</th>\n",
       "      <td>y</td>\n",
       "      <td>8</td>\n",
       "      <td>10</td>\n",
       "      <td>0.000192089</td>\n",
       "    </tr>\n",
       "  </tbody>\n",
       "</table>\n",
       "</div>"
      ],
      "text/plain": [
       "  Trip Length Price            p\n",
       "0    y      0    10  0.000262858\n",
       "1    y      0    20  0.000248595\n",
       "2    y      4    10  0.000242638\n",
       "3    y      4    20  0.000229473\n",
       "4    y      8    10  0.000192089"
      ]
     },
     "execution_count": 4,
     "metadata": {},
     "output_type": "execute_result"
    }
   ],
   "source": [
    "# Derive Probabilties for transition\n",
    "np.random.seed(14)\n",
    "prob = Probabilities()\n",
    "\n",
    "prob.getProbabilities(300).head()\n"
   ]
  },
  {
   "cell_type": "code",
   "execution_count": 27,
   "metadata": {
    "scrolled": false
   },
   "outputs": [
    {
     "name": "stdout",
     "output_type": "stream",
     "text": [
      "State t=1[(2,25, 10,5,5) - False - (0.000000, 0.000000)]\n",
      "Decision [(0.000000,0.000000,0)]\n",
      "\n",
      "State t=1[(0,25, 10,5,5) - False - (0.000000, 0.000000)]\n",
      "Decision [(0.000000,0.000000,0)]\n",
      "Decision [(0.000000,0.000000,1)]\n",
      "Decision [(0.500000,0.000000,0)]\n",
      "Decision [(1.000000,0.000000,0)]\n",
      "Decision [(1.500000,0.000000,0)]\n",
      "Decision [(2.000000,0.000000,0)]\n",
      "Decision [(2.500000,0.000000,0)]\n",
      "Decision [(0.000000,0.500000,0)]\n",
      "Decision [(0.000000,1.000000,0)]\n",
      "Decision [(0.000000,1.500000,0)]\n",
      "Decision [(0.000000,2.000000,0)]\n",
      "Decision [(0.000000,2.500000,0)]\n",
      "\n",
      "State t=1[(0,25, 0,5,5) - False - (0.000000, 0.000000)]\n",
      "Decision [(0.000000,0.000000,0)]\n",
      "Decision [(0.500000,0.000000,0)]\n",
      "Decision [(1.000000,0.000000,0)]\n",
      "Decision [(1.500000,0.000000,0)]\n",
      "Decision [(2.000000,0.000000,0)]\n",
      "Decision [(2.500000,0.000000,0)]\n",
      "Decision [(0.000000,0.500000,0)]\n",
      "Decision [(0.000000,1.000000,0)]\n",
      "Decision [(0.000000,1.500000,0)]\n",
      "Decision [(0.000000,2.000000,0)]\n",
      "Decision [(0.000000,2.500000,0)]\n",
      "\n"
     ]
    }
   ],
   "source": [
    "from modules.app import App\n",
    "a = App()\n",
    "ss = a.constructStates()\n",
    "for s in ss:\n",
    "    print(s.__str__())\n",
    "    for d in a.constructDecisions(s):\n",
    "        print(d.__str__())\n",
    "    \n",
    "    print()"
   ]
  }
 ],
 "metadata": {
  "kernelspec": {
   "display_name": "Python 3",
   "language": "python",
   "name": "python3"
  },
  "language_info": {
   "codemirror_mode": {
    "name": "ipython",
    "version": 3
   },
   "file_extension": ".py",
   "mimetype": "text/x-python",
   "name": "python",
   "nbconvert_exporter": "python",
   "pygments_lexer": "ipython3",
   "version": "3.8.5"
  }
 },
 "nbformat": 4,
 "nbformat_minor": 2
}
