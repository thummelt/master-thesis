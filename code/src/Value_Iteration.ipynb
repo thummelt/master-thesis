{
 "cells": [
  {
   "cell_type": "code",
   "execution_count": 2,
   "metadata": {
    "scrolled": false
   },
   "outputs": [],
   "source": [
    "import seaborn as sns \n",
    "import pandas as pd\n",
    "import matplotlib.pyplot as plt\n",
    "import numpy as np\n",
    "\n",
    "%load_ext autoreload\n",
    "%autoreload 2\n"
   ]
  },
  {
   "cell_type": "code",
   "execution_count": 74,
   "metadata": {
    "scrolled": true
   },
   "outputs": [],
   "source": [
    "# (1) Derive Probabilties for transition\n",
    "\n",
    "from src.modules.probabilities import Probabilities\n",
    "\n",
    "np.random.seed(14)\n",
    "prob = Probabilities()\n",
    "\n",
    "p = prob.getProbabilities(1*con.tau*60)\n",
    "\n",
    "#sum(p[\"p\"]) # == 1 !\n"
   ]
  },
  {
   "cell_type": "code",
   "execution_count": 35,
   "metadata": {},
   "outputs": [
    {
     "data": {
      "text/html": [
       "<div>\n",
       "<style scoped>\n",
       "    .dataframe tbody tr th:only-of-type {\n",
       "        vertical-align: middle;\n",
       "    }\n",
       "\n",
       "    .dataframe tbody tr th {\n",
       "        vertical-align: top;\n",
       "    }\n",
       "\n",
       "    .dataframe thead th {\n",
       "        text-align: right;\n",
       "    }\n",
       "</style>\n",
       "<table border=\"1\" class=\"dataframe\">\n",
       "  <thead>\n",
       "    <tr style=\"text-align: right;\">\n",
       "      <th></th>\n",
       "      <th>Trip</th>\n",
       "      <th>Length</th>\n",
       "      <th>Price</th>\n",
       "      <th>p</th>\n",
       "      <th>t</th>\n",
       "    </tr>\n",
       "  </thead>\n",
       "  <tbody>\n",
       "    <tr>\n",
       "      <th>77</th>\n",
       "      <td>y</td>\n",
       "      <td>38</td>\n",
       "      <td>20</td>\n",
       "      <td>1.12251e-08</td>\n",
       "      <td>1425.0</td>\n",
       "    </tr>\n",
       "    <tr>\n",
       "      <th>78</th>\n",
       "      <td>y</td>\n",
       "      <td>39</td>\n",
       "      <td>10</td>\n",
       "      <td>0</td>\n",
       "      <td>1425.0</td>\n",
       "    </tr>\n",
       "    <tr>\n",
       "      <th>79</th>\n",
       "      <td>y</td>\n",
       "      <td>39</td>\n",
       "      <td>20</td>\n",
       "      <td>0</td>\n",
       "      <td>1425.0</td>\n",
       "    </tr>\n",
       "    <tr>\n",
       "      <th>80</th>\n",
       "      <td>n</td>\n",
       "      <td>0</td>\n",
       "      <td>10</td>\n",
       "      <td>0.997235</td>\n",
       "      <td>1425.0</td>\n",
       "    </tr>\n",
       "    <tr>\n",
       "      <th>81</th>\n",
       "      <td>n</td>\n",
       "      <td>0</td>\n",
       "      <td>20</td>\n",
       "      <td>0.00207953</td>\n",
       "      <td>1425.0</td>\n",
       "    </tr>\n",
       "  </tbody>\n",
       "</table>\n",
       "</div>"
      ],
      "text/plain": [
       "   Trip Length Price            p       t\n",
       "77    y     38    20  1.12251e-08  1425.0\n",
       "78    y     39    10            0  1425.0\n",
       "79    y     39    20            0  1425.0\n",
       "80    n      0    10     0.997235  1425.0\n",
       "81    n      0    20   0.00207953  1425.0"
      ]
     },
     "execution_count": 35,
     "metadata": {},
     "output_type": "execute_result"
    }
   ],
   "source": [
    "from src.modules import constants as con\n",
    "# Construct ex_info data frame for all ts\n",
    "df_p = pd.DataFrame()\n",
    "\n",
    "for t in np.arange(0, 1440, con.tau*60):\n",
    "    df_p = df_p.append(prob.getProbabilities(t))\n",
    "    \n",
    "df_p.tail()"
   ]
  },
  {
   "cell_type": "code",
   "execution_count": 2,
   "metadata": {
    "scrolled": false
   },
   "outputs": [
    {
     "name": "stderr",
     "output_type": "stream",
     "text": [
      "18887it [00:00, 188850.82it/s]"
     ]
    },
    {
     "name": "stdout",
     "output_type": "stream",
     "text": [
      "4782996\n"
     ]
    },
    {
     "name": "stderr",
     "output_type": "stream",
     "text": [
      "4782996it [00:33, 144839.88it/s]\n"
     ]
    },
    {
     "name": "stdout",
     "output_type": "stream",
     "text": [
      "70.49084140000001\n"
     ]
    },
    {
     "data": {
      "text/html": [
       "<div>\n",
       "<style scoped>\n",
       "    .dataframe tbody tr th:only-of-type {\n",
       "        vertical-align: middle;\n",
       "    }\n",
       "\n",
       "    .dataframe tbody tr th {\n",
       "        vertical-align: top;\n",
       "    }\n",
       "\n",
       "    .dataframe thead th {\n",
       "        text-align: right;\n",
       "    }\n",
       "</style>\n",
       "<table border=\"1\" class=\"dataframe\">\n",
       "  <thead>\n",
       "    <tr style=\"text-align: right;\">\n",
       "      <th></th>\n",
       "      <th>t</th>\n",
       "      <th>B_L</th>\n",
       "      <th>V_TA</th>\n",
       "      <th>D</th>\n",
       "      <th>P_B</th>\n",
       "      <th>P_S</th>\n",
       "      <th>V_N</th>\n",
       "    </tr>\n",
       "  </thead>\n",
       "  <tbody>\n",
       "    <tr>\n",
       "      <th>count</th>\n",
       "      <td>4.782996e+06</td>\n",
       "      <td>4.782996e+06</td>\n",
       "      <td>4.782996e+06</td>\n",
       "      <td>4.782996e+06</td>\n",
       "      <td>4.782996e+06</td>\n",
       "      <td>4.782996e+06</td>\n",
       "      <td>4782996.0</td>\n",
       "    </tr>\n",
       "    <tr>\n",
       "      <th>mean</th>\n",
       "      <td>4.500869e+00</td>\n",
       "      <td>3.000237e+01</td>\n",
       "      <td>1.499763e+00</td>\n",
       "      <td>1.999684e+01</td>\n",
       "      <td>2.500000e-01</td>\n",
       "      <td>2.500000e-01</td>\n",
       "      <td>0.0</td>\n",
       "    </tr>\n",
       "    <tr>\n",
       "      <th>std</th>\n",
       "      <td>2.872887e+00</td>\n",
       "      <td>1.169111e+01</td>\n",
       "      <td>1.118105e+00</td>\n",
       "      <td>1.183390e+01</td>\n",
       "      <td>1.707825e-01</td>\n",
       "      <td>1.707825e-01</td>\n",
       "      <td>0.0</td>\n",
       "    </tr>\n",
       "    <tr>\n",
       "      <th>min</th>\n",
       "      <td>0.000000e+00</td>\n",
       "      <td>1.000000e+01</td>\n",
       "      <td>0.000000e+00</td>\n",
       "      <td>0.000000e+00</td>\n",
       "      <td>0.000000e+00</td>\n",
       "      <td>0.000000e+00</td>\n",
       "      <td>0.0</td>\n",
       "    </tr>\n",
       "    <tr>\n",
       "      <th>25%</th>\n",
       "      <td>2.000000e+00</td>\n",
       "      <td>2.000000e+01</td>\n",
       "      <td>0.000000e+00</td>\n",
       "      <td>1.000000e+01</td>\n",
       "      <td>1.000000e-01</td>\n",
       "      <td>1.000000e-01</td>\n",
       "      <td>0.0</td>\n",
       "    </tr>\n",
       "    <tr>\n",
       "      <th>50%</th>\n",
       "      <td>5.000000e+00</td>\n",
       "      <td>3.000000e+01</td>\n",
       "      <td>1.000000e+00</td>\n",
       "      <td>2.000000e+01</td>\n",
       "      <td>2.500000e-01</td>\n",
       "      <td>2.500000e-01</td>\n",
       "      <td>0.0</td>\n",
       "    </tr>\n",
       "    <tr>\n",
       "      <th>75%</th>\n",
       "      <td>7.000000e+00</td>\n",
       "      <td>4.000000e+01</td>\n",
       "      <td>2.000000e+00</td>\n",
       "      <td>3.000000e+01</td>\n",
       "      <td>4.000000e-01</td>\n",
       "      <td>4.000000e-01</td>\n",
       "      <td>0.0</td>\n",
       "    </tr>\n",
       "    <tr>\n",
       "      <th>max</th>\n",
       "      <td>1.000000e+01</td>\n",
       "      <td>5.000000e+01</td>\n",
       "      <td>3.000000e+00</td>\n",
       "      <td>4.000000e+01</td>\n",
       "      <td>5.000000e-01</td>\n",
       "      <td>5.000000e-01</td>\n",
       "      <td>0.0</td>\n",
       "    </tr>\n",
       "  </tbody>\n",
       "</table>\n",
       "</div>"
      ],
      "text/plain": [
       "                  t           B_L          V_TA             D           P_B  \\\n",
       "count  4.782996e+06  4.782996e+06  4.782996e+06  4.782996e+06  4.782996e+06   \n",
       "mean   4.500869e+00  3.000237e+01  1.499763e+00  1.999684e+01  2.500000e-01   \n",
       "std    2.872887e+00  1.169111e+01  1.118105e+00  1.183390e+01  1.707825e-01   \n",
       "min    0.000000e+00  1.000000e+01  0.000000e+00  0.000000e+00  0.000000e+00   \n",
       "25%    2.000000e+00  2.000000e+01  0.000000e+00  1.000000e+01  1.000000e-01   \n",
       "50%    5.000000e+00  3.000000e+01  1.000000e+00  2.000000e+01  2.500000e-01   \n",
       "75%    7.000000e+00  4.000000e+01  2.000000e+00  3.000000e+01  4.000000e-01   \n",
       "max    1.000000e+01  5.000000e+01  3.000000e+00  4.000000e+01  5.000000e-01   \n",
       "\n",
       "                P_S        V_N  \n",
       "count  4.782996e+06  4782996.0  \n",
       "mean   2.500000e-01        0.0  \n",
       "std    1.707825e-01        0.0  \n",
       "min    0.000000e+00        0.0  \n",
       "25%    1.000000e-01        0.0  \n",
       "50%    2.500000e-01        0.0  \n",
       "75%    4.000000e-01        0.0  \n",
       "max    5.000000e-01        0.0  "
      ]
     },
     "execution_count": 2,
     "metadata": {},
     "output_type": "execute_result"
    }
   ],
   "source": [
    "# (2) Derive state space\n",
    "\n",
    "import modules.generator as g\n",
    "import time\n",
    "start = time.process_time()\n",
    "# your code here    \n",
    "sts = g.constructStates()\n",
    "print(time.process_time() - start)\n",
    "sts.describe()"
   ]
  },
  {
   "cell_type": "code",
   "execution_count": 17,
   "metadata": {},
   "outputs": [
    {
     "data": {
      "text/plain": [
       "756"
      ]
     },
     "execution_count": 17,
     "metadata": {},
     "output_type": "execute_result"
    }
   ],
   "source": [
    "sts.head()\n",
    "len(sts[(sts[\"V_TA\"] == 0) & (sts[\"t\"] == 2) & (sts[\"B_L\"] >= 40) & (sts[\"D\"] == 0)]) ##120\n",
    "len(sts[(sts[\"V_TA\"] == 0) & (sts[\"t\"] == 10) & (sts[\"B_L\"] >= 40)]) ##120"
   ]
  },
  {
   "cell_type": "code",
   "execution_count": 31,
   "metadata": {},
   "outputs": [
    {
     "name": "stderr",
     "output_type": "stream",
     "text": [
      "100%|██████████| 1/1 [00:00<00:00, 35.29it/s]"
     ]
    },
    {
     "name": "stdout",
     "output_type": "stream",
     "text": [
      "6\n",
      "4\n",
      "4\n",
      "4\n",
      "4\n",
      "4\n",
      "2\n",
      "2\n",
      "2\n",
      "2\n",
      "2\n",
      "2\n",
      "2\n",
      "2\n",
      "2\n",
      "2\n",
      "                                  0\n",
      "0  Decision [(0.000000,0.000000,0)]\n",
      "1  Decision [(0.500000,0.000000,0)]\n",
      "2  Decision [(1.000000,0.000000,0)]\n",
      "3  Decision [(1.500000,0.000000,0)]\n",
      "4  Decision [(2.000000,0.000000,0)]\n",
      "5  Decision [(2.500000,0.000000,0)]\n"
     ]
    },
    {
     "name": "stderr",
     "output_type": "stream",
     "text": [
      "\n"
     ]
    }
   ],
   "source": [
    "# (3) Derive decision space\n",
    "from tqdm import tqdm\n",
    "dec = {}\n",
    "\n",
    "for s in tqdm(sts[\"obj\"].head(1)):\n",
    "    dec[s.getKey()] = g.constructDecisions(s)\n",
    "\n",
    "#print(sts.iloc[0])\n",
    "#print(dec)\n",
    "print(pd.DataFrame([x.__str__() for x in dec[sts.loc[0, \"obj\"].getKey()]]))"
   ]
  },
  {
   "cell_type": "code",
   "execution_count": 84,
   "metadata": {
    "scrolled": true
   },
   "outputs": [
    {
     "name": "stdout",
     "output_type": "stream",
     "text": [
      "0.0\n",
      "State t=0[(10.0,0.0, 0.0,0.0,0.0) - False - (0.000000, 0.000000)]\n",
      "Decision [(2.500000,0.000000,0)]\n",
      "Trip                y\n",
      "Length              0\n",
      "Price              10\n",
      "p         7.68354e-05\n",
      "Name: 0, dtype: object\n",
      "\n",
      "State t=1[(12.25,0.0, 0,10,10) - False - (0.000000, 0.000000)]\n"
     ]
    }
   ],
   "source": [
    "# Perform transitions\n",
    "\n",
    "from modules.transition import Transition\n",
    "from src.modules.probabilities import Probabilities\n",
    "\n",
    "np.random.seed(14)\n",
    "\n",
    "prob = Probabilities()\n",
    "ex_inf = prob.getProbabilities(300).loc[0,:]\n",
    "t = Transition(None, sts.loc[0, \"obj\"], dec[sts.loc[0,\"obj\"].getKey()][-1], ex_inf[\"p\"], ex_inf[0:3])\n",
    "\n",
    "\n",
    "print(sts.loc[0, \"obj\"])\n",
    "print(dec[sts.loc[0,\"obj\"].getKey()][-1])\n",
    "print(ex_inf)\n",
    "print()\n",
    "print(t.get_s_d().__str__())"
   ]
  },
  {
   "cell_type": "code",
   "execution_count": 78,
   "metadata": {},
   "outputs": [
    {
     "name": "stderr",
     "output_type": "stream",
     "text": [
      "16967it [00:00, 169655.20it/s]"
     ]
    },
    {
     "name": "stdout",
     "output_type": "stream",
     "text": [
      "4782996\n"
     ]
    },
    {
     "name": "stderr",
     "output_type": "stream",
     "text": [
      "4782996it [00:25, 189523.49it/s]\n"
     ]
    },
    {
     "name": "stdout",
     "output_type": "stream",
     "text": [
      "6\n",
      "4\n",
      "4\n",
      "4\n",
      "4\n",
      "4\n",
      "2\n",
      "2\n",
      "2\n",
      "2\n",
      "2\n",
      "2\n",
      "2\n",
      "2\n",
      "2\n",
      "2\n"
     ]
    },
    {
     "ename": "TypeError",
     "evalue": "unhashable type: 'State'",
     "output_type": "error",
     "traceback": [
      "\u001b[0;31m\u001b[0m",
      "\u001b[0;31mTypeError\u001b[0mTraceback (most recent call last)",
      "\u001b[0;32m<ipython-input-78-bea15de03aa8>\u001b[0m in \u001b[0;36m<module>\u001b[0;34m\u001b[0m\n\u001b[1;32m      1\u001b[0m \u001b[0;32mfrom\u001b[0m \u001b[0msrc\u001b[0m\u001b[0;34m.\u001b[0m\u001b[0mmodules\u001b[0m\u001b[0;34m.\u001b[0m\u001b[0mapp\u001b[0m \u001b[0;32mimport\u001b[0m \u001b[0mApp\u001b[0m\u001b[0;34m\u001b[0m\u001b[0;34m\u001b[0m\u001b[0m\n\u001b[1;32m      2\u001b[0m \u001b[0;34m\u001b[0m\u001b[0m\n\u001b[0;32m----> 3\u001b[0;31m \u001b[0ma\u001b[0m \u001b[0;34m=\u001b[0m \u001b[0mApp\u001b[0m\u001b[0;34m(\u001b[0m\u001b[0;34m)\u001b[0m\u001b[0;34m\u001b[0m\u001b[0;34m\u001b[0m\u001b[0m\n\u001b[0m\u001b[1;32m      4\u001b[0m \u001b[0ma\u001b[0m\u001b[0;34m.\u001b[0m\u001b[0mvalueIteration\u001b[0m\u001b[0;34m(\u001b[0m\u001b[0;34m)\u001b[0m\u001b[0;34m\u001b[0m\u001b[0;34m\u001b[0m\u001b[0m\n",
      "\u001b[0;32m/usr/app/src/modules/app.py\u001b[0m in \u001b[0;36m__init__\u001b[0;34m(self)\u001b[0m\n\u001b[1;32m     34\u001b[0m         \u001b[0;31m# For each state all decisions\u001b[0m\u001b[0;34m\u001b[0m\u001b[0;34m\u001b[0m\u001b[0;34m\u001b[0m\u001b[0m\n\u001b[1;32m     35\u001b[0m         \u001b[0;32mfor\u001b[0m \u001b[0ms\u001b[0m \u001b[0;32min\u001b[0m \u001b[0mself\u001b[0m\u001b[0;34m.\u001b[0m\u001b[0mdfStates\u001b[0m\u001b[0;34m[\u001b[0m\u001b[0;34m\"obj\"\u001b[0m\u001b[0;34m]\u001b[0m\u001b[0;34m:\u001b[0m\u001b[0;34m\u001b[0m\u001b[0;34m\u001b[0m\u001b[0m\n\u001b[0;32m---> 36\u001b[0;31m             \u001b[0mself\u001b[0m\u001b[0;34m.\u001b[0m\u001b[0mdecisions\u001b[0m\u001b[0;34m[\u001b[0m\u001b[0ms\u001b[0m\u001b[0;34m]\u001b[0m \u001b[0;34m=\u001b[0m \u001b[0mg\u001b[0m\u001b[0;34m.\u001b[0m\u001b[0mconstructDecisions\u001b[0m\u001b[0;34m(\u001b[0m\u001b[0ms\u001b[0m\u001b[0;34m)\u001b[0m\u001b[0;34m\u001b[0m\u001b[0;34m\u001b[0m\u001b[0m\n\u001b[0m\u001b[1;32m     37\u001b[0m \u001b[0;34m\u001b[0m\u001b[0m\n\u001b[1;32m     38\u001b[0m \u001b[0;34m\u001b[0m\u001b[0m\n",
      "\u001b[0;31mTypeError\u001b[0m: unhashable type: 'State'"
     ]
    }
   ],
   "source": [
    "from src.modules.app import App\n",
    "\n",
    "a = App()\n",
    "a.valueIteration()"
   ]
  }
 ],
 "metadata": {
  "kernelspec": {
   "display_name": "Python 3",
   "language": "python",
   "name": "python3"
  },
  "language_info": {
   "codemirror_mode": {
    "name": "ipython",
    "version": 3
   },
   "file_extension": ".py",
   "mimetype": "text/x-python",
   "name": "python",
   "nbconvert_exporter": "python",
   "pygments_lexer": "ipython3",
   "version": "3.8.5"
  }
 },
 "nbformat": 4,
 "nbformat_minor": 2
}
