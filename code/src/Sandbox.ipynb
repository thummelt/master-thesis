{
 "cells": [
  {
   "cell_type": "code",
   "execution_count": 2,
   "metadata": {
    "scrolled": false
   },
   "outputs": [],
   "source": [
    "import seaborn as sns \n",
    "import pandas as pd\n",
    "import matplotlib.pyplot as plt\n",
    "import numpy as np\n",
    "from fnmatch import fnmatch\n",
    "import itertools\n",
    "\n",
    "%load_ext autoreload\n",
    "%autoreload 2\n",
    "\n",
    "from src.modules.probabilities import Probabilities\n",
    "import modules.generator as g\n",
    "from modules.transition import Transition\n",
    "from src.modules.solutionAlgorithms import SolutionAlgorithms\n",
    "from src.modules.app import App\n",
    "from src.modules import constants as con\n",
    "from src.modules.analysis import Analysis\n",
    "from src.modules.analysis import analyseValue, createScenarios, runScen\n"
   ]
  },
  {
   "cell_type": "code",
   "execution_count": 5,
   "metadata": {},
   "outputs": [
    {
     "data": {
      "text/html": [
       "<div>\n",
       "<style scoped>\n",
       "    .dataframe tbody tr th:only-of-type {\n",
       "        vertical-align: middle;\n",
       "    }\n",
       "\n",
       "    .dataframe tbody tr th {\n",
       "        vertical-align: top;\n",
       "    }\n",
       "\n",
       "    .dataframe thead th {\n",
       "        text-align: right;\n",
       "    }\n",
       "</style>\n",
       "<table border=\"1\" class=\"dataframe\">\n",
       "  <thead>\n",
       "    <tr style=\"text-align: right;\">\n",
       "      <th></th>\n",
       "      <th>s_key</th>\n",
       "      <th>s_obj</th>\n",
       "      <th>t</th>\n",
       "      <th>value</th>\n",
       "    </tr>\n",
       "  </thead>\n",
       "  <tbody>\n",
       "    <tr>\n",
       "      <th>1210969</th>\n",
       "      <td>1,37.8,0.0,0.0,0.031,0.036</td>\n",
       "      <td>State t=1[(37.8,0.0,0.0,0.031,0.036) - False -...</td>\n",
       "      <td>1</td>\n",
       "      <td>-0.026850</td>\n",
       "    </tr>\n",
       "    <tr>\n",
       "      <th>1210971</th>\n",
       "      <td>1,37.8,0.0,0.0,0.038,0.03</td>\n",
       "      <td>State t=1[(37.8,0.0,0.0,0.038,0.03) - False - ...</td>\n",
       "      <td>1</td>\n",
       "      <td>-0.071503</td>\n",
       "    </tr>\n",
       "    <tr>\n",
       "      <th>1210972</th>\n",
       "      <td>1,37.8,0.0,0.0,0.038,0.036</td>\n",
       "      <td>State t=1[(37.8,0.0,0.0,0.038,0.036) - False -...</td>\n",
       "      <td>1</td>\n",
       "      <td>-0.073660</td>\n",
       "    </tr>\n",
       "    <tr>\n",
       "      <th>1210973</th>\n",
       "      <td>1,37.8,0.0,0.0,0.038,0.042</td>\n",
       "      <td>State t=1[(37.8,0.0,0.0,0.038,0.042) - False -...</td>\n",
       "      <td>1</td>\n",
       "      <td>-0.058985</td>\n",
       "    </tr>\n",
       "    <tr>\n",
       "      <th>1210974</th>\n",
       "      <td>1,37.8,0.0,0.0,0.046,0.03</td>\n",
       "      <td>State t=1[(37.8,0.0,0.0,0.046,0.03) - False - ...</td>\n",
       "      <td>1</td>\n",
       "      <td>-0.017411</td>\n",
       "    </tr>\n",
       "    <tr>\n",
       "      <th>...</th>\n",
       "      <td>...</td>\n",
       "      <td>...</td>\n",
       "      <td>...</td>\n",
       "      <td>...</td>\n",
       "    </tr>\n",
       "    <tr>\n",
       "      <th>3040492</th>\n",
       "      <td>2,39.7,0.0,0.0,0.034,0.033</td>\n",
       "      <td>State t=2[(39.7,0.0,0.0,0.034,0.033) - False -...</td>\n",
       "      <td>2</td>\n",
       "      <td>-0.005897</td>\n",
       "    </tr>\n",
       "    <tr>\n",
       "      <th>3040495</th>\n",
       "      <td>2,39.7,0.0,0.0,0.043,0.033</td>\n",
       "      <td>State t=2[(39.7,0.0,0.0,0.043,0.033) - False -...</td>\n",
       "      <td>2</td>\n",
       "      <td>-0.003225</td>\n",
       "    </tr>\n",
       "    <tr>\n",
       "      <th>3044848</th>\n",
       "      <td>2,39.8,0.0,0.0,0.034,0.033</td>\n",
       "      <td>State t=2[(39.8,0.0,0.0,0.034,0.033) - False -...</td>\n",
       "      <td>2</td>\n",
       "      <td>-0.001700</td>\n",
       "    </tr>\n",
       "    <tr>\n",
       "      <th>3044851</th>\n",
       "      <td>2,39.8,0.0,0.0,0.043,0.033</td>\n",
       "      <td>State t=2[(39.8,0.0,0.0,0.043,0.033) - False -...</td>\n",
       "      <td>2</td>\n",
       "      <td>-0.002150</td>\n",
       "    </tr>\n",
       "    <tr>\n",
       "      <th>3494421</th>\n",
       "      <td>0,40.0,0.0,0.0,0.044,0.039</td>\n",
       "      <td>State t=0[(40.0,0.0,0.0,0.044,0.039) - False -...</td>\n",
       "      <td>0</td>\n",
       "      <td>0.017703</td>\n",
       "    </tr>\n",
       "  </tbody>\n",
       "</table>\n",
       "<p>212 rows × 4 columns</p>\n",
       "</div>"
      ],
      "text/plain": [
       "                              s_key  \\\n",
       "1210969  1,37.8,0.0,0.0,0.031,0.036   \n",
       "1210971   1,37.8,0.0,0.0,0.038,0.03   \n",
       "1210972  1,37.8,0.0,0.0,0.038,0.036   \n",
       "1210973  1,37.8,0.0,0.0,0.038,0.042   \n",
       "1210974   1,37.8,0.0,0.0,0.046,0.03   \n",
       "...                             ...   \n",
       "3040492  2,39.7,0.0,0.0,0.034,0.033   \n",
       "3040495  2,39.7,0.0,0.0,0.043,0.033   \n",
       "3044848  2,39.8,0.0,0.0,0.034,0.033   \n",
       "3044851  2,39.8,0.0,0.0,0.043,0.033   \n",
       "3494421  0,40.0,0.0,0.0,0.044,0.039   \n",
       "\n",
       "                                                     s_obj  t     value  \n",
       "1210969  State t=1[(37.8,0.0,0.0,0.031,0.036) - False -...  1 -0.026850  \n",
       "1210971  State t=1[(37.8,0.0,0.0,0.038,0.03) - False - ...  1 -0.071503  \n",
       "1210972  State t=1[(37.8,0.0,0.0,0.038,0.036) - False -...  1 -0.073660  \n",
       "1210973  State t=1[(37.8,0.0,0.0,0.038,0.042) - False -...  1 -0.058985  \n",
       "1210974  State t=1[(37.8,0.0,0.0,0.046,0.03) - False - ...  1 -0.017411  \n",
       "...                                                    ... ..       ...  \n",
       "3040492  State t=2[(39.7,0.0,0.0,0.034,0.033) - False -...  2 -0.005897  \n",
       "3040495  State t=2[(39.7,0.0,0.0,0.043,0.033) - False -...  2 -0.003225  \n",
       "3044848  State t=2[(39.8,0.0,0.0,0.034,0.033) - False -...  2 -0.001700  \n",
       "3044851  State t=2[(39.8,0.0,0.0,0.043,0.033) - False -...  2 -0.002150  \n",
       "3494421  State t=0[(40.0,0.0,0.0,0.044,0.039) - False -...  0  0.017703  \n",
       "\n",
       "[212 rows x 4 columns]"
      ]
     },
     "execution_count": 5,
     "metadata": {},
     "output_type": "execute_result"
    }
   ],
   "source": [
    "df = pd.read_pickle(\"/usr/app/output/xlsx/adp/20210706-2/[adp-(1000 None)]-[3-20]-lookup.pkl\")\n",
    "\n",
    "df[df[\"value\"] != 0]"
   ]
  },
  {
   "cell_type": "code",
   "execution_count": 47,
   "metadata": {},
   "outputs": [
    {
     "name": "stdout",
     "output_type": "stream",
     "text": [
      "0\n",
      "1\n",
      "1\n",
      "2\n"
     ]
    }
   ],
   "source": [
    "for i,b in enumerate([1,2]):\n",
    "    print(i)\n",
    "    print(b)"
   ]
  },
  {
   "cell_type": "code",
   "execution_count": 42,
   "metadata": {},
   "outputs": [
    {
     "data": {
      "text/plain": [
       "[1, 3, 5, 7]"
      ]
     },
     "execution_count": 42,
     "metadata": {},
     "output_type": "execute_result"
    }
   ],
   "source": [
    "[1,2,3,4,5,6,7,8][::2]"
   ]
  },
  {
   "cell_type": "code",
   "execution_count": 7,
   "metadata": {},
   "outputs": [
    {
     "data": {
      "text/plain": [
       "'h-(2,)'"
      ]
     },
     "execution_count": 7,
     "metadata": {},
     "output_type": "execute_result"
    }
   ],
   "source": [
    "t = (1,2)\n",
    "text = \"h\"\n",
    "text + \"-\"+str(t[1:])"
   ]
  },
  {
   "cell_type": "code",
   "execution_count": null,
   "metadata": {},
   "outputs": [],
   "source": [
    "df_prc_b = pd.read_pickle(\"/usr/app/data/probabilities/d_prc_b.pkl\")\n",
    "df_prc_s = pd.read_pickle(\"/usr/app/data/probabilities/d_prc_s.pkl\")\n",
    "df4 = pd.merge(df_prc_b,df_prc_s, on=[\"t\"], suffixes=(\"_b\", \"_s\")).loc[:,[\"t\",\"prc_b\", \"prc_s\"]]\n",
    "df4.rename(columns={\"prc_b\":\"P_B\", \"prc_s\":\"P_S\"}, inplace=True)\n",
    "df4[\"t\"] = df4[\"t\"]/int(60*con.tau)\n",
    "df4"
   ]
  },
  {
   "cell_type": "code",
   "execution_count": 27,
   "metadata": {},
   "outputs": [
    {
     "ename": "KeyError",
     "evalue": "'0,4.0,0.0,0.0,0.044,0.039'",
     "output_type": "error",
     "traceback": [
      "\u001b[0;31m\u001b[0m",
      "\u001b[0;31mKeyError\u001b[0mTraceback (most recent call last)",
      "\u001b[0;32m/opt/conda/envs/ma-simulation/lib/python3.8/site-packages/pandas/core/indexes/base.py\u001b[0m in \u001b[0;36mget_loc\u001b[0;34m(self, key, method, tolerance)\u001b[0m\n\u001b[1;32m   2894\u001b[0m             \u001b[0;32mtry\u001b[0m\u001b[0;34m:\u001b[0m\u001b[0;34m\u001b[0m\u001b[0;34m\u001b[0m\u001b[0m\n\u001b[0;32m-> 2895\u001b[0;31m                 \u001b[0;32mreturn\u001b[0m \u001b[0mself\u001b[0m\u001b[0;34m.\u001b[0m\u001b[0m_engine\u001b[0m\u001b[0;34m.\u001b[0m\u001b[0mget_loc\u001b[0m\u001b[0;34m(\u001b[0m\u001b[0mcasted_key\u001b[0m\u001b[0;34m)\u001b[0m\u001b[0;34m\u001b[0m\u001b[0;34m\u001b[0m\u001b[0m\n\u001b[0m\u001b[1;32m   2896\u001b[0m             \u001b[0;32mexcept\u001b[0m \u001b[0mKeyError\u001b[0m \u001b[0;32mas\u001b[0m \u001b[0merr\u001b[0m\u001b[0;34m:\u001b[0m\u001b[0;34m\u001b[0m\u001b[0;34m\u001b[0m\u001b[0m\n",
      "\u001b[0;32mpandas/_libs/index.pyx\u001b[0m in \u001b[0;36mpandas._libs.index.IndexEngine.get_loc\u001b[0;34m()\u001b[0m\n",
      "\u001b[0;32mpandas/_libs/index.pyx\u001b[0m in \u001b[0;36mpandas._libs.index.IndexEngine.get_loc\u001b[0;34m()\u001b[0m\n",
      "\u001b[0;32mpandas/_libs/hashtable_class_helper.pxi\u001b[0m in \u001b[0;36mpandas._libs.hashtable.PyObjectHashTable.get_item\u001b[0;34m()\u001b[0m\n",
      "\u001b[0;32mpandas/_libs/hashtable_class_helper.pxi\u001b[0m in \u001b[0;36mpandas._libs.hashtable.PyObjectHashTable.get_item\u001b[0;34m()\u001b[0m\n",
      "\u001b[0;31mKeyError\u001b[0m: '0,4.0,0.0,0.0,0.044,0.039'",
      "\nThe above exception was the direct cause of the following exception:\n",
      "\u001b[0;31mKeyError\u001b[0mTraceback (most recent call last)",
      "\u001b[0;32m<ipython-input-27-e80bfadc9984>\u001b[0m in \u001b[0;36m<module>\u001b[0;34m\u001b[0m\n\u001b[0;32m----> 1\u001b[0;31m \u001b[0mdf_s\u001b[0m\u001b[0;34m[\u001b[0m\u001b[0;34m'0,4.0,0.0,0.0,0.044,0.039'\u001b[0m\u001b[0;34m]\u001b[0m\u001b[0;34m\u001b[0m\u001b[0;34m\u001b[0m\u001b[0m\n\u001b[0m\u001b[1;32m      2\u001b[0m \u001b[0;31m#'0,4.0,0.0,0.0,0.044,0.039'\u001b[0m\u001b[0;34m\u001b[0m\u001b[0;34m\u001b[0m\u001b[0;34m\u001b[0m\u001b[0m\n",
      "\u001b[0;32m/opt/conda/envs/ma-simulation/lib/python3.8/site-packages/pandas/core/frame.py\u001b[0m in \u001b[0;36m__getitem__\u001b[0;34m(self, key)\u001b[0m\n\u001b[1;32m   2900\u001b[0m             \u001b[0;32mif\u001b[0m \u001b[0mself\u001b[0m\u001b[0;34m.\u001b[0m\u001b[0mcolumns\u001b[0m\u001b[0;34m.\u001b[0m\u001b[0mnlevels\u001b[0m \u001b[0;34m>\u001b[0m \u001b[0;36m1\u001b[0m\u001b[0;34m:\u001b[0m\u001b[0;34m\u001b[0m\u001b[0;34m\u001b[0m\u001b[0m\n\u001b[1;32m   2901\u001b[0m                 \u001b[0;32mreturn\u001b[0m \u001b[0mself\u001b[0m\u001b[0;34m.\u001b[0m\u001b[0m_getitem_multilevel\u001b[0m\u001b[0;34m(\u001b[0m\u001b[0mkey\u001b[0m\u001b[0;34m)\u001b[0m\u001b[0;34m\u001b[0m\u001b[0;34m\u001b[0m\u001b[0m\n\u001b[0;32m-> 2902\u001b[0;31m             \u001b[0mindexer\u001b[0m \u001b[0;34m=\u001b[0m \u001b[0mself\u001b[0m\u001b[0;34m.\u001b[0m\u001b[0mcolumns\u001b[0m\u001b[0;34m.\u001b[0m\u001b[0mget_loc\u001b[0m\u001b[0;34m(\u001b[0m\u001b[0mkey\u001b[0m\u001b[0;34m)\u001b[0m\u001b[0;34m\u001b[0m\u001b[0;34m\u001b[0m\u001b[0m\n\u001b[0m\u001b[1;32m   2903\u001b[0m             \u001b[0;32mif\u001b[0m \u001b[0mis_integer\u001b[0m\u001b[0;34m(\u001b[0m\u001b[0mindexer\u001b[0m\u001b[0;34m)\u001b[0m\u001b[0;34m:\u001b[0m\u001b[0;34m\u001b[0m\u001b[0;34m\u001b[0m\u001b[0m\n\u001b[1;32m   2904\u001b[0m                 \u001b[0mindexer\u001b[0m \u001b[0;34m=\u001b[0m \u001b[0;34m[\u001b[0m\u001b[0mindexer\u001b[0m\u001b[0;34m]\u001b[0m\u001b[0;34m\u001b[0m\u001b[0;34m\u001b[0m\u001b[0m\n",
      "\u001b[0;32m/opt/conda/envs/ma-simulation/lib/python3.8/site-packages/pandas/core/indexes/base.py\u001b[0m in \u001b[0;36mget_loc\u001b[0;34m(self, key, method, tolerance)\u001b[0m\n\u001b[1;32m   2895\u001b[0m                 \u001b[0;32mreturn\u001b[0m \u001b[0mself\u001b[0m\u001b[0;34m.\u001b[0m\u001b[0m_engine\u001b[0m\u001b[0;34m.\u001b[0m\u001b[0mget_loc\u001b[0m\u001b[0;34m(\u001b[0m\u001b[0mcasted_key\u001b[0m\u001b[0;34m)\u001b[0m\u001b[0;34m\u001b[0m\u001b[0;34m\u001b[0m\u001b[0m\n\u001b[1;32m   2896\u001b[0m             \u001b[0;32mexcept\u001b[0m \u001b[0mKeyError\u001b[0m \u001b[0;32mas\u001b[0m \u001b[0merr\u001b[0m\u001b[0;34m:\u001b[0m\u001b[0;34m\u001b[0m\u001b[0;34m\u001b[0m\u001b[0m\n\u001b[0;32m-> 2897\u001b[0;31m                 \u001b[0;32mraise\u001b[0m \u001b[0mKeyError\u001b[0m\u001b[0;34m(\u001b[0m\u001b[0mkey\u001b[0m\u001b[0;34m)\u001b[0m \u001b[0;32mfrom\u001b[0m \u001b[0merr\u001b[0m\u001b[0;34m\u001b[0m\u001b[0;34m\u001b[0m\u001b[0m\n\u001b[0m\u001b[1;32m   2898\u001b[0m \u001b[0;34m\u001b[0m\u001b[0m\n\u001b[1;32m   2899\u001b[0m         \u001b[0;32mif\u001b[0m \u001b[0mtolerance\u001b[0m \u001b[0;32mis\u001b[0m \u001b[0;32mnot\u001b[0m \u001b[0;32mNone\u001b[0m\u001b[0;34m:\u001b[0m\u001b[0;34m\u001b[0m\u001b[0;34m\u001b[0m\u001b[0m\n",
      "\u001b[0;31mKeyError\u001b[0m: '0,4.0,0.0,0.0,0.044,0.039'"
     ]
    }
   ],
   "source": [
    "df_s['0,4.0,0.0,0.0,0.044,0.039']\n",
    "#'0,4.0,0.0,0.0,0.044,0.039'"
   ]
  },
  {
   "cell_type": "code",
   "execution_count": 20,
   "metadata": {},
   "outputs": [],
   "source": [
    "df_s = pd.read_pickle(\"/usr/app/data/tmp/viDFStates.pkl\") \n",
    "#df_s.index.values.tolist()\n",
    "\n",
    "#df_t = pd.read_pickle(\"/usr/app/data/tmp/constructTrans.pkl\") \n"
   ]
  },
  {
   "cell_type": "code",
   "execution_count": null,
   "metadata": {},
   "outputs": [],
   "source": [
    "list(filter(lambda s: (s[0] == '1') & (s[2]==\"4\") &  (s[-1]==\"3\"), df_s.index.tolist()))"
   ]
  },
  {
   "cell_type": "code",
   "execution_count": null,
   "metadata": {},
   "outputs": [],
   "source": [
    "df_t[[\"s_key\",\"d_key\",\"trpstrt\",\"trpln\",\"prc_b\",\"prc_s\",\"s_d_key\"]].head()\n",
    "         #.isin(df_s.index.values.tolist()),[\"s_key\",\"d_key\",\"trpstrt\",\"trpln\",\"prc_b\",\"prc_s\",\"s_d_key\"]]"
   ]
  },
  {
   "cell_type": "code",
   "execution_count": null,
   "metadata": {},
   "outputs": [],
   "source": [
    "df = pd.read_pickle(\"/usr/app/data/tmp/viInputDf.pkl\")\n",
    "df_states = pd.read_pickle(\"/usr/app/data/tmp/viDFStates.pkl\")\n",
    "#sol = SolutionAlgorithms()\n",
    "#cont = sol.performStandardVI(df, df_states[\"s_obj\"].to_dict())\n",
    "print(df.shape)\n",
    "print(df_states.shape)\n",
    "\n"
   ]
  },
  {
   "cell_type": "code",
   "execution_count": null,
   "metadata": {},
   "outputs": [],
   "source": [
    "df.loc[(df[\"d_obj\"].apply(lambda d: d.get_x_t() == 1)) & (df[\"s_obj\"].apply(lambda s: (s.get_D() > 0) & (s.get_t() == 1))), [\"s_key\", \"d_key\", \"s_d_key\"]]\n",
    "#print(df.loc[(df[\"s_key\"]== \"(1,5.0,9.5,21.5,0.1,0.1)\")])\n",
    "#print(df_states)"
   ]
  },
  {
   "cell_type": "code",
   "execution_count": 65,
   "metadata": {},
   "outputs": [
    {
     "name": "stdout",
     "output_type": "stream",
     "text": [
      "0.8\n"
     ]
    }
   ],
   "source": [
    "#print(len(df_states[df_states[\"s_obj\"].apply(lambda s: (s.get_isTerminal()) )]))\n",
    "import math\n",
    "print(round(0.779,1) )"
   ]
  },
  {
   "cell_type": "code",
   "execution_count": 275,
   "metadata": {},
   "outputs": [
    {
     "data": {
      "text/html": [
       "<div>\n",
       "<style scoped>\n",
       "    .dataframe tbody tr th:only-of-type {\n",
       "        vertical-align: middle;\n",
       "    }\n",
       "\n",
       "    .dataframe tbody tr th {\n",
       "        vertical-align: top;\n",
       "    }\n",
       "\n",
       "    .dataframe thead th {\n",
       "        text-align: right;\n",
       "    }\n",
       "</style>\n",
       "<table border=\"1\" class=\"dataframe\">\n",
       "  <thead>\n",
       "    <tr style=\"text-align: right;\">\n",
       "      <th></th>\n",
       "      <th>d_key</th>\n",
       "      <th>s_key</th>\n",
       "      <th>d_obj</th>\n",
       "    </tr>\n",
       "  </thead>\n",
       "  <tbody>\n",
       "    <tr>\n",
       "      <th>44</th>\n",
       "      <td>2.2,0.0,0</td>\n",
       "      <td>1,1.8,0.0,22.5,0.031,0.042</td>\n",
       "      <td>Decision [(2.2,0.0,0)]</td>\n",
       "    </tr>\n",
       "  </tbody>\n",
       "</table>\n",
       "</div>"
      ],
      "text/plain": [
       "        d_key                       s_key                   d_obj\n",
       "44  2.2,0.0,0  1,1.8,0.0,22.5,0.031,0.042  Decision [(2.2,0.0,0)]"
      ]
     },
     "execution_count": 275,
     "metadata": {},
     "output_type": "execute_result"
    }
   ],
   "source": [
    "from modules.state import State\n",
    "con.T = 2\n",
    "#State(1,5.0,0.0,0.0,0.046,0.042)\n",
    "g.constructDecisions(State(1,1.8,0.0,22.5,0.031,0.042), g.decisionSpace())"
   ]
  },
  {
   "cell_type": "code",
   "execution_count": null,
   "metadata": {},
   "outputs": [],
   "source": [
    "print(df_states[(~df_states.index.to_series().isin(df[\"s_key\"])) & (df_states[\"s_obj\"].apply(lambda s: (not s.get_isTerminal()) & (s.get_V_TA() == 1) & (s.get_B_L() > 3.9)))])\n",
    "print(len(df_states[(~df_states.index.to_series().isin(df[\"s_key\"]))]))\n",
    "print(df.loc[(df[\"s_key\"].apply(lambda k: fnmatch(k, \"(1,5.0,1,20.5,0.1,0.1)\")))])\n",
    "df_states.loc['(2,3.0,0,0.0,0.0,0.0)']"
   ]
  },
  {
   "cell_type": "code",
   "execution_count": null,
   "metadata": {},
   "outputs": [],
   "source": [
    "#df_states.head()\n",
    "df_states.loc['(1,1.0,0,0.0,0.0,0.0)']\n",
    "df.loc[(df[\"s_key\"].apply(lambda k: fnmatch(k, \"(?,1.?,0,0.0,0.0,0.0)\")))]"
   ]
  },
  {
   "cell_type": "code",
   "execution_count": null,
   "metadata": {},
   "outputs": [],
   "source": [
    "print(cont[\"cont\"].describe())\n",
    "cont.loc[(cont.cont.astype(float)<= -2150.220000),[\"s_key\",\"d_key\",\"cont\"]]\n",
    "\n",
    "cont.loc[(cont[\"s_key\"].apply(lambda k: fnmatch(k, \"(0,?.?,0,0.0,0.?,0.1)\"))) & \\\n",
    "         (cont[\"d_key\"].apply(lambda k: fnmatch(k, \"(0.?,0.?,0)\"))) & \\\n",
    "         (cont[\"cont\"] == 0.02),[\"s_key\",\"d_key\"]]"
   ]
  },
  {
   "cell_type": "code",
   "execution_count": 113,
   "metadata": {},
   "outputs": [
    {
     "data": {
      "text/plain": [
       "0    0.2\n",
       "1    0.4\n",
       "2    0.4\n",
       "dtype: float64"
      ]
     },
     "execution_count": 113,
     "metadata": {},
     "output_type": "execute_result"
    }
   ],
   "source": [
    "array = pd.Series([0.1,0.2,0.2])\n",
    "np.divide(array, array.sum())"
   ]
  },
  {
   "cell_type": "code",
   "execution_count": 103,
   "metadata": {},
   "outputs": [
    {
     "name": "stdout",
     "output_type": "stream",
     "text": [
      "[1 1 1 1 2 0 2 2 0 1]\n"
     ]
    },
    {
     "data": {
      "text/plain": [
       "8"
      ]
     },
     "execution_count": 103,
     "metadata": {},
     "output_type": "execute_result"
    }
   ],
   "source": [
    "samples = 10\n",
    "df_p = pd.DataFrame([[1,2,3,0.1], [1,5,6,0.4], [1,8,9,0.5]], columns=[\"a\",\"b\",\"c\",\"p\"])\n",
    "rand = np.random.choice(np.arange(0, len(df_p.index)), size=samples, replace=True, p=df_p[\"p\"].tolist())\n",
    "print(rand)\n",
    "df_p = df_p.loc[rand]\n",
    "df_p[\"p\"] = 1/samples\n",
    "#df_p = df_p.loc[df_p.a == 7,:]\n",
    "df_p = df_p.groupby([\"a\"])[\"b\"].max()\n",
    "#type(df_p)\n",
    "df_p.loc[1]"
   ]
  },
  {
   "cell_type": "code",
   "execution_count": 118,
   "metadata": {},
   "outputs": [
    {
     "data": {
      "text/plain": [
       "0       0,4.0,0.0,0.0,0.037,0.032\n",
       "1       0,4.0,0.0,0.0,0.037,0.039\n",
       "2       0,4.0,0.0,0.0,0.037,0.046\n",
       "3       0,4.0,0.0,0.0,0.044,0.032\n",
       "5       0,4.0,0.0,0.0,0.044,0.046\n",
       "                  ...            \n",
       "6394    2,5.0,0.0,0.0,0.034,0.033\n",
       "6395    2,5.0,0.0,0.0,0.034,0.041\n",
       "6396    2,5.0,0.0,0.0,0.043,0.025\n",
       "6397    2,5.0,0.0,0.0,0.043,0.033\n",
       "6398    2,5.0,0.0,0.0,0.043,0.041\n",
       "Name: s_key, Length: 6395, dtype: object"
      ]
     },
     "execution_count": 118,
     "metadata": {},
     "output_type": "execute_result"
    }
   ],
   "source": [
    "best_dec = pd.read_pickle(\"/usr/app/output/df/adp_best_decisions.pkl\")\n",
    "best_dec.loc[best_dec.d_key.isnull(), \"s_key\"]\n",
    "#best_dec.head(20)"
   ]
  },
  {
   "cell_type": "code",
   "execution_count": null,
   "metadata": {
    "scrolled": true
   },
   "outputs": [],
   "source": [
    "np.random.random(10)\n",
    "#np.hist(np.random.uniform(0,1,10))\n",
    "import seaborn as sns\n",
    "rand = np.random.choice(np.arange(1, 7), size=10000, replace=True, p=[0.01, 0.03, 0.06, 0.2, 0.3, 0.4])\n",
    "sns.displot(x=rand, stat=\"probability\",bins=list(np.arange(1, 7)), height = 7, aspect = 3)"
   ]
  },
  {
   "cell_type": "code",
   "execution_count": 19,
   "metadata": {},
   "outputs": [
    {
     "data": {
      "text/html": [
       "<div>\n",
       "<style scoped>\n",
       "    .dataframe tbody tr th:only-of-type {\n",
       "        vertical-align: middle;\n",
       "    }\n",
       "\n",
       "    .dataframe tbody tr th {\n",
       "        vertical-align: top;\n",
       "    }\n",
       "\n",
       "    .dataframe thead th {\n",
       "        text-align: right;\n",
       "    }\n",
       "</style>\n",
       "<table border=\"1\" class=\"dataframe\">\n",
       "  <thead>\n",
       "    <tr style=\"text-align: right;\">\n",
       "      <th></th>\n",
       "      <th>prc_x</th>\n",
       "      <th>prc_y</th>\n",
       "      <th>p</th>\n",
       "    </tr>\n",
       "  </thead>\n",
       "  <tbody>\n",
       "    <tr>\n",
       "      <th>6</th>\n",
       "      <td>0.051</td>\n",
       "      <td>0.032</td>\n",
       "      <td>0.007094</td>\n",
       "    </tr>\n",
       "    <tr>\n",
       "      <th>0</th>\n",
       "      <td>0.037</td>\n",
       "      <td>0.032</td>\n",
       "      <td>0.008385</td>\n",
       "    </tr>\n",
       "    <tr>\n",
       "      <th>8</th>\n",
       "      <td>0.051</td>\n",
       "      <td>0.046</td>\n",
       "      <td>0.011462</td>\n",
       "    </tr>\n",
       "    <tr>\n",
       "      <th>2</th>\n",
       "      <td>0.037</td>\n",
       "      <td>0.046</td>\n",
       "      <td>0.013549</td>\n",
       "    </tr>\n",
       "    <tr>\n",
       "      <th>3</th>\n",
       "      <td>0.044</td>\n",
       "      <td>0.032</td>\n",
       "      <td>0.058722</td>\n",
       "    </tr>\n",
       "    <tr>\n",
       "      <th>7</th>\n",
       "      <td>0.051</td>\n",
       "      <td>0.039</td>\n",
       "      <td>0.077044</td>\n",
       "    </tr>\n",
       "    <tr>\n",
       "      <th>1</th>\n",
       "      <td>0.037</td>\n",
       "      <td>0.039</td>\n",
       "      <td>0.091067</td>\n",
       "    </tr>\n",
       "    <tr>\n",
       "      <th>5</th>\n",
       "      <td>0.044</td>\n",
       "      <td>0.046</td>\n",
       "      <td>0.094889</td>\n",
       "    </tr>\n",
       "    <tr>\n",
       "      <th>4</th>\n",
       "      <td>0.044</td>\n",
       "      <td>0.039</td>\n",
       "      <td>0.637789</td>\n",
       "    </tr>\n",
       "  </tbody>\n",
       "</table>\n",
       "</div>"
      ],
      "text/plain": [
       "   prc_x  prc_y         p\n",
       "6  0.051  0.032  0.007094\n",
       "0  0.037  0.032  0.008385\n",
       "8  0.051  0.046  0.011462\n",
       "2  0.037  0.046  0.013549\n",
       "3  0.044  0.032  0.058722\n",
       "7  0.051  0.039  0.077044\n",
       "1  0.037  0.039  0.091067\n",
       "5  0.044  0.046  0.094889\n",
       "4  0.044  0.039  0.637789"
      ]
     },
     "execution_count": 19,
     "metadata": {},
     "output_type": "execute_result"
    }
   ],
   "source": [
    "d_prc_b = pd.read_pickle(\"/usr/app/data/probabilities/d_prc_b.pkl\")\n",
    "d_prc_b.loc[d_prc_b.t == 0]\n",
    "\n",
    "d_prc_s = pd.read_pickle(\"/usr/app/data/probabilities/d_prc_s.pkl\")\n",
    "tmp = pd.merge(d_prc_b.loc[d_prc_b.t == 0], d_prc_s.loc[d_prc_s.t == 0], on=[\"t\"])\n",
    "tmp[\"p\"] = tmp[\"p_x\"]*tmp[\"p_y\"]\n",
    "tmp[[\"prc_x\", \"prc_y\", \"p\"]].sort_values(by=[\"p\"])"
   ]
  },
  {
   "cell_type": "code",
   "execution_count": 36,
   "metadata": {
    "scrolled": true
   },
   "outputs": [
    {
     "data": {
      "text/html": [
       "<div>\n",
       "<style scoped>\n",
       "    .dataframe tbody tr th:only-of-type {\n",
       "        vertical-align: middle;\n",
       "    }\n",
       "\n",
       "    .dataframe tbody tr th {\n",
       "        vertical-align: top;\n",
       "    }\n",
       "\n",
       "    .dataframe thead th {\n",
       "        text-align: right;\n",
       "    }\n",
       "</style>\n",
       "<table border=\"1\" class=\"dataframe\">\n",
       "  <thead>\n",
       "    <tr style=\"text-align: right;\">\n",
       "      <th></th>\n",
       "      <th>prc_x</th>\n",
       "      <th>prc_y</th>\n",
       "      <th>p</th>\n",
       "    </tr>\n",
       "  </thead>\n",
       "  <tbody>\n",
       "    <tr>\n",
       "      <th>2</th>\n",
       "      <td>0.031</td>\n",
       "      <td>0.042</td>\n",
       "      <td>0.002445</td>\n",
       "    </tr>\n",
       "    <tr>\n",
       "      <th>0</th>\n",
       "      <td>0.031</td>\n",
       "      <td>0.030</td>\n",
       "      <td>0.006526</td>\n",
       "    </tr>\n",
       "    <tr>\n",
       "      <th>8</th>\n",
       "      <td>0.046</td>\n",
       "      <td>0.042</td>\n",
       "      <td>0.011533</td>\n",
       "    </tr>\n",
       "    <tr>\n",
       "      <th>1</th>\n",
       "      <td>0.031</td>\n",
       "      <td>0.036</td>\n",
       "      <td>0.028929</td>\n",
       "    </tr>\n",
       "    <tr>\n",
       "      <th>6</th>\n",
       "      <td>0.046</td>\n",
       "      <td>0.030</td>\n",
       "      <td>0.030789</td>\n",
       "    </tr>\n",
       "    <tr>\n",
       "      <th>5</th>\n",
       "      <td>0.038</td>\n",
       "      <td>0.042</td>\n",
       "      <td>0.050523</td>\n",
       "    </tr>\n",
       "    <tr>\n",
       "      <th>3</th>\n",
       "      <td>0.038</td>\n",
       "      <td>0.030</td>\n",
       "      <td>0.134884</td>\n",
       "    </tr>\n",
       "    <tr>\n",
       "      <th>7</th>\n",
       "      <td>0.046</td>\n",
       "      <td>0.036</td>\n",
       "      <td>0.136478</td>\n",
       "    </tr>\n",
       "    <tr>\n",
       "      <th>4</th>\n",
       "      <td>0.038</td>\n",
       "      <td>0.036</td>\n",
       "      <td>0.597893</td>\n",
       "    </tr>\n",
       "  </tbody>\n",
       "</table>\n",
       "</div>"
      ],
      "text/plain": [
       "   prc_x  prc_y         p\n",
       "2  0.031  0.042  0.002445\n",
       "0  0.031  0.030  0.006526\n",
       "8  0.046  0.042  0.011533\n",
       "1  0.031  0.036  0.028929\n",
       "6  0.046  0.030  0.030789\n",
       "5  0.038  0.042  0.050523\n",
       "3  0.038  0.030  0.134884\n",
       "7  0.046  0.036  0.136478\n",
       "4  0.038  0.036  0.597893"
      ]
     },
     "execution_count": 36,
     "metadata": {},
     "output_type": "execute_result"
    }
   ],
   "source": [
    "d_prc_b = pd.read_pickle(\"/usr/app/data/probabilities/d_prc_b.pkl\")\n",
    "d_prc_b.loc[d_prc_b.t == 0]\n",
    "\n",
    "d_prc_s = pd.read_pickle(\"/usr/app/data/probabilities/d_prc_s.pkl\")\n",
    "tmp = pd.merge(d_prc_b.loc[d_prc_b.t == 15], d_prc_s.loc[d_prc_s.t == 15], on=[\"t\"])\n",
    "tmp[\"p\"] = tmp[\"p_x\"]*tmp[\"p_y\"]\n",
    "tmp[[\"prc_x\", \"prc_y\", \"p\"]].sort_values(by=[\"p\"])"
   ]
  },
  {
   "cell_type": "code",
   "execution_count": 139,
   "metadata": {},
   "outputs": [
    {
     "name": "stdout",
     "output_type": "stream",
     "text": [
      "1\n"
     ]
    }
   ],
   "source": [
    "for i in np.arange(1):\n",
    "    print(1)"
   ]
  },
  {
   "cell_type": "code",
   "execution_count": 135,
   "metadata": {},
   "outputs": [
    {
     "data": {
      "text/html": [
       "<div>\n",
       "<style scoped>\n",
       "    .dataframe tbody tr th:only-of-type {\n",
       "        vertical-align: middle;\n",
       "    }\n",
       "\n",
       "    .dataframe tbody tr th {\n",
       "        vertical-align: top;\n",
       "    }\n",
       "\n",
       "    .dataframe thead th {\n",
       "        text-align: right;\n",
       "    }\n",
       "</style>\n",
       "<table border=\"1\" class=\"dataframe\">\n",
       "  <thead>\n",
       "    <tr style=\"text-align: right;\">\n",
       "      <th></th>\n",
       "      <th>t</th>\n",
       "      <th>p(t)</th>\n",
       "    </tr>\n",
       "  </thead>\n",
       "  <tbody>\n",
       "    <tr>\n",
       "      <th>0</th>\n",
       "      <td>0</td>\n",
       "      <td>0.000969</td>\n",
       "    </tr>\n",
       "    <tr>\n",
       "      <th>1</th>\n",
       "      <td>15</td>\n",
       "      <td>0.000302</td>\n",
       "    </tr>\n",
       "    <tr>\n",
       "      <th>2</th>\n",
       "      <td>30</td>\n",
       "      <td>0.000428</td>\n",
       "    </tr>\n",
       "    <tr>\n",
       "      <th>3</th>\n",
       "      <td>45</td>\n",
       "      <td>0.000201</td>\n",
       "    </tr>\n",
       "    <tr>\n",
       "      <th>4</th>\n",
       "      <td>60</td>\n",
       "      <td>0.000371</td>\n",
       "    </tr>\n",
       "    <tr>\n",
       "      <th>...</th>\n",
       "      <td>...</td>\n",
       "      <td>...</td>\n",
       "    </tr>\n",
       "    <tr>\n",
       "      <th>91</th>\n",
       "      <td>1365</td>\n",
       "      <td>0.001103</td>\n",
       "    </tr>\n",
       "    <tr>\n",
       "      <th>92</th>\n",
       "      <td>1380</td>\n",
       "      <td>0.002388</td>\n",
       "    </tr>\n",
       "    <tr>\n",
       "      <th>93</th>\n",
       "      <td>1395</td>\n",
       "      <td>0.000874</td>\n",
       "    </tr>\n",
       "    <tr>\n",
       "      <th>94</th>\n",
       "      <td>1410</td>\n",
       "      <td>0.001198</td>\n",
       "    </tr>\n",
       "    <tr>\n",
       "      <th>95</th>\n",
       "      <td>1425</td>\n",
       "      <td>0.000685</td>\n",
       "    </tr>\n",
       "  </tbody>\n",
       "</table>\n",
       "<p>96 rows × 2 columns</p>\n",
       "</div>"
      ],
      "text/plain": [
       "       t      p(t)\n",
       "0      0  0.000969\n",
       "1     15  0.000302\n",
       "2     30  0.000428\n",
       "3     45  0.000201\n",
       "4     60  0.000371\n",
       "..   ...       ...\n",
       "91  1365  0.001103\n",
       "92  1380  0.002388\n",
       "93  1395  0.000874\n",
       "94  1410  0.001198\n",
       "95  1425  0.000685\n",
       "\n",
       "[96 rows x 2 columns]"
      ]
     },
     "execution_count": 135,
     "metadata": {},
     "output_type": "execute_result"
    }
   ],
   "source": [
    "d_strttime = pd.read_pickle(\"/usr/app/data/probabilities/trpstrt.pkl\")\n",
    "d_strttime"
   ]
  },
  {
   "cell_type": "code",
   "execution_count": 145,
   "metadata": {
    "scrolled": true
   },
   "outputs": [
    {
     "name": "stdout",
     "output_type": "stream",
     "text": [
      "Index(['trpstrt', 'trpln', 'prc_b', 'prc_s', 'p', 't'], dtype='object')\n",
      "trpstrt  trpln  prc_b  prc_s  p             t   \n",
      "y        39.5   0.055  0.049  6.587879e-08  1365    1\n",
      "         12.5   0.049  0.044  9.470021e-06  1365    1\n",
      "                0.055  0.039  1.843161e-07  1365    1\n",
      "                       0.044  1.166922e-06  1365    1\n",
      "                       0.049  1.976364e-07  1365    1\n",
      "                                                   ..\n",
      "         26.5   0.055  0.044  0.000000e+00  1365    1\n",
      "                       0.049  0.000000e+00  1365    1\n",
      "         27.5   0.044  0.039  0.000000e+00  1365    1\n",
      "                       0.044  0.000000e+00  1365    1\n",
      "         0.5    0.044  0.039  1.638102e-06  1365    1\n",
      "Length: 360, dtype: int64\n",
      "39.5    9\n",
      "38.5    9\n",
      "17.5    9\n",
      "16.5    9\n",
      "15.5    9\n",
      "14.5    9\n",
      "13.5    9\n",
      "12.5    9\n",
      "11.5    9\n",
      "10.5    9\n",
      "9.5     9\n",
      "8.5     9\n",
      "7.5     9\n",
      "6.5     9\n",
      "5.5     9\n",
      "4.5     9\n",
      "3.5     9\n",
      "2.5     9\n",
      "1.5     9\n",
      "18.5    9\n",
      "19.5    9\n",
      "20.5    9\n",
      "30.5    9\n",
      "37.5    9\n",
      "36.5    9\n",
      "35.5    9\n",
      "34.5    9\n",
      "33.5    9\n",
      "32.5    9\n",
      "31.5    9\n",
      "29.5    9\n",
      "21.5    9\n",
      "28.5    9\n",
      "27.5    9\n",
      "26.5    9\n",
      "25.5    9\n",
      "24.5    9\n",
      "23.5    9\n",
      "22.5    9\n",
      "0.5     9\n",
      "Name: trpln, dtype: int64\n",
      "0.9988968130417015\n"
     ]
    },
    {
     "data": {
      "text/plain": [
       "['y', 0.5, 0.044, 0.039, 1.638102457012324e-06, 1365]"
      ]
     },
     "execution_count": 145,
     "metadata": {},
     "output_type": "execute_result"
    }
   ],
   "source": [
    "# (1) Derive Probabilties for transition\n",
    "\n",
    "\n",
    "np.random.seed(1997)\n",
    "prob = Probabilities()\n",
    "\n",
    "p = prob.getProbabilities(1365)\n",
    "print(p.columns)\n",
    "#p = prob.getProbabilitiesSampled(0*con.tau*60,60000)\n",
    "#p.loc[p.trpstrt==\"n\",:].head(20)\n",
    "#sum(p[\"p\"]) # == 1 !\n",
    "#p[\"p\"] = p[\"p\"].cumsum()\n",
    "p.sort_values(by=['p'])\n",
    "print(p.loc[p.trpstrt == \"y\"].value_counts())\n",
    "print(p.loc[p.trpstrt == \"y\", \"trpln\"].value_counts())\n",
    "print(p.loc[p.trpstrt == \"n\", \"p\"].sum())\n",
    "\n",
    "p.iloc[0].tolist()\n",
    "\n",
    "#import seaborn as sns\n",
    "#sns.displot(p, x=\"trpln\", stat=\"density\",bins=np.arange(0, p.trpln.max()+0.5, 0.5), height = 7, aspect = 3)"
   ]
  },
  {
   "cell_type": "code",
   "execution_count": null,
   "metadata": {},
   "outputs": [],
   "source": [
    "from src.modules import constants as con\n",
    "# Construct ex_info data frame for all ts\n",
    "df_p = pd.DataFrame()\n",
    "\n",
    "for t in np.arange(0, 1440, con.tau*60):\n",
    "    df_p = df_p.append(prob.getProbabilities(t))\n",
    "    \n",
    "sum(df_p.loc[df_p.t == 1425.0,\"p\"])"
   ]
  },
  {
   "cell_type": "code",
   "execution_count": 12,
   "metadata": {},
   "outputs": [
    {
     "data": {
      "text/plain": [
       "['0', '4.0', '0.0', '0.0', '0.044', '0.039']"
      ]
     },
     "execution_count": 12,
     "metadata": {},
     "output_type": "execute_result"
    }
   ],
   "source": [
    "params = ('0,4.0,0.0,0.0,0.044,0.039', 1)\n",
    "params[0].split(\",\")"
   ]
  },
  {
   "cell_type": "code",
   "execution_count": 31,
   "metadata": {
    "scrolled": false
   },
   "outputs": [
    {
     "name": "stderr",
     "output_type": "stream",
     "text": [
      "63747it [00:00, 148515.12it/s]\n",
      "62461it [00:00, 197529.36it/s]\n"
     ]
    }
   ],
   "source": [
    "# (2) Derive state space\n",
    "\n",
    "con.T = 2\n",
    "params = ('0,4.0,0.0,0.0,0.044,0.039', 1)\n",
    "# your code here    \n",
    "sts = g.constructStates()\n",
    "sts_par = g.constructStates(params)\n"
   ]
  },
  {
   "cell_type": "code",
   "execution_count": 40,
   "metadata": {},
   "outputs": [
    {
     "name": "stdout",
     "output_type": "stream",
     "text": [
      "Index([ 't',  0.5,  1.5,  2.5,  3.5,  4.5,  5.5,  6.5,  7.5,  8.5,  9.5, 10.5,\n",
      "       11.5, 12.5, 13.5, 14.5, 15.5, 16.5, 17.5, 18.5, 19.5, 20.5, 21.5, 22.5,\n",
      "       23.5, 24.5, 25.5, 26.5, 27.5, 28.5, 29.5, 30.5, 31.5, 32.5, 33.5, 34.5,\n",
      "       35.5, 36.5, 37.5, 38.5, 39.5],\n",
      "      dtype='object')\n",
      "Index(['t', 0.5, 1.5, 2.5, 3.5, 4.5, 5.5, 6.5, 7.5, 8.5, 9.5, 10.5], dtype='object')\n"
     ]
    }
   ],
   "source": [
    "tmp = pd.read_pickle(\"/usr/app/data/probabilities/trplen.pkl\")\n",
    "print(tmp.columns)\n",
    "tmp = tmp.loc[:,[True] + [float(c) <= con.trip_max for c in tmp.columns[1:]]]\n",
    "print(tmp.columns)"
   ]
  },
  {
   "cell_type": "code",
   "execution_count": 33,
   "metadata": {},
   "outputs": [
    {
     "name": "stdout",
     "output_type": "stream",
     "text": [
      "                            s_key  \\\n",
      "124722  0,4.0,0.0,0.0,0.044,0.039   \n",
      "\n",
      "                                                    s_obj  \n",
      "124722  State t=0[(4.0,0.0,0.0,0.044,0.039) - False - ...  \n"
     ]
    }
   ],
   "source": [
    "#print(len(sts.loc[sts.s_obj.apply(lambda s: s.get_t() == 0), \"s_key\"]))\n",
    "#print(sts_par.loc[sts_par.s_obj.apply(lambda s: s.get_t() == 0), \"s_key\"])\n",
    "print(sts_par.loc[sts_par.s_key == '0,4.0,0.0,0.0,0.044,0.039'])"
   ]
  },
  {
   "cell_type": "code",
   "execution_count": null,
   "metadata": {},
   "outputs": [],
   "source": [
    "sts.head()\n",
    "len(sts[(sts[\"V_TA\"] == 0) & (sts[\"t\"] == 2) & (sts[\"B_L\"] >= 40) & (sts[\"D\"] == 0)]) ##120\n",
    "len(sts[(sts[\"V_TA\"] == 0) & (sts[\"t\"] == 10) & (sts[\"B_L\"] >= 40)]) ##120"
   ]
  },
  {
   "cell_type": "code",
   "execution_count": null,
   "metadata": {},
   "outputs": [],
   "source": [
    "# (3) Derive decision space\n",
    "from tqdm import tqdm\n",
    "dec = {}\n",
    "\n",
    "for s in tqdm(sts[\"obj\"].head(1)):\n",
    "    dec[s.getKey()] = g.constructDecisions(s)\n",
    "\n",
    "#print(sts.iloc[0])\n",
    "#print(dec)\n",
    "print(pd.DataFrame([x.__str__() for x in dec[sts.loc[0, \"obj\"].getKey()]]))"
   ]
  },
  {
   "cell_type": "code",
   "execution_count": null,
   "metadata": {
    "scrolled": true
   },
   "outputs": [],
   "source": [
    "# Perform transitions\n",
    "np.random.seed(14)\n",
    "\n",
    "prob = Probabilities()\n",
    "ex_inf = prob.getProbabilities(300).loc[0,:]\n",
    "t = Transition(None, sts.loc[0, \"obj\"], dec[sts.loc[0,\"obj\"].getKey()][-1], ex_inf[\"p\"], ex_inf[0:3])\n",
    "\n",
    "\n",
    "print(sts.loc[0, \"obj\"])\n",
    "print(dec[sts.loc[0,\"obj\"].getKey()][-1])\n",
    "print(ex_inf)\n",
    "print()\n",
    "print(t.get_s_d().__str__())"
   ]
  },
  {
   "cell_type": "code",
   "execution_count": null,
   "metadata": {
    "scrolled": true
   },
   "outputs": [],
   "source": [
    "#df.loc[(df[\"t\"] == 0) & (df[\"s_obj\"].apply(lambda x: x.get_B_L() == 4.2)) & (df[\"d_obj\"].apply(lambda d: d.get_x_trip() == 1.0)),~df.columns.isin(['s_obj', 'd_obj', \"tr_obj\"])]\n",
    "df.loc[(df[\"t\"] == 0) & (df[\"d_obj\"].apply(lambda d: d.get_x_t() == 1.0)),~df.columns.isin(['s_obj', 'd_obj', \"tr_obj\"])]['trpln'].astype(int).describe()\n",
    "df.loc[ (df[\"s_obj\"].apply(lambda x: (x.get_D() == 0.0) )) ,~df.columns.isin(['s_obj', 'd_obj', \"tr_obj\"])]"
   ]
  },
  {
   "cell_type": "code",
   "execution_count": 44,
   "metadata": {},
   "outputs": [
    {
     "data": {
      "text/plain": [
       "'d'"
      ]
     },
     "execution_count": 44,
     "metadata": {},
     "output_type": "execute_result"
    }
   ],
   "source": [
    "splitRuntime = pd.DataFrame(columns=[\"t_state\", \"d_state\", \"tr_state\", \"vi\"])\n",
    "splitRuntime.loc[\"20\"] = [\"a\", \"B\", \"c\", \"d\"]\n",
    "splitRuntime.loc[splitRuntime.t_state == \"a\", \"vi\"][0]"
   ]
  },
  {
   "cell_type": "code",
   "execution_count": null,
   "metadata": {},
   "outputs": [],
   "source": [
    "ls = [\"a\"]\n",
    "ls += [\"b\"]\n",
    "ls"
   ]
  },
  {
   "cell_type": "code",
   "execution_count": 290,
   "metadata": {},
   "outputs": [
    {
     "name": "stdout",
     "output_type": "stream",
     "text": [
      "11\n",
      "mo - 0\n",
      "mo - 1\n",
      "mo - 2\n"
     ]
    },
    {
     "ename": "KeyboardInterrupt",
     "evalue": "",
     "output_type": "error",
     "traceback": [
      "\u001b[0;31m\u001b[0m",
      "\u001b[0;31mKeyboardInterrupt\u001b[0mTraceback (most recent call last)",
      "\u001b[0;32m<ipython-input-290-d4a2aa54758a>\u001b[0m in \u001b[0;36m<module>\u001b[0;34m\u001b[0m\n\u001b[1;32m     13\u001b[0m \u001b[0mdf_states\u001b[0m \u001b[0;34m=\u001b[0m \u001b[0mpd\u001b[0m\u001b[0;34m.\u001b[0m\u001b[0mread_pickle\u001b[0m\u001b[0;34m(\u001b[0m\u001b[0;34m\"/usr/app/output/df/%s.pkl\"\u001b[0m \u001b[0;34m%\u001b[0m \u001b[0mstates\u001b[0m\u001b[0;34m)\u001b[0m\u001b[0;34m\u001b[0m\u001b[0;34m\u001b[0m\u001b[0m\n\u001b[1;32m     14\u001b[0m \u001b[0;34m\u001b[0m\u001b[0m\n\u001b[0;32m---> 15\u001b[0;31m \u001b[0manalyseValue\u001b[0m\u001b[0;34m(\u001b[0m\u001b[0mdict_dec\u001b[0m\u001b[0;34m,\u001b[0m \u001b[0miniState\u001b[0m\u001b[0;34m,\u001b[0m \u001b[0mprob\u001b[0m\u001b[0;34m,\u001b[0m \u001b[0mdf_states\u001b[0m\u001b[0;34m[\u001b[0m\u001b[0;34m\"s_obj\"\u001b[0m\u001b[0;34m]\u001b[0m\u001b[0;34m.\u001b[0m\u001b[0mto_dict\u001b[0m\u001b[0;34m(\u001b[0m\u001b[0;34m)\u001b[0m\u001b[0;34m)\u001b[0m\u001b[0;34m\u001b[0m\u001b[0;34m\u001b[0m\u001b[0m\n\u001b[0m",
      "\u001b[0;32m/usr/app/src/modules/analysis.py\u001b[0m in \u001b[0;36manalyseValue\u001b[0;34m(algo_dec, iniState, prob, states)\u001b[0m\n\u001b[1;32m     31\u001b[0m         \u001b[0;32mfor\u001b[0m \u001b[0mscen\u001b[0m\u001b[0;34m,\u001b[0m \u001b[0mexo\u001b[0m \u001b[0;32min\u001b[0m \u001b[0mscen_exo\u001b[0m\u001b[0;34m.\u001b[0m\u001b[0mitems\u001b[0m\u001b[0;34m(\u001b[0m\u001b[0;34m)\u001b[0m\u001b[0;34m:\u001b[0m\u001b[0;34m\u001b[0m\u001b[0;34m\u001b[0m\u001b[0m\n\u001b[1;32m     32\u001b[0m             \u001b[0mprint\u001b[0m\u001b[0;34m(\u001b[0m\u001b[0;34m\"%s - %d\"\u001b[0m \u001b[0;34m%\u001b[0m \u001b[0;34m(\u001b[0m\u001b[0malgo\u001b[0m\u001b[0;34m,\u001b[0m \u001b[0mscen\u001b[0m\u001b[0;34m)\u001b[0m\u001b[0;34m)\u001b[0m\u001b[0;34m\u001b[0m\u001b[0;34m\u001b[0m\u001b[0m\n\u001b[0;32m---> 33\u001b[0;31m             \u001b[0mres\u001b[0m \u001b[0;34m=\u001b[0m \u001b[0mrunScen\u001b[0m\u001b[0;34m(\u001b[0m\u001b[0malgo\u001b[0m\u001b[0;34m,\u001b[0m \u001b[0mscen\u001b[0m\u001b[0;34m,\u001b[0m \u001b[0mdec\u001b[0m\u001b[0;34m,\u001b[0m \u001b[0mexo\u001b[0m\u001b[0;34m.\u001b[0m\u001b[0mcopy\u001b[0m\u001b[0;34m(\u001b[0m\u001b[0;34m)\u001b[0m\u001b[0;34m,\u001b[0m \u001b[0miniState\u001b[0m\u001b[0;34m,\u001b[0m \u001b[0mstates\u001b[0m\u001b[0;34m)\u001b[0m\u001b[0;34m\u001b[0m\u001b[0;34m\u001b[0m\u001b[0m\n\u001b[0m\u001b[1;32m     34\u001b[0m             \u001b[0mresults\u001b[0m\u001b[0;34m.\u001b[0m\u001b[0mloc\u001b[0m\u001b[0;34m[\u001b[0m\u001b[0mlen\u001b[0m\u001b[0;34m(\u001b[0m\u001b[0mresults\u001b[0m\u001b[0;34m.\u001b[0m\u001b[0mindex\u001b[0m\u001b[0;34m)\u001b[0m\u001b[0;34m]\u001b[0m \u001b[0;34m=\u001b[0m \u001b[0;34m[\u001b[0m\u001b[0malgo\u001b[0m\u001b[0;34m,\u001b[0m \u001b[0mscen\u001b[0m\u001b[0;34m,\u001b[0m \u001b[0mres\u001b[0m\u001b[0;34m[\u001b[0m\u001b[0;36m0\u001b[0m\u001b[0;34m]\u001b[0m\u001b[0;34m]\u001b[0m\u001b[0;34m\u001b[0m\u001b[0;34m\u001b[0m\u001b[0m\n\u001b[1;32m     35\u001b[0m             \u001b[0mscenario_runs\u001b[0m \u001b[0;34m+=\u001b[0m \u001b[0;34m[\u001b[0m\u001b[0mres\u001b[0m\u001b[0;34m[\u001b[0m\u001b[0;36m1\u001b[0m\u001b[0;34m]\u001b[0m\u001b[0;34m]\u001b[0m\u001b[0;34m\u001b[0m\u001b[0;34m\u001b[0m\u001b[0m\n",
      "\u001b[0;32m/usr/app/src/modules/analysis.py\u001b[0m in \u001b[0;36mrunScen\u001b[0;34m(algo, scen, decisions, exog, iniState, states)\u001b[0m\n\u001b[1;32m     79\u001b[0m \u001b[0;34m\u001b[0m\u001b[0m\n\u001b[1;32m     80\u001b[0m             \u001b[0;31m# Perform transition to new state\u001b[0m\u001b[0;34m\u001b[0m\u001b[0;34m\u001b[0m\u001b[0;34m\u001b[0m\u001b[0m\n\u001b[0;32m---> 81\u001b[0;31m             \u001b[0mcState\u001b[0m \u001b[0;34m=\u001b[0m \u001b[0mperformTransition\u001b[0m\u001b[0;34m(\u001b[0m\u001b[0mcStateObj\u001b[0m\u001b[0;34m,\u001b[0m \u001b[0mdec\u001b[0m\u001b[0;34m,\u001b[0m \u001b[0mexo\u001b[0m\u001b[0;34m.\u001b[0m\u001b[0mloc\u001b[0m\u001b[0;34m[\u001b[0m\u001b[0;34m(\u001b[0m\u001b[0mexo\u001b[0m\u001b[0;34m.\u001b[0m\u001b[0mt\u001b[0m \u001b[0;34m==\u001b[0m \u001b[0mt\u001b[0m\u001b[0;34m)\u001b[0m\u001b[0;34m,\u001b[0m \u001b[0;34m\"trpln\"\u001b[0m\u001b[0;34m]\u001b[0m\u001b[0;34m.\u001b[0m\u001b[0miloc\u001b[0m\u001b[0;34m[\u001b[0m\u001b[0;36m0\u001b[0m\u001b[0;34m]\u001b[0m\u001b[0;34m,\u001b[0m \u001b[0mexo\u001b[0m\u001b[0;34m.\u001b[0m\u001b[0mloc\u001b[0m\u001b[0;34m[\u001b[0m\u001b[0;34m(\u001b[0m\u001b[0mexo\u001b[0m\u001b[0;34m.\u001b[0m\u001b[0mt\u001b[0m \u001b[0;34m==\u001b[0m \u001b[0mt\u001b[0m\u001b[0;34m)\u001b[0m\u001b[0;34m,\u001b[0m \u001b[0;34m\"prc_b\"\u001b[0m\u001b[0;34m]\u001b[0m\u001b[0;34m.\u001b[0m\u001b[0miloc\u001b[0m\u001b[0;34m[\u001b[0m\u001b[0;36m0\u001b[0m\u001b[0;34m]\u001b[0m\u001b[0;34m,\u001b[0m \u001b[0mexo\u001b[0m\u001b[0;34m.\u001b[0m\u001b[0mloc\u001b[0m\u001b[0;34m[\u001b[0m\u001b[0;34m(\u001b[0m\u001b[0mexo\u001b[0m\u001b[0;34m.\u001b[0m\u001b[0mt\u001b[0m \u001b[0;34m==\u001b[0m \u001b[0mt\u001b[0m\u001b[0;34m)\u001b[0m\u001b[0;34m,\u001b[0m \u001b[0;34m\"prc_s\"\u001b[0m\u001b[0;34m]\u001b[0m\u001b[0;34m.\u001b[0m\u001b[0miloc\u001b[0m\u001b[0;34m[\u001b[0m\u001b[0;36m0\u001b[0m\u001b[0;34m]\u001b[0m\u001b[0;34m)\u001b[0m\u001b[0;34m.\u001b[0m\u001b[0mgetKey\u001b[0m\u001b[0;34m(\u001b[0m\u001b[0;34m)\u001b[0m\u001b[0;34m\u001b[0m\u001b[0;34m\u001b[0m\u001b[0m\n\u001b[0m\u001b[1;32m     82\u001b[0m             \u001b[0;32mif\u001b[0m \u001b[0mt\u001b[0m \u001b[0;34m<\u001b[0m \u001b[0mcon\u001b[0m\u001b[0;34m.\u001b[0m\u001b[0mT\u001b[0m \u001b[0;34m-\u001b[0m \u001b[0;36m1\u001b[0m\u001b[0;34m:\u001b[0m\u001b[0;34m\u001b[0m\u001b[0;34m\u001b[0m\u001b[0m\n\u001b[1;32m     83\u001b[0m                 \u001b[0mcStateObj\u001b[0m \u001b[0;34m=\u001b[0m \u001b[0mstates\u001b[0m\u001b[0;34m[\u001b[0m\u001b[0mcState\u001b[0m\u001b[0;34m]\u001b[0m\u001b[0;34m\u001b[0m\u001b[0;34m\u001b[0m\u001b[0m\n",
      "\u001b[0;32m/opt/conda/envs/ma-simulation/lib/python3.8/site-packages/pandas/core/generic.py\u001b[0m in \u001b[0;36m__getattr__\u001b[0;34m(self, name)\u001b[0m\n\u001b[1;32m   5136\u001b[0m         \u001b[0;32melse\u001b[0m\u001b[0;34m:\u001b[0m\u001b[0;34m\u001b[0m\u001b[0;34m\u001b[0m\u001b[0m\n\u001b[1;32m   5137\u001b[0m             \u001b[0;32mif\u001b[0m \u001b[0mself\u001b[0m\u001b[0;34m.\u001b[0m\u001b[0m_info_axis\u001b[0m\u001b[0;34m.\u001b[0m\u001b[0m_can_hold_identifiers_and_holds_name\u001b[0m\u001b[0;34m(\u001b[0m\u001b[0mname\u001b[0m\u001b[0;34m)\u001b[0m\u001b[0;34m:\u001b[0m\u001b[0;34m\u001b[0m\u001b[0;34m\u001b[0m\u001b[0m\n\u001b[0;32m-> 5138\u001b[0;31m                 \u001b[0;32mreturn\u001b[0m \u001b[0mself\u001b[0m\u001b[0;34m[\u001b[0m\u001b[0mname\u001b[0m\u001b[0;34m]\u001b[0m\u001b[0;34m\u001b[0m\u001b[0;34m\u001b[0m\u001b[0m\n\u001b[0m\u001b[1;32m   5139\u001b[0m             \u001b[0;32mreturn\u001b[0m \u001b[0mobject\u001b[0m\u001b[0;34m.\u001b[0m\u001b[0m__getattribute__\u001b[0m\u001b[0;34m(\u001b[0m\u001b[0mself\u001b[0m\u001b[0;34m,\u001b[0m \u001b[0mname\u001b[0m\u001b[0;34m)\u001b[0m\u001b[0;34m\u001b[0m\u001b[0;34m\u001b[0m\u001b[0m\n\u001b[1;32m   5140\u001b[0m \u001b[0;34m\u001b[0m\u001b[0m\n",
      "\u001b[0;32m/opt/conda/envs/ma-simulation/lib/python3.8/site-packages/pandas/core/frame.py\u001b[0m in \u001b[0;36m__getitem__\u001b[0;34m(self, key)\u001b[0m\n\u001b[1;32m   2876\u001b[0m                 \u001b[0;32mif\u001b[0m \u001b[0mself\u001b[0m\u001b[0;34m.\u001b[0m\u001b[0mcolumns\u001b[0m\u001b[0;34m.\u001b[0m\u001b[0mnlevels\u001b[0m \u001b[0;34m>\u001b[0m \u001b[0;36m1\u001b[0m\u001b[0;34m:\u001b[0m\u001b[0;34m\u001b[0m\u001b[0;34m\u001b[0m\u001b[0m\n\u001b[1;32m   2877\u001b[0m                     \u001b[0;32mreturn\u001b[0m \u001b[0mself\u001b[0m\u001b[0;34m.\u001b[0m\u001b[0m_getitem_multilevel\u001b[0m\u001b[0;34m(\u001b[0m\u001b[0mkey\u001b[0m\u001b[0;34m)\u001b[0m\u001b[0;34m\u001b[0m\u001b[0;34m\u001b[0m\u001b[0m\n\u001b[0;32m-> 2878\u001b[0;31m                 \u001b[0;32mreturn\u001b[0m \u001b[0mself\u001b[0m\u001b[0;34m.\u001b[0m\u001b[0m_get_item_cache\u001b[0m\u001b[0;34m(\u001b[0m\u001b[0mkey\u001b[0m\u001b[0;34m)\u001b[0m\u001b[0;34m\u001b[0m\u001b[0;34m\u001b[0m\u001b[0m\n\u001b[0m\u001b[1;32m   2879\u001b[0m \u001b[0;34m\u001b[0m\u001b[0m\n\u001b[1;32m   2880\u001b[0m         \u001b[0;31m# Do we have a slicer (on rows)?\u001b[0m\u001b[0;34m\u001b[0m\u001b[0;34m\u001b[0m\u001b[0;34m\u001b[0m\u001b[0m\n",
      "\u001b[0;32m/opt/conda/envs/ma-simulation/lib/python3.8/site-packages/pandas/core/generic.py\u001b[0m in \u001b[0;36m_get_item_cache\u001b[0;34m(self, item)\u001b[0m\n\u001b[1;32m   3540\u001b[0m             \u001b[0mloc\u001b[0m \u001b[0;34m=\u001b[0m \u001b[0mself\u001b[0m\u001b[0;34m.\u001b[0m\u001b[0mcolumns\u001b[0m\u001b[0;34m.\u001b[0m\u001b[0mget_loc\u001b[0m\u001b[0;34m(\u001b[0m\u001b[0mitem\u001b[0m\u001b[0;34m)\u001b[0m\u001b[0;34m\u001b[0m\u001b[0;34m\u001b[0m\u001b[0m\n\u001b[1;32m   3541\u001b[0m             \u001b[0mvalues\u001b[0m \u001b[0;34m=\u001b[0m \u001b[0mself\u001b[0m\u001b[0;34m.\u001b[0m\u001b[0m_mgr\u001b[0m\u001b[0;34m.\u001b[0m\u001b[0miget\u001b[0m\u001b[0;34m(\u001b[0m\u001b[0mloc\u001b[0m\u001b[0;34m)\u001b[0m\u001b[0;34m\u001b[0m\u001b[0;34m\u001b[0m\u001b[0m\n\u001b[0;32m-> 3542\u001b[0;31m             \u001b[0mres\u001b[0m \u001b[0;34m=\u001b[0m \u001b[0mself\u001b[0m\u001b[0;34m.\u001b[0m\u001b[0m_box_col_values\u001b[0m\u001b[0;34m(\u001b[0m\u001b[0mvalues\u001b[0m\u001b[0;34m,\u001b[0m \u001b[0mloc\u001b[0m\u001b[0;34m)\u001b[0m\u001b[0;34m\u001b[0m\u001b[0;34m\u001b[0m\u001b[0m\n\u001b[0m\u001b[1;32m   3543\u001b[0m \u001b[0;34m\u001b[0m\u001b[0m\n\u001b[1;32m   3544\u001b[0m             \u001b[0mcache\u001b[0m\u001b[0;34m[\u001b[0m\u001b[0mitem\u001b[0m\u001b[0;34m]\u001b[0m \u001b[0;34m=\u001b[0m \u001b[0mres\u001b[0m\u001b[0;34m\u001b[0m\u001b[0;34m\u001b[0m\u001b[0m\n",
      "\u001b[0;32m/opt/conda/envs/ma-simulation/lib/python3.8/site-packages/pandas/core/frame.py\u001b[0m in \u001b[0;36m_box_col_values\u001b[0;34m(self, values, loc)\u001b[0m\n\u001b[1;32m   3186\u001b[0m         \u001b[0mname\u001b[0m \u001b[0;34m=\u001b[0m \u001b[0mself\u001b[0m\u001b[0;34m.\u001b[0m\u001b[0mcolumns\u001b[0m\u001b[0;34m[\u001b[0m\u001b[0mloc\u001b[0m\u001b[0;34m]\u001b[0m\u001b[0;34m\u001b[0m\u001b[0;34m\u001b[0m\u001b[0m\n\u001b[1;32m   3187\u001b[0m         \u001b[0mklass\u001b[0m \u001b[0;34m=\u001b[0m \u001b[0mself\u001b[0m\u001b[0;34m.\u001b[0m\u001b[0m_constructor_sliced\u001b[0m\u001b[0;34m\u001b[0m\u001b[0;34m\u001b[0m\u001b[0m\n\u001b[0;32m-> 3188\u001b[0;31m         \u001b[0;32mreturn\u001b[0m \u001b[0mklass\u001b[0m\u001b[0;34m(\u001b[0m\u001b[0mvalues\u001b[0m\u001b[0;34m,\u001b[0m \u001b[0mindex\u001b[0m\u001b[0;34m=\u001b[0m\u001b[0mself\u001b[0m\u001b[0;34m.\u001b[0m\u001b[0mindex\u001b[0m\u001b[0;34m,\u001b[0m \u001b[0mname\u001b[0m\u001b[0;34m=\u001b[0m\u001b[0mname\u001b[0m\u001b[0;34m,\u001b[0m \u001b[0mfastpath\u001b[0m\u001b[0;34m=\u001b[0m\u001b[0;32mTrue\u001b[0m\u001b[0;34m)\u001b[0m\u001b[0;34m\u001b[0m\u001b[0;34m\u001b[0m\u001b[0m\n\u001b[0m\u001b[1;32m   3189\u001b[0m \u001b[0;34m\u001b[0m\u001b[0m\n\u001b[1;32m   3190\u001b[0m     \u001b[0;31m# ----------------------------------------------------------------------\u001b[0m\u001b[0;34m\u001b[0m\u001b[0;34m\u001b[0m\u001b[0;34m\u001b[0m\u001b[0m\n",
      "\u001b[0;32m/opt/conda/envs/ma-simulation/lib/python3.8/site-packages/pandas/core/series.py\u001b[0m in \u001b[0;36m__init__\u001b[0;34m(self, data, index, dtype, name, copy, fastpath)\u001b[0m\n\u001b[1;32m    199\u001b[0m     \u001b[0;31m# Constructors\u001b[0m\u001b[0;34m\u001b[0m\u001b[0;34m\u001b[0m\u001b[0;34m\u001b[0m\u001b[0m\n\u001b[1;32m    200\u001b[0m \u001b[0;34m\u001b[0m\u001b[0m\n\u001b[0;32m--> 201\u001b[0;31m     def __init__(\n\u001b[0m\u001b[1;32m    202\u001b[0m         \u001b[0mself\u001b[0m\u001b[0;34m,\u001b[0m \u001b[0mdata\u001b[0m\u001b[0;34m=\u001b[0m\u001b[0;32mNone\u001b[0m\u001b[0;34m,\u001b[0m \u001b[0mindex\u001b[0m\u001b[0;34m=\u001b[0m\u001b[0;32mNone\u001b[0m\u001b[0;34m,\u001b[0m \u001b[0mdtype\u001b[0m\u001b[0;34m=\u001b[0m\u001b[0;32mNone\u001b[0m\u001b[0;34m,\u001b[0m \u001b[0mname\u001b[0m\u001b[0;34m=\u001b[0m\u001b[0;32mNone\u001b[0m\u001b[0;34m,\u001b[0m \u001b[0mcopy\u001b[0m\u001b[0;34m=\u001b[0m\u001b[0;32mFalse\u001b[0m\u001b[0;34m,\u001b[0m \u001b[0mfastpath\u001b[0m\u001b[0;34m=\u001b[0m\u001b[0;32mFalse\u001b[0m\u001b[0;34m\u001b[0m\u001b[0;34m\u001b[0m\u001b[0m\n\u001b[1;32m    203\u001b[0m     ):\n",
      "\u001b[0;31mKeyboardInterrupt\u001b[0m: "
     ]
    }
   ],
   "source": [
    "#Config\n",
    "states = 'allstates_[2-11]'\n",
    "algos = ['mo', \"adp\"]\n",
    "iniState = '0,4.0,0.0,0.0,0.044,0.039'\n",
    "prob = Probabilities()\n",
    "\n",
    "\n",
    "# Load decisions\n",
    "dict_dec = {}\n",
    "for a in algos:\n",
    "    dict_dec[a] = pd.read_pickle(\"/usr/app/output/df/%s_best_decisions.pkl\" % a)\n",
    "# Load states\n",
    "df_states = pd.read_pickle(\"/usr/app/output/df/%s.pkl\" % states)\n",
    "\n",
    "analyseValue(dict_dec, iniState, prob, df_states[\"s_obj\"].to_dict())"
   ]
  },
  {
   "cell_type": "code",
   "execution_count": 282,
   "metadata": {},
   "outputs": [
    {
     "name": "stdout",
     "output_type": "stream",
     "text": [
      "11\n"
     ]
    },
    {
     "data": {
      "text/html": [
       "<div>\n",
       "<style scoped>\n",
       "    .dataframe tbody tr th:only-of-type {\n",
       "        vertical-align: middle;\n",
       "    }\n",
       "\n",
       "    .dataframe tbody tr th {\n",
       "        vertical-align: top;\n",
       "    }\n",
       "\n",
       "    .dataframe thead th {\n",
       "        text-align: right;\n",
       "    }\n",
       "</style>\n",
       "<table border=\"1\" class=\"dataframe\">\n",
       "  <thead>\n",
       "    <tr style=\"text-align: right;\">\n",
       "      <th></th>\n",
       "      <th>t</th>\n",
       "      <th>smpl</th>\n",
       "      <th>trpln</th>\n",
       "      <th>prc_b</th>\n",
       "      <th>prc_s</th>\n",
       "    </tr>\n",
       "  </thead>\n",
       "  <tbody>\n",
       "    <tr>\n",
       "      <th>0</th>\n",
       "      <td>0.0</td>\n",
       "      <td>1</td>\n",
       "      <td>9.5</td>\n",
       "      <td>0.031</td>\n",
       "      <td>0.042</td>\n",
       "    </tr>\n",
       "    <tr>\n",
       "      <th>1</th>\n",
       "      <td>1.0</td>\n",
       "      <td>1</td>\n",
       "      <td>9.5</td>\n",
       "      <td>0.025</td>\n",
       "      <td>0.041</td>\n",
       "    </tr>\n",
       "  </tbody>\n",
       "</table>\n",
       "</div>"
      ],
      "text/plain": [
       "     t  smpl  trpln  prc_b  prc_s\n",
       "0  0.0     1    9.5  0.031  0.042\n",
       "1  1.0     1    9.5  0.025  0.041"
      ]
     },
     "execution_count": 282,
     "metadata": {},
     "output_type": "execute_result"
    }
   ],
   "source": [
    "prob = Probabilities()\n",
    "scen = createScenarios(prob)[1]\n",
    "#p = prob.getProbabilities(15)\n",
    "#p.p = p.p.astype(float)\n",
    "#scen.loc[scen.t == 0,scen.columns != \"sample\"].value_counts()\n",
    "scen"
   ]
  }
 ],
 "metadata": {
  "kernelspec": {
   "display_name": "Python 3",
   "language": "python",
   "name": "python3"
  },
  "language_info": {
   "codemirror_mode": {
    "name": "ipython",
    "version": 3
   },
   "file_extension": ".py",
   "mimetype": "text/x-python",
   "name": "python",
   "nbconvert_exporter": "python",
   "pygments_lexer": "ipython3",
   "version": "3.8.5"
  }
 },
 "nbformat": 4,
 "nbformat_minor": 2
}
