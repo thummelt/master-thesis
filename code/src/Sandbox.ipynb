{
 "cells": [
  {
   "cell_type": "code",
   "execution_count": 2,
   "metadata": {
    "scrolled": false
   },
   "outputs": [],
   "source": [
    "import seaborn as sns \n",
    "import pandas as pd\n",
    "import matplotlib.pyplot as plt\n",
    "import numpy as np\n",
    "from fnmatch import fnmatch\n",
    "import itertools\n",
    "\n",
    "%load_ext autoreload\n",
    "%autoreload 2\n",
    "\n",
    "from src.modules.probabilities import Probabilities\n",
    "import modules.generator as g\n",
    "from modules.transition import Transition\n",
    "from src.modules.solutionAlgorithms import SolutionAlgorithms\n",
    "from src.modules.app import App\n",
    "from src.modules import constants as con\n",
    "from src.modules.analysis import Analysis\n"
   ]
  },
  {
   "cell_type": "code",
   "execution_count": null,
   "metadata": {},
   "outputs": [],
   "source": [
    "df_prc_b = pd.read_pickle(\"/usr/app/data/probabilities/d_prc_b.pkl\")\n",
    "df_prc_s = pd.read_pickle(\"/usr/app/data/probabilities/d_prc_s.pkl\")\n",
    "df4 = pd.merge(df_prc_b,df_prc_s, on=[\"t\"], suffixes=(\"_b\", \"_s\")).loc[:,[\"t\",\"prc_b\", \"prc_s\"]]\n",
    "df4.rename(columns={\"prc_b\":\"P_B\", \"prc_s\":\"P_S\"}, inplace=True)\n",
    "df4[\"t\"] = df4[\"t\"]/int(60*con.tau)\n",
    "df4"
   ]
  },
  {
   "cell_type": "code",
   "execution_count": 81,
   "metadata": {},
   "outputs": [
    {
     "data": {
      "text/plain": [
       "False"
      ]
     },
     "execution_count": 81,
     "metadata": {},
     "output_type": "execute_result"
    }
   ],
   "source": [
    "1.0 == -1"
   ]
  },
  {
   "cell_type": "code",
   "execution_count": 20,
   "metadata": {},
   "outputs": [],
   "source": [
    "df_s = pd.read_pickle(\"/usr/app/data/tmp/viDFStates.pkl\") \n",
    "#df_s.index.values.tolist()\n",
    "\n",
    "#df_t = pd.read_pickle(\"/usr/app/data/tmp/constructTrans.pkl\") \n"
   ]
  },
  {
   "cell_type": "code",
   "execution_count": null,
   "metadata": {},
   "outputs": [],
   "source": [
    "list(filter(lambda s: (s[0] == '1') & (s[2]==\"4\") &  (s[-1]==\"3\"), df_s.index.tolist()))"
   ]
  },
  {
   "cell_type": "code",
   "execution_count": null,
   "metadata": {},
   "outputs": [],
   "source": [
    "df_t[[\"s_key\",\"d_key\",\"trpstrt\",\"trpln\",\"prc_b\",\"prc_s\",\"s_d_key\"]].head()\n",
    "         #.isin(df_s.index.values.tolist()),[\"s_key\",\"d_key\",\"trpstrt\",\"trpln\",\"prc_b\",\"prc_s\",\"s_d_key\"]]"
   ]
  },
  {
   "cell_type": "code",
   "execution_count": null,
   "metadata": {},
   "outputs": [],
   "source": [
    "df = pd.read_pickle(\"/usr/app/data/tmp/viInputDf.pkl\")\n",
    "df_states = pd.read_pickle(\"/usr/app/data/tmp/viDFStates.pkl\")\n",
    "#sol = SolutionAlgorithms()\n",
    "#cont = sol.performStandardVI(df, df_states[\"s_obj\"].to_dict())\n",
    "print(df.shape)\n",
    "print(df_states.shape)\n",
    "\n"
   ]
  },
  {
   "cell_type": "code",
   "execution_count": null,
   "metadata": {},
   "outputs": [],
   "source": [
    "df.loc[(df[\"d_obj\"].apply(lambda d: d.get_x_t() == 1)) & (df[\"s_obj\"].apply(lambda s: (s.get_D() > 0) & (s.get_t() == 1))), [\"s_key\", \"d_key\", \"s_d_key\"]]\n",
    "#print(df.loc[(df[\"s_key\"]== \"(1,5.0,9.5,21.5,0.1,0.1)\")])\n",
    "#print(df_states)"
   ]
  },
  {
   "cell_type": "code",
   "execution_count": 65,
   "metadata": {},
   "outputs": [
    {
     "name": "stdout",
     "output_type": "stream",
     "text": [
      "0.8\n"
     ]
    }
   ],
   "source": [
    "#print(len(df_states[df_states[\"s_obj\"].apply(lambda s: (s.get_isTerminal()) )]))\n",
    "import math\n",
    "print(round(0.779,1) )"
   ]
  },
  {
   "cell_type": "code",
   "execution_count": 96,
   "metadata": {},
   "outputs": [
    {
     "data": {
      "text/plain": [
       "0.3"
      ]
     },
     "execution_count": 96,
     "metadata": {},
     "output_type": "execute_result"
    }
   ],
   "source": [
    "round(1.5*0.2,1)"
   ]
  },
  {
   "cell_type": "code",
   "execution_count": 97,
   "metadata": {},
   "outputs": [
    {
     "name": "stdout",
     "output_type": "stream",
     "text": [
      "(0.0,0.0,0)[]\n",
      "(0.0,0.0,1)[6]\n",
      "(0.1,0.0,0)[]\n",
      "(0.1,0.0,1)[4, 6]\n",
      "(0.2,0.0,0)[]\n",
      "(0.2,0.0,1)[4, 6]\n",
      "(0.3,0.0,0)[]\n",
      "(0.3,0.0,1)[4, 6]\n",
      "(0.4,0.0,0)[]\n",
      "(0.4,0.0,1)[4, 6]\n",
      "(0.5,0.0,0)[]\n",
      "(0.5,0.0,1)[4, 6]\n",
      "(0.6,0.0,0)[]\n",
      "(0.6,0.0,1)[4, 6]\n",
      "(0.7,0.0,0)[]\n",
      "(0.7,0.0,1)[4, 6]\n",
      "(0.8,0.0,0)[]\n",
      "(0.8,0.0,1)[4, 6]\n",
      "(0.9,0.0,0)[]\n",
      "(0.9,0.0,1)[4, 6]\n",
      "(1.0,0.0,0)[]\n",
      "(1.0,0.0,1)[4, 6]\n",
      "(1.1,0.0,0)[]\n",
      "(1.1,0.0,1)[4, 6]\n",
      "(1.2,0.0,0)[]\n",
      "(1.2,0.0,1)[4, 6]\n",
      "(1.3,0.0,0)[]\n",
      "(1.3,0.0,1)[4, 6]\n",
      "(1.4,0.0,0)[]\n",
      "(1.4,0.0,1)[4, 6]\n",
      "(1.5,0.0,0)[]\n",
      "(1.5,0.0,1)[4, 6]\n",
      "(1.6,0.0,0)[]\n",
      "(1.6,0.0,1)[4, 6]\n",
      "(1.7,0.0,0)[]\n",
      "(1.7,0.0,1)[4, 6]\n",
      "(1.8,0.0,0)[]\n",
      "(1.8,0.0,1)[4, 6]\n",
      "(1.9,0.0,0)[]\n",
      "(1.9,0.0,1)[4, 6]\n",
      "(2.0,0.0,0)[]\n",
      "(2.0,0.0,1)[4, 6]\n",
      "(2.1,0.0,0)[]\n",
      "(2.1,0.0,1)[4, 6]\n",
      "(2.2,0.0,0)[]\n",
      "(2.2,0.0,1)[4, 6]\n",
      "(2.3,0.0,0)[1]\n",
      "(2.3,0.0,1)[1, 4, 6]\n",
      "(0.0,0.1,0)[]\n",
      "(0.0,0.1,1)[4, 6]\n",
      "(0.0,0.2,0)[]\n",
      "(0.0,0.2,1)[4, 6]\n",
      "(0.0,0.3,0)[]\n",
      "(0.0,0.3,1)[4, 6]\n",
      "(0.0,0.4,0)[]\n",
      "(0.0,0.4,1)[4, 6]\n",
      "(0.0,0.5,0)[]\n",
      "(0.0,0.5,1)[4, 6]\n",
      "(0.0,0.6,0)[]\n",
      "(0.0,0.6,1)[4, 6]\n",
      "(0.0,0.7,0)[]\n",
      "(0.0,0.7,1)[4, 6]\n",
      "(0.0,0.8,0)[]\n",
      "(0.0,0.8,1)[4, 6]\n",
      "(0.0,0.9,0)[]\n",
      "(0.0,0.9,1)[4, 6]\n",
      "(0.0,1.0,0)[]\n",
      "(0.0,1.0,1)[4, 6]\n",
      "3.9\n",
      "3.9499999999999997\n",
      "3.9499999999999997\n",
      "3.9\n",
      "(0.0,1.1,0)[8]\n",
      "6.2\n",
      "6.199999999999999\n",
      "6.199999999999999\n",
      "6.2\n",
      "(0.0,1.1,1)[4, 6]\n",
      "(0.0,1.2,0)[8]\n",
      "(0.0,1.2,1)[4, 6]\n",
      "(0.0,1.3,0)[8]\n",
      "(0.0,1.3,1)[4, 6]\n",
      "(0.0,1.4,0)[8]\n",
      "(0.0,1.4,1)[4, 6]\n",
      "(0.0,1.5,0)[8]\n",
      "(0.0,1.5,1)[4, 6]\n",
      "(0.0,1.6,0)[8]\n",
      "(0.0,1.6,1)[4, 6]\n",
      "(0.0,1.7,0)[8]\n",
      "(0.0,1.7,1)[4, 6]\n",
      "(0.0,1.8,0)[8]\n",
      "(0.0,1.8,1)[4, 6]\n",
      "(0.0,1.9,0)[2, 8]\n",
      "(0.0,1.9,1)[2, 4, 6]\n",
      "(0.0,2.0,0)[2, 8]\n",
      "(0.0,2.0,1)[2, 4, 6]\n",
      "(0.0,2.1,0)[2, 8]\n",
      "(0.0,2.1,1)[2, 4, 6]\n",
      "(0.0,2.2,0)[2, 8]\n",
      "(0.0,2.2,1)[2, 4, 6]\n",
      "(0.0,2.3,0)[2, 8]\n",
      "(0.0,2.3,1)[2, 4, 6]\n"
     ]
    },
    {
     "data": {
      "text/html": [
       "<div>\n",
       "<style scoped>\n",
       "    .dataframe tbody tr th:only-of-type {\n",
       "        vertical-align: middle;\n",
       "    }\n",
       "\n",
       "    .dataframe tbody tr th {\n",
       "        vertical-align: top;\n",
       "    }\n",
       "\n",
       "    .dataframe thead th {\n",
       "        text-align: right;\n",
       "    }\n",
       "</style>\n",
       "<table border=\"1\" class=\"dataframe\">\n",
       "  <thead>\n",
       "    <tr style=\"text-align: right;\">\n",
       "      <th></th>\n",
       "      <th>d_key</th>\n",
       "      <th>s_key</th>\n",
       "      <th>d_obj</th>\n",
       "    </tr>\n",
       "  </thead>\n",
       "  <tbody>\n",
       "    <tr>\n",
       "      <th>0</th>\n",
       "      <td>(0.0,0.0,0)</td>\n",
       "      <td>1,2.8,0.0,0.0,0.046,0.036</td>\n",
       "      <td>Decision [(0.0,0.0,0)]</td>\n",
       "    </tr>\n",
       "    <tr>\n",
       "      <th>2</th>\n",
       "      <td>(0.1,0.0,0)</td>\n",
       "      <td>1,2.8,0.0,0.0,0.046,0.036</td>\n",
       "      <td>Decision [(0.1,0.0,0)]</td>\n",
       "    </tr>\n",
       "    <tr>\n",
       "      <th>4</th>\n",
       "      <td>(0.2,0.0,0)</td>\n",
       "      <td>1,2.8,0.0,0.0,0.046,0.036</td>\n",
       "      <td>Decision [(0.2,0.0,0)]</td>\n",
       "    </tr>\n",
       "    <tr>\n",
       "      <th>6</th>\n",
       "      <td>(0.3,0.0,0)</td>\n",
       "      <td>1,2.8,0.0,0.0,0.046,0.036</td>\n",
       "      <td>Decision [(0.3,0.0,0)]</td>\n",
       "    </tr>\n",
       "    <tr>\n",
       "      <th>8</th>\n",
       "      <td>(0.4,0.0,0)</td>\n",
       "      <td>1,2.8,0.0,0.0,0.046,0.036</td>\n",
       "      <td>Decision [(0.4,0.0,0)]</td>\n",
       "    </tr>\n",
       "    <tr>\n",
       "      <th>10</th>\n",
       "      <td>(0.5,0.0,0)</td>\n",
       "      <td>1,2.8,0.0,0.0,0.046,0.036</td>\n",
       "      <td>Decision [(0.5,0.0,0)]</td>\n",
       "    </tr>\n",
       "    <tr>\n",
       "      <th>12</th>\n",
       "      <td>(0.6,0.0,0)</td>\n",
       "      <td>1,2.8,0.0,0.0,0.046,0.036</td>\n",
       "      <td>Decision [(0.6,0.0,0)]</td>\n",
       "    </tr>\n",
       "    <tr>\n",
       "      <th>14</th>\n",
       "      <td>(0.7,0.0,0)</td>\n",
       "      <td>1,2.8,0.0,0.0,0.046,0.036</td>\n",
       "      <td>Decision [(0.7,0.0,0)]</td>\n",
       "    </tr>\n",
       "    <tr>\n",
       "      <th>16</th>\n",
       "      <td>(0.8,0.0,0)</td>\n",
       "      <td>1,2.8,0.0,0.0,0.046,0.036</td>\n",
       "      <td>Decision [(0.8,0.0,0)]</td>\n",
       "    </tr>\n",
       "    <tr>\n",
       "      <th>18</th>\n",
       "      <td>(0.9,0.0,0)</td>\n",
       "      <td>1,2.8,0.0,0.0,0.046,0.036</td>\n",
       "      <td>Decision [(0.9,0.0,0)]</td>\n",
       "    </tr>\n",
       "    <tr>\n",
       "      <th>20</th>\n",
       "      <td>(1.0,0.0,0)</td>\n",
       "      <td>1,2.8,0.0,0.0,0.046,0.036</td>\n",
       "      <td>Decision [(1.0,0.0,0)]</td>\n",
       "    </tr>\n",
       "    <tr>\n",
       "      <th>22</th>\n",
       "      <td>(1.1,0.0,0)</td>\n",
       "      <td>1,2.8,0.0,0.0,0.046,0.036</td>\n",
       "      <td>Decision [(1.1,0.0,0)]</td>\n",
       "    </tr>\n",
       "    <tr>\n",
       "      <th>24</th>\n",
       "      <td>(1.2,0.0,0)</td>\n",
       "      <td>1,2.8,0.0,0.0,0.046,0.036</td>\n",
       "      <td>Decision [(1.2,0.0,0)]</td>\n",
       "    </tr>\n",
       "    <tr>\n",
       "      <th>26</th>\n",
       "      <td>(1.3,0.0,0)</td>\n",
       "      <td>1,2.8,0.0,0.0,0.046,0.036</td>\n",
       "      <td>Decision [(1.3,0.0,0)]</td>\n",
       "    </tr>\n",
       "    <tr>\n",
       "      <th>28</th>\n",
       "      <td>(1.4,0.0,0)</td>\n",
       "      <td>1,2.8,0.0,0.0,0.046,0.036</td>\n",
       "      <td>Decision [(1.4,0.0,0)]</td>\n",
       "    </tr>\n",
       "    <tr>\n",
       "      <th>30</th>\n",
       "      <td>(1.5,0.0,0)</td>\n",
       "      <td>1,2.8,0.0,0.0,0.046,0.036</td>\n",
       "      <td>Decision [(1.5,0.0,0)]</td>\n",
       "    </tr>\n",
       "    <tr>\n",
       "      <th>32</th>\n",
       "      <td>(1.6,0.0,0)</td>\n",
       "      <td>1,2.8,0.0,0.0,0.046,0.036</td>\n",
       "      <td>Decision [(1.6,0.0,0)]</td>\n",
       "    </tr>\n",
       "    <tr>\n",
       "      <th>34</th>\n",
       "      <td>(1.7,0.0,0)</td>\n",
       "      <td>1,2.8,0.0,0.0,0.046,0.036</td>\n",
       "      <td>Decision [(1.7,0.0,0)]</td>\n",
       "    </tr>\n",
       "    <tr>\n",
       "      <th>36</th>\n",
       "      <td>(1.8,0.0,0)</td>\n",
       "      <td>1,2.8,0.0,0.0,0.046,0.036</td>\n",
       "      <td>Decision [(1.8,0.0,0)]</td>\n",
       "    </tr>\n",
       "    <tr>\n",
       "      <th>38</th>\n",
       "      <td>(1.9,0.0,0)</td>\n",
       "      <td>1,2.8,0.0,0.0,0.046,0.036</td>\n",
       "      <td>Decision [(1.9,0.0,0)]</td>\n",
       "    </tr>\n",
       "    <tr>\n",
       "      <th>40</th>\n",
       "      <td>(2.0,0.0,0)</td>\n",
       "      <td>1,2.8,0.0,0.0,0.046,0.036</td>\n",
       "      <td>Decision [(2.0,0.0,0)]</td>\n",
       "    </tr>\n",
       "    <tr>\n",
       "      <th>42</th>\n",
       "      <td>(2.1,0.0,0)</td>\n",
       "      <td>1,2.8,0.0,0.0,0.046,0.036</td>\n",
       "      <td>Decision [(2.1,0.0,0)]</td>\n",
       "    </tr>\n",
       "    <tr>\n",
       "      <th>44</th>\n",
       "      <td>(2.2,0.0,0)</td>\n",
       "      <td>1,2.8,0.0,0.0,0.046,0.036</td>\n",
       "      <td>Decision [(2.2,0.0,0)]</td>\n",
       "    </tr>\n",
       "    <tr>\n",
       "      <th>48</th>\n",
       "      <td>(0.0,0.1,0)</td>\n",
       "      <td>1,2.8,0.0,0.0,0.046,0.036</td>\n",
       "      <td>Decision [(0.0,0.1,0)]</td>\n",
       "    </tr>\n",
       "    <tr>\n",
       "      <th>50</th>\n",
       "      <td>(0.0,0.2,0)</td>\n",
       "      <td>1,2.8,0.0,0.0,0.046,0.036</td>\n",
       "      <td>Decision [(0.0,0.2,0)]</td>\n",
       "    </tr>\n",
       "    <tr>\n",
       "      <th>52</th>\n",
       "      <td>(0.0,0.3,0)</td>\n",
       "      <td>1,2.8,0.0,0.0,0.046,0.036</td>\n",
       "      <td>Decision [(0.0,0.3,0)]</td>\n",
       "    </tr>\n",
       "    <tr>\n",
       "      <th>54</th>\n",
       "      <td>(0.0,0.4,0)</td>\n",
       "      <td>1,2.8,0.0,0.0,0.046,0.036</td>\n",
       "      <td>Decision [(0.0,0.4,0)]</td>\n",
       "    </tr>\n",
       "    <tr>\n",
       "      <th>56</th>\n",
       "      <td>(0.0,0.5,0)</td>\n",
       "      <td>1,2.8,0.0,0.0,0.046,0.036</td>\n",
       "      <td>Decision [(0.0,0.5,0)]</td>\n",
       "    </tr>\n",
       "    <tr>\n",
       "      <th>58</th>\n",
       "      <td>(0.0,0.6,0)</td>\n",
       "      <td>1,2.8,0.0,0.0,0.046,0.036</td>\n",
       "      <td>Decision [(0.0,0.6,0)]</td>\n",
       "    </tr>\n",
       "    <tr>\n",
       "      <th>60</th>\n",
       "      <td>(0.0,0.7,0)</td>\n",
       "      <td>1,2.8,0.0,0.0,0.046,0.036</td>\n",
       "      <td>Decision [(0.0,0.7,0)]</td>\n",
       "    </tr>\n",
       "    <tr>\n",
       "      <th>62</th>\n",
       "      <td>(0.0,0.8,0)</td>\n",
       "      <td>1,2.8,0.0,0.0,0.046,0.036</td>\n",
       "      <td>Decision [(0.0,0.8,0)]</td>\n",
       "    </tr>\n",
       "    <tr>\n",
       "      <th>64</th>\n",
       "      <td>(0.0,0.9,0)</td>\n",
       "      <td>1,2.8,0.0,0.0,0.046,0.036</td>\n",
       "      <td>Decision [(0.0,0.9,0)]</td>\n",
       "    </tr>\n",
       "    <tr>\n",
       "      <th>66</th>\n",
       "      <td>(0.0,1.0,0)</td>\n",
       "      <td>1,2.8,0.0,0.0,0.046,0.036</td>\n",
       "      <td>Decision [(0.0,1.0,0)]</td>\n",
       "    </tr>\n",
       "  </tbody>\n",
       "</table>\n",
       "</div>"
      ],
      "text/plain": [
       "          d_key                      s_key                   d_obj\n",
       "0   (0.0,0.0,0)  1,2.8,0.0,0.0,0.046,0.036  Decision [(0.0,0.0,0)]\n",
       "2   (0.1,0.0,0)  1,2.8,0.0,0.0,0.046,0.036  Decision [(0.1,0.0,0)]\n",
       "4   (0.2,0.0,0)  1,2.8,0.0,0.0,0.046,0.036  Decision [(0.2,0.0,0)]\n",
       "6   (0.3,0.0,0)  1,2.8,0.0,0.0,0.046,0.036  Decision [(0.3,0.0,0)]\n",
       "8   (0.4,0.0,0)  1,2.8,0.0,0.0,0.046,0.036  Decision [(0.4,0.0,0)]\n",
       "10  (0.5,0.0,0)  1,2.8,0.0,0.0,0.046,0.036  Decision [(0.5,0.0,0)]\n",
       "12  (0.6,0.0,0)  1,2.8,0.0,0.0,0.046,0.036  Decision [(0.6,0.0,0)]\n",
       "14  (0.7,0.0,0)  1,2.8,0.0,0.0,0.046,0.036  Decision [(0.7,0.0,0)]\n",
       "16  (0.8,0.0,0)  1,2.8,0.0,0.0,0.046,0.036  Decision [(0.8,0.0,0)]\n",
       "18  (0.9,0.0,0)  1,2.8,0.0,0.0,0.046,0.036  Decision [(0.9,0.0,0)]\n",
       "20  (1.0,0.0,0)  1,2.8,0.0,0.0,0.046,0.036  Decision [(1.0,0.0,0)]\n",
       "22  (1.1,0.0,0)  1,2.8,0.0,0.0,0.046,0.036  Decision [(1.1,0.0,0)]\n",
       "24  (1.2,0.0,0)  1,2.8,0.0,0.0,0.046,0.036  Decision [(1.2,0.0,0)]\n",
       "26  (1.3,0.0,0)  1,2.8,0.0,0.0,0.046,0.036  Decision [(1.3,0.0,0)]\n",
       "28  (1.4,0.0,0)  1,2.8,0.0,0.0,0.046,0.036  Decision [(1.4,0.0,0)]\n",
       "30  (1.5,0.0,0)  1,2.8,0.0,0.0,0.046,0.036  Decision [(1.5,0.0,0)]\n",
       "32  (1.6,0.0,0)  1,2.8,0.0,0.0,0.046,0.036  Decision [(1.6,0.0,0)]\n",
       "34  (1.7,0.0,0)  1,2.8,0.0,0.0,0.046,0.036  Decision [(1.7,0.0,0)]\n",
       "36  (1.8,0.0,0)  1,2.8,0.0,0.0,0.046,0.036  Decision [(1.8,0.0,0)]\n",
       "38  (1.9,0.0,0)  1,2.8,0.0,0.0,0.046,0.036  Decision [(1.9,0.0,0)]\n",
       "40  (2.0,0.0,0)  1,2.8,0.0,0.0,0.046,0.036  Decision [(2.0,0.0,0)]\n",
       "42  (2.1,0.0,0)  1,2.8,0.0,0.0,0.046,0.036  Decision [(2.1,0.0,0)]\n",
       "44  (2.2,0.0,0)  1,2.8,0.0,0.0,0.046,0.036  Decision [(2.2,0.0,0)]\n",
       "48  (0.0,0.1,0)  1,2.8,0.0,0.0,0.046,0.036  Decision [(0.0,0.1,0)]\n",
       "50  (0.0,0.2,0)  1,2.8,0.0,0.0,0.046,0.036  Decision [(0.0,0.2,0)]\n",
       "52  (0.0,0.3,0)  1,2.8,0.0,0.0,0.046,0.036  Decision [(0.0,0.3,0)]\n",
       "54  (0.0,0.4,0)  1,2.8,0.0,0.0,0.046,0.036  Decision [(0.0,0.4,0)]\n",
       "56  (0.0,0.5,0)  1,2.8,0.0,0.0,0.046,0.036  Decision [(0.0,0.5,0)]\n",
       "58  (0.0,0.6,0)  1,2.8,0.0,0.0,0.046,0.036  Decision [(0.0,0.6,0)]\n",
       "60  (0.0,0.7,0)  1,2.8,0.0,0.0,0.046,0.036  Decision [(0.0,0.7,0)]\n",
       "62  (0.0,0.8,0)  1,2.8,0.0,0.0,0.046,0.036  Decision [(0.0,0.8,0)]\n",
       "64  (0.0,0.9,0)  1,2.8,0.0,0.0,0.046,0.036  Decision [(0.0,0.9,0)]\n",
       "66  (0.0,1.0,0)  1,2.8,0.0,0.0,0.046,0.036  Decision [(0.0,1.0,0)]"
      ]
     },
     "execution_count": 97,
     "metadata": {},
     "output_type": "execute_result"
    }
   ],
   "source": [
    "from modules.state import State\n",
    "con.T = 3\n",
    "#State(1,5.0,0.0,0.0,0.046,0.042)\n",
    "g.constructDecisions(State(1,2.8,0.0,0.0,0.046,0.036), g.decisionSpace())"
   ]
  },
  {
   "cell_type": "code",
   "execution_count": null,
   "metadata": {},
   "outputs": [],
   "source": [
    "print(df_states[(~df_states.index.to_series().isin(df[\"s_key\"])) & (df_states[\"s_obj\"].apply(lambda s: (not s.get_isTerminal()) & (s.get_V_TA() == 1) & (s.get_B_L() > 3.9)))])\n",
    "print(len(df_states[(~df_states.index.to_series().isin(df[\"s_key\"]))]))\n",
    "print(df.loc[(df[\"s_key\"].apply(lambda k: fnmatch(k, \"(1,5.0,1,20.5,0.1,0.1)\")))])\n",
    "df_states.loc['(2,3.0,0,0.0,0.0,0.0)']"
   ]
  },
  {
   "cell_type": "code",
   "execution_count": null,
   "metadata": {},
   "outputs": [],
   "source": [
    "#df_states.head()\n",
    "df_states.loc['(1,1.0,0,0.0,0.0,0.0)']\n",
    "df.loc[(df[\"s_key\"].apply(lambda k: fnmatch(k, \"(?,1.?,0,0.0,0.0,0.0)\")))]"
   ]
  },
  {
   "cell_type": "code",
   "execution_count": null,
   "metadata": {},
   "outputs": [],
   "source": [
    "print(cont[\"cont\"].describe())\n",
    "cont.loc[(cont.cont.astype(float)<= -2150.220000),[\"s_key\",\"d_key\",\"cont\"]]\n",
    "\n",
    "cont.loc[(cont[\"s_key\"].apply(lambda k: fnmatch(k, \"(0,?.?,0,0.0,0.?,0.1)\"))) & \\\n",
    "         (cont[\"d_key\"].apply(lambda k: fnmatch(k, \"(0.?,0.?,0)\"))) & \\\n",
    "         (cont[\"cont\"] == 0.02),[\"s_key\",\"d_key\"]]"
   ]
  },
  {
   "cell_type": "code",
   "execution_count": 73,
   "metadata": {},
   "outputs": [
    {
     "name": "stdout",
     "output_type": "stream",
     "text": [
      "[2 2 1 1 2 2 0 0 1 2]\n"
     ]
    },
    {
     "data": {
      "text/plain": [
       "pandas.core.series.Series"
      ]
     },
     "execution_count": 73,
     "metadata": {},
     "output_type": "execute_result"
    }
   ],
   "source": [
    "samples = 10\n",
    "df_p = pd.DataFrame([[1,2,3,0.1], [4,5,6,0.4], [7,8,9,0.5]], columns=[\"a\",\"b\",\"c\",\"p\"])\n",
    "rand = np.random.choice(np.arange(0, len(df_p.index)), size=samples, replace=True, p=df_p[\"p\"].tolist())\n",
    "print(rand)\n",
    "df_p = df_p.loc[rand]\n",
    "df_p[\"p\"] = 1/samples\n",
    "df_p = df_p.loc[df_p.a == 7,:]\n",
    "df_p = df_p.groupby([\"a\"])[\"b\"].sum()\n",
    "type(df_p)\n",
    "#df_p"
   ]
  },
  {
   "cell_type": "code",
   "execution_count": null,
   "metadata": {
    "scrolled": true
   },
   "outputs": [],
   "source": [
    "np.random.random(10)\n",
    "#np.hist(np.random.uniform(0,1,10))\n",
    "import seaborn as sns\n",
    "rand = np.random.choice(np.arange(1, 7), size=10000, replace=True, p=[0.01, 0.03, 0.06, 0.2, 0.3, 0.4])\n",
    "sns.displot(x=rand, stat=\"probability\",bins=list(np.arange(1, 7)), height = 7, aspect = 3)"
   ]
  },
  {
   "cell_type": "code",
   "execution_count": 19,
   "metadata": {},
   "outputs": [
    {
     "data": {
      "text/html": [
       "<div>\n",
       "<style scoped>\n",
       "    .dataframe tbody tr th:only-of-type {\n",
       "        vertical-align: middle;\n",
       "    }\n",
       "\n",
       "    .dataframe tbody tr th {\n",
       "        vertical-align: top;\n",
       "    }\n",
       "\n",
       "    .dataframe thead th {\n",
       "        text-align: right;\n",
       "    }\n",
       "</style>\n",
       "<table border=\"1\" class=\"dataframe\">\n",
       "  <thead>\n",
       "    <tr style=\"text-align: right;\">\n",
       "      <th></th>\n",
       "      <th>prc_x</th>\n",
       "      <th>prc_y</th>\n",
       "      <th>p</th>\n",
       "    </tr>\n",
       "  </thead>\n",
       "  <tbody>\n",
       "    <tr>\n",
       "      <th>6</th>\n",
       "      <td>0.051</td>\n",
       "      <td>0.032</td>\n",
       "      <td>0.007094</td>\n",
       "    </tr>\n",
       "    <tr>\n",
       "      <th>0</th>\n",
       "      <td>0.037</td>\n",
       "      <td>0.032</td>\n",
       "      <td>0.008385</td>\n",
       "    </tr>\n",
       "    <tr>\n",
       "      <th>8</th>\n",
       "      <td>0.051</td>\n",
       "      <td>0.046</td>\n",
       "      <td>0.011462</td>\n",
       "    </tr>\n",
       "    <tr>\n",
       "      <th>2</th>\n",
       "      <td>0.037</td>\n",
       "      <td>0.046</td>\n",
       "      <td>0.013549</td>\n",
       "    </tr>\n",
       "    <tr>\n",
       "      <th>3</th>\n",
       "      <td>0.044</td>\n",
       "      <td>0.032</td>\n",
       "      <td>0.058722</td>\n",
       "    </tr>\n",
       "    <tr>\n",
       "      <th>7</th>\n",
       "      <td>0.051</td>\n",
       "      <td>0.039</td>\n",
       "      <td>0.077044</td>\n",
       "    </tr>\n",
       "    <tr>\n",
       "      <th>1</th>\n",
       "      <td>0.037</td>\n",
       "      <td>0.039</td>\n",
       "      <td>0.091067</td>\n",
       "    </tr>\n",
       "    <tr>\n",
       "      <th>5</th>\n",
       "      <td>0.044</td>\n",
       "      <td>0.046</td>\n",
       "      <td>0.094889</td>\n",
       "    </tr>\n",
       "    <tr>\n",
       "      <th>4</th>\n",
       "      <td>0.044</td>\n",
       "      <td>0.039</td>\n",
       "      <td>0.637789</td>\n",
       "    </tr>\n",
       "  </tbody>\n",
       "</table>\n",
       "</div>"
      ],
      "text/plain": [
       "   prc_x  prc_y         p\n",
       "6  0.051  0.032  0.007094\n",
       "0  0.037  0.032  0.008385\n",
       "8  0.051  0.046  0.011462\n",
       "2  0.037  0.046  0.013549\n",
       "3  0.044  0.032  0.058722\n",
       "7  0.051  0.039  0.077044\n",
       "1  0.037  0.039  0.091067\n",
       "5  0.044  0.046  0.094889\n",
       "4  0.044  0.039  0.637789"
      ]
     },
     "execution_count": 19,
     "metadata": {},
     "output_type": "execute_result"
    }
   ],
   "source": [
    "d_prc_b = pd.read_pickle(\"/usr/app/data/probabilities/d_prc_b.pkl\")\n",
    "d_prc_b.loc[d_prc_b.t == 0]\n",
    "\n",
    "d_prc_s = pd.read_pickle(\"/usr/app/data/probabilities/d_prc_s.pkl\")\n",
    "tmp = pd.merge(d_prc_b.loc[d_prc_b.t == 0], d_prc_s.loc[d_prc_s.t == 0], on=[\"t\"])\n",
    "tmp[\"p\"] = tmp[\"p_x\"]*tmp[\"p_y\"]\n",
    "tmp[[\"prc_x\", \"prc_y\", \"p\"]].sort_values(by=[\"p\"])"
   ]
  },
  {
   "cell_type": "code",
   "execution_count": 36,
   "metadata": {
    "scrolled": true
   },
   "outputs": [
    {
     "data": {
      "text/html": [
       "<div>\n",
       "<style scoped>\n",
       "    .dataframe tbody tr th:only-of-type {\n",
       "        vertical-align: middle;\n",
       "    }\n",
       "\n",
       "    .dataframe tbody tr th {\n",
       "        vertical-align: top;\n",
       "    }\n",
       "\n",
       "    .dataframe thead th {\n",
       "        text-align: right;\n",
       "    }\n",
       "</style>\n",
       "<table border=\"1\" class=\"dataframe\">\n",
       "  <thead>\n",
       "    <tr style=\"text-align: right;\">\n",
       "      <th></th>\n",
       "      <th>prc_x</th>\n",
       "      <th>prc_y</th>\n",
       "      <th>p</th>\n",
       "    </tr>\n",
       "  </thead>\n",
       "  <tbody>\n",
       "    <tr>\n",
       "      <th>2</th>\n",
       "      <td>0.031</td>\n",
       "      <td>0.042</td>\n",
       "      <td>0.002445</td>\n",
       "    </tr>\n",
       "    <tr>\n",
       "      <th>0</th>\n",
       "      <td>0.031</td>\n",
       "      <td>0.030</td>\n",
       "      <td>0.006526</td>\n",
       "    </tr>\n",
       "    <tr>\n",
       "      <th>8</th>\n",
       "      <td>0.046</td>\n",
       "      <td>0.042</td>\n",
       "      <td>0.011533</td>\n",
       "    </tr>\n",
       "    <tr>\n",
       "      <th>1</th>\n",
       "      <td>0.031</td>\n",
       "      <td>0.036</td>\n",
       "      <td>0.028929</td>\n",
       "    </tr>\n",
       "    <tr>\n",
       "      <th>6</th>\n",
       "      <td>0.046</td>\n",
       "      <td>0.030</td>\n",
       "      <td>0.030789</td>\n",
       "    </tr>\n",
       "    <tr>\n",
       "      <th>5</th>\n",
       "      <td>0.038</td>\n",
       "      <td>0.042</td>\n",
       "      <td>0.050523</td>\n",
       "    </tr>\n",
       "    <tr>\n",
       "      <th>3</th>\n",
       "      <td>0.038</td>\n",
       "      <td>0.030</td>\n",
       "      <td>0.134884</td>\n",
       "    </tr>\n",
       "    <tr>\n",
       "      <th>7</th>\n",
       "      <td>0.046</td>\n",
       "      <td>0.036</td>\n",
       "      <td>0.136478</td>\n",
       "    </tr>\n",
       "    <tr>\n",
       "      <th>4</th>\n",
       "      <td>0.038</td>\n",
       "      <td>0.036</td>\n",
       "      <td>0.597893</td>\n",
       "    </tr>\n",
       "  </tbody>\n",
       "</table>\n",
       "</div>"
      ],
      "text/plain": [
       "   prc_x  prc_y         p\n",
       "2  0.031  0.042  0.002445\n",
       "0  0.031  0.030  0.006526\n",
       "8  0.046  0.042  0.011533\n",
       "1  0.031  0.036  0.028929\n",
       "6  0.046  0.030  0.030789\n",
       "5  0.038  0.042  0.050523\n",
       "3  0.038  0.030  0.134884\n",
       "7  0.046  0.036  0.136478\n",
       "4  0.038  0.036  0.597893"
      ]
     },
     "execution_count": 36,
     "metadata": {},
     "output_type": "execute_result"
    }
   ],
   "source": [
    "d_prc_b = pd.read_pickle(\"/usr/app/data/probabilities/d_prc_b.pkl\")\n",
    "d_prc_b.loc[d_prc_b.t == 0]\n",
    "\n",
    "d_prc_s = pd.read_pickle(\"/usr/app/data/probabilities/d_prc_s.pkl\")\n",
    "tmp = pd.merge(d_prc_b.loc[d_prc_b.t == 15], d_prc_s.loc[d_prc_s.t == 15], on=[\"t\"])\n",
    "tmp[\"p\"] = tmp[\"p_x\"]*tmp[\"p_y\"]\n",
    "tmp[[\"prc_x\", \"prc_y\", \"p\"]].sort_values(by=[\"p\"])"
   ]
  },
  {
   "cell_type": "code",
   "execution_count": 57,
   "metadata": {
    "scrolled": true
   },
   "outputs": [
    {
     "name": "stdout",
     "output_type": "stream",
     "text": [
      "trpstrt  trpln  prc_b  prc_s  p         t  \n",
      "n        0.0    0.038  0.036  0.000017  0.0    35684\n",
      "                0.046  0.036  0.000017  0.0     8236\n",
      "                0.038  0.030  0.000017  0.0     8152\n",
      "                       0.042  0.000017  0.0     3036\n",
      "                0.046  0.030  0.000017  0.0     1859\n",
      "                0.031  0.036  0.000017  0.0     1735\n",
      "                0.046  0.042  0.000017  0.0      734\n",
      "                0.031  0.030  0.000017  0.0      354\n",
      "                       0.042  0.000017  0.0      148\n",
      "y        1.5    0.038  0.036  0.000017  0.0        4\n",
      "         3.5    0.038  0.036  0.000017  0.0        4\n",
      "         0.5    0.038  0.036  0.000017  0.0        3\n",
      "         2.5    0.038  0.036  0.000017  0.0        3\n",
      "         6.5    0.038  0.036  0.000017  0.0        3\n",
      "         8.5    0.038  0.036  0.000017  0.0        2\n",
      "         3.5    0.046  0.036  0.000017  0.0        2\n",
      "         4.5    0.038  0.036  0.000017  0.0        2\n",
      "         5.5    0.046  0.036  0.000017  0.0        2\n",
      "         7.5    0.038  0.036  0.000017  0.0        2\n",
      "         11.5   0.038  0.036  0.000017  0.0        2\n",
      "         12.5   0.038  0.036  0.000017  0.0        2\n",
      "         16.5   0.038  0.036  0.000017  0.0        2\n",
      "         15.5   0.038  0.036  0.000017  0.0        2\n",
      "         10.5   0.038  0.036  0.000017  0.0        1\n",
      "         2.5    0.038  0.030  0.000017  0.0        1\n",
      "         29.5   0.038  0.036  0.000017  0.0        1\n",
      "                0.031  0.036  0.000017  0.0        1\n",
      "         28.5   0.038  0.030  0.000017  0.0        1\n",
      "         27.5   0.038  0.036  0.000017  0.0        1\n",
      "         23.5   0.038  0.042  0.000017  0.0        1\n",
      "         20.5   0.038  0.036  0.000017  0.0        1\n",
      "         16.5   0.046  0.036  0.000017  0.0        1\n",
      "         14.5   0.038  0.042  0.000017  0.0        1\n",
      "         1.5    0.038  0.042  0.000017  0.0        1\n",
      "                0.046  0.036  0.000017  0.0        1\n",
      "         2.5    0.046  0.036  0.000017  0.0        1\n",
      "         14.5   0.038  0.036  0.000017  0.0        1\n",
      "         9.5    0.038  0.036  0.000017  0.0        1\n",
      "         3.5    0.038  0.030  0.000017  0.0        1\n",
      "         14.5   0.038  0.030  0.000017  0.0        1\n",
      "         13.5   0.038  0.036  0.000017  0.0        1\n",
      "         4.5    0.038  0.030  0.000017  0.0        1\n",
      "         5.5    0.038  0.036  0.000017  0.0        1\n",
      "         11.5   0.046  0.030  0.000017  0.0        1\n",
      "         39.5   0.031  0.036  0.000017  0.0        1\n",
      "         7.5    0.046  0.030  0.000017  0.0        1\n",
      "         8.5    0.031  0.036  0.000017  0.0        1\n",
      "         10.5   0.046  0.036  0.000017  0.0        1\n",
      "         8.5    0.046  0.030  0.000017  0.0        1\n",
      "         39.5   0.038  0.036  0.000017  0.0        1\n",
      "dtype: int64\n"
     ]
    },
    {
     "data": {
      "text/plain": [
       "<seaborn.axisgrid.FacetGrid at 0x7f3cdf931bb0>"
      ]
     },
     "execution_count": 57,
     "metadata": {},
     "output_type": "execute_result"
    },
    {
     "data": {
      "image/png": "[encoded data removed]",
      "text/plain": [
       "<Figure size 1512x504 with 1 Axes>"
      ]
     },
     "metadata": {
      "needs_background": "light"
     },
     "output_type": "display_data"
    }
   ],
   "source": [
    "# (1) Derive Probabilties for transition\n",
    "\n",
    "\n",
    "np.random.seed(1997)\n",
    "prob = Probabilities()\n",
    "\n",
    "#p = prob.getProbabilities(0*con.tau*60)\n",
    "p = prob.getProbabilitiesSampled(0*con.tau*60,60000)\n",
    "#p.loc[p.trpstrt==\"n\",:].head(20)\n",
    "#sum(p[\"p\"]) # == 1 !\n",
    "#p[\"p\"] = p[\"p\"].cumsum()\n",
    "p.sort_values(by=['p'])\n",
    "print(p.value_counts())\n",
    "\n",
    "import seaborn as sns\n",
    "sns.displot(p, x=\"trpln\", stat=\"density\",bins=np.arange(0, p.trpln.max()+0.5, 0.5), height = 7, aspect = 3)"
   ]
  },
  {
   "cell_type": "code",
   "execution_count": null,
   "metadata": {},
   "outputs": [],
   "source": [
    "from src.modules import constants as con\n",
    "# Construct ex_info data frame for all ts\n",
    "df_p = pd.DataFrame()\n",
    "\n",
    "for t in np.arange(0, 1440, con.tau*60):\n",
    "    df_p = df_p.append(prob.getProbabilities(t))\n",
    "    \n",
    "sum(df_p.loc[df_p.t == 1425.0,\"p\"])"
   ]
  },
  {
   "cell_type": "code",
   "execution_count": null,
   "metadata": {
    "scrolled": false
   },
   "outputs": [],
   "source": [
    "# (2) Derive state space\n",
    "\n",
    "\n",
    "import time\n",
    "start = time.process_time()\n",
    "# your code here    \n",
    "sts = g.constructStates()\n",
    "print(time.process_time() - start)\n",
    "sts.describe()"
   ]
  },
  {
   "cell_type": "code",
   "execution_count": null,
   "metadata": {},
   "outputs": [],
   "source": [
    "sts.head()\n",
    "len(sts[(sts[\"V_TA\"] == 0) & (sts[\"t\"] == 2) & (sts[\"B_L\"] >= 40) & (sts[\"D\"] == 0)]) ##120\n",
    "len(sts[(sts[\"V_TA\"] == 0) & (sts[\"t\"] == 10) & (sts[\"B_L\"] >= 40)]) ##120"
   ]
  },
  {
   "cell_type": "code",
   "execution_count": null,
   "metadata": {},
   "outputs": [],
   "source": [
    "# (3) Derive decision space\n",
    "from tqdm import tqdm\n",
    "dec = {}\n",
    "\n",
    "for s in tqdm(sts[\"obj\"].head(1)):\n",
    "    dec[s.getKey()] = g.constructDecisions(s)\n",
    "\n",
    "#print(sts.iloc[0])\n",
    "#print(dec)\n",
    "print(pd.DataFrame([x.__str__() for x in dec[sts.loc[0, \"obj\"].getKey()]]))"
   ]
  },
  {
   "cell_type": "code",
   "execution_count": null,
   "metadata": {
    "scrolled": true
   },
   "outputs": [],
   "source": [
    "# Perform transitions\n",
    "np.random.seed(14)\n",
    "\n",
    "prob = Probabilities()\n",
    "ex_inf = prob.getProbabilities(300).loc[0,:]\n",
    "t = Transition(None, sts.loc[0, \"obj\"], dec[sts.loc[0,\"obj\"].getKey()][-1], ex_inf[\"p\"], ex_inf[0:3])\n",
    "\n",
    "\n",
    "print(sts.loc[0, \"obj\"])\n",
    "print(dec[sts.loc[0,\"obj\"].getKey()][-1])\n",
    "print(ex_inf)\n",
    "print()\n",
    "print(t.get_s_d().__str__())"
   ]
  },
  {
   "cell_type": "code",
   "execution_count": null,
   "metadata": {
    "scrolled": true
   },
   "outputs": [],
   "source": [
    "#df.loc[(df[\"t\"] == 0) & (df[\"s_obj\"].apply(lambda x: x.get_B_L() == 4.2)) & (df[\"d_obj\"].apply(lambda d: d.get_x_trip() == 1.0)),~df.columns.isin(['s_obj', 'd_obj', \"tr_obj\"])]\n",
    "df.loc[(df[\"t\"] == 0) & (df[\"d_obj\"].apply(lambda d: d.get_x_t() == 1.0)),~df.columns.isin(['s_obj', 'd_obj', \"tr_obj\"])]['trpln'].astype(int).describe()\n",
    "df.loc[ (df[\"s_obj\"].apply(lambda x: (x.get_D() == 0.0) )) ,~df.columns.isin(['s_obj', 'd_obj', \"tr_obj\"])]"
   ]
  },
  {
   "cell_type": "code",
   "execution_count": 44,
   "metadata": {},
   "outputs": [
    {
     "data": {
      "text/plain": [
       "'d'"
      ]
     },
     "execution_count": 44,
     "metadata": {},
     "output_type": "execute_result"
    }
   ],
   "source": [
    "splitRuntime = pd.DataFrame(columns=[\"t_state\", \"d_state\", \"tr_state\", \"vi\"])\n",
    "splitRuntime.loc[\"20\"] = [\"a\", \"B\", \"c\", \"d\"]\n",
    "splitRuntime.loc[splitRuntime.t_state == \"a\", \"vi\"][0]"
   ]
  },
  {
   "cell_type": "code",
   "execution_count": null,
   "metadata": {},
   "outputs": [],
   "source": [
    "ls = [\"a\"]\n",
    "ls += [\"b\"]\n",
    "ls"
   ]
  }
 ],
 "metadata": {
  "kernelspec": {
   "display_name": "Python 3",
   "language": "python",
   "name": "python3"
  },
  "language_info": {
   "codemirror_mode": {
    "name": "ipython",
    "version": 3
   },
   "file_extension": ".py",
   "mimetype": "text/x-python",
   "name": "python",
   "nbconvert_exporter": "python",
   "pygments_lexer": "ipython3",
   "version": "3.8.5"
  }
 },
 "nbformat": 4,
 "nbformat_minor": 2
}
