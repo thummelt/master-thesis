{
 "cells": [
  {
   "cell_type": "code",
   "execution_count": 1,
   "id": "c810aa0f",
   "metadata": {},
   "outputs": [],
   "source": [
    "import seaborn as sns \n",
    "import pandas as pd\n",
    "import matplotlib.pyplot as plt\n",
    "import matplotlib\n",
    "import matplotlib.font_manager\n",
    "import numpy as np\n",
    "\n",
    "from src.modules import plotter as p\n",
    "from src.modules.analysis import analyseValue, createScenarios, runScen\n",
    "from src.modules.probabilities import Probabilities\n",
    "\n",
    "plts = []"
   ]
  },
  {
   "cell_type": "code",
   "execution_count": 2,
   "id": "e8f8445a",
   "metadata": {},
   "outputs": [],
   "source": [
    "#Config\n",
    "states = 'allstates_[2-11]'\n",
    "algos = ['mo', \"adp\"]\n",
    "iniState = '0,4.0,0.0,0.0,0.044,0.039'\n",
    "prob = Probabilities()"
   ]
  },
  {
   "cell_type": "code",
   "execution_count": null,
   "id": "5d761280",
   "metadata": {},
   "outputs": [],
   "source": [
    "runtime = pd.read_pickle(\"/usr/app/data/tmp/rt.pkl\")\n",
    "splitRuntime = pd.read_pickle(\"/usr/app/data/tmp/splitrt.pkl\")\n",
    "stateSpace = pd.read_pickle(\"/usr/app/data/tmp/sspace.pkl\")\n",
    "decisionSpace = pd.read_pickle(\"/usr/app/data/tmp/dspace.pkl\")\n",
    "totalSpace = pd.read_pickle(\"/usr/app/data/tmp/tspace.pkl\")\n",
    "\n",
    "# Combine spaces\n",
    "space = pd.concat([stateSpace, decisionSpace, totalSpace], axis = 1)\n",
    "space.reset_index(level=0, inplace=True)\n",
    "space.columns = [\"Parameter\",\"State\", \"Decision\", \"Total\"]\n",
    "space = pd.melt(space, id_vars=[\"Parameter\"], value_vars=[\"State\", \"Decision\", \"Total\"]).astype({\"value\": int})\n",
    "\n",
    "allVar = [(\"rt\", runtime), (\"splitrt\", splitRuntime), (\"space\", space), (\"sspace\", stateSpace), (\"dspec\", decisionSpace), (\"tspace\", totalSpace)]"
   ]
  },
  {
   "cell_type": "code",
   "execution_count": 3,
   "id": "51061066",
   "metadata": {},
   "outputs": [
    {
     "name": "stdout",
     "output_type": "stream",
     "text": [
      "11\n",
      "mo - 0\n",
      "mo - 1\n",
      "mo - 2\n",
      "adp - 0\n",
      "adp - 1\n",
      "adp - 2\n"
     ]
    },
    {
     "data": {
      "text/html": [
       "<div>\n",
       "<style scoped>\n",
       "    .dataframe tbody tr th:only-of-type {\n",
       "        vertical-align: middle;\n",
       "    }\n",
       "\n",
       "    .dataframe tbody tr th {\n",
       "        vertical-align: top;\n",
       "    }\n",
       "\n",
       "    .dataframe thead th {\n",
       "        text-align: right;\n",
       "    }\n",
       "</style>\n",
       "<table border=\"1\" class=\"dataframe\">\n",
       "  <thead>\n",
       "    <tr style=\"text-align: right;\">\n",
       "      <th></th>\n",
       "      <th>Algorithm</th>\n",
       "      <th>Scenario</th>\n",
       "      <th>Value</th>\n",
       "    </tr>\n",
       "  </thead>\n",
       "  <tbody>\n",
       "    <tr>\n",
       "      <th>0</th>\n",
       "      <td>mo</td>\n",
       "      <td>0</td>\n",
       "      <td>0.001100</td>\n",
       "    </tr>\n",
       "    <tr>\n",
       "      <th>1</th>\n",
       "      <td>mo</td>\n",
       "      <td>1</td>\n",
       "      <td>-474.991200</td>\n",
       "    </tr>\n",
       "    <tr>\n",
       "      <th>2</th>\n",
       "      <td>mo</td>\n",
       "      <td>2</td>\n",
       "      <td>-0.449434</td>\n",
       "    </tr>\n",
       "    <tr>\n",
       "      <th>3</th>\n",
       "      <td>adp</td>\n",
       "      <td>0</td>\n",
       "      <td>0.000800</td>\n",
       "    </tr>\n",
       "    <tr>\n",
       "      <th>4</th>\n",
       "      <td>adp</td>\n",
       "      <td>1</td>\n",
       "      <td>-474.993600</td>\n",
       "    </tr>\n",
       "    <tr>\n",
       "      <th>5</th>\n",
       "      <td>adp</td>\n",
       "      <td>2</td>\n",
       "      <td>-0.449466</td>\n",
       "    </tr>\n",
       "  </tbody>\n",
       "</table>\n",
       "</div>"
      ],
      "text/plain": [
       "  Algorithm Scenario       Value\n",
       "0        mo        0    0.001100\n",
       "1        mo        1 -474.991200\n",
       "2        mo        2   -0.449434\n",
       "3       adp        0    0.000800\n",
       "4       adp        1 -474.993600\n",
       "5       adp        2   -0.449466"
      ]
     },
     "execution_count": 3,
     "metadata": {},
     "output_type": "execute_result"
    }
   ],
   "source": [
    "# Load decisions\n",
    "dict_dec = {}\n",
    "for a in algos:\n",
    "    dict_dec[a] = pd.read_pickle(\"/usr/app/output/df/%s_best_decisions.pkl\" % a)\n",
    "# Load states\n",
    "df_states = pd.read_pickle(\"/usr/app/output/df/%s.pkl\" % states)\n",
    "\n",
    "analyseValue(dict_dec, iniState, prob, df_states[\"s_obj\"].to_dict())"
   ]
  },
  {
   "cell_type": "code",
   "execution_count": null,
   "id": "9ac06d03",
   "metadata": {
    "scrolled": false
   },
   "outputs": [],
   "source": [
    "# 1. Space comparison\n",
    "plts += [(\"space_comparison\", p.plot_space(allVar[2]))]"
   ]
  },
  {
   "cell_type": "code",
   "execution_count": null,
   "id": "814da140",
   "metadata": {},
   "outputs": [],
   "source": [
    "# 2. State/decision/total comparison"
   ]
  },
  {
   "cell_type": "code",
   "execution_count": null,
   "id": "209cca9d",
   "metadata": {},
   "outputs": [],
   "source": [
    "# 3. Runtime comparison overall"
   ]
  },
  {
   "cell_type": "code",
   "execution_count": null,
   "id": "ffe54279",
   "metadata": {},
   "outputs": [],
   "source": [
    "# 4. Value according to algorithm and scenario"
   ]
  },
  {
   "cell_type": "code",
   "execution_count": null,
   "id": "fe29c58e",
   "metadata": {},
   "outputs": [],
   "source": [
    "# 5. Decision with price and trip demand"
   ]
  },
  {
   "cell_type": "code",
   "execution_count": null,
   "id": "2c23a632",
   "metadata": {},
   "outputs": [],
   "source": [
    "# Export plots\n",
    "for pl in plts:\n",
    "    pl[1].savefig('/usr/app/output/graphics/%s.svg' % pl[0])#,transparent=True)\n",
    "    pl[1].savefig('/usr/app/output/graphics/%s.png' % pl[0])#,transparent=True)"
   ]
  }
 ],
 "metadata": {
  "kernelspec": {
   "display_name": "Python 3",
   "language": "python",
   "name": "python3"
  },
  "language_info": {
   "codemirror_mode": {
    "name": "ipython",
    "version": 3
   },
   "file_extension": ".py",
   "mimetype": "text/x-python",
   "name": "python",
   "nbconvert_exporter": "python",
   "pygments_lexer": "ipython3",
   "version": "3.8.5"
  }
 },
 "nbformat": 4,
 "nbformat_minor": 5
}
