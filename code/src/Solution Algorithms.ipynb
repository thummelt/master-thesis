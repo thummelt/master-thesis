{
 "cells": [
  {
   "cell_type": "code",
   "execution_count": 1,
   "metadata": {
    "scrolled": false
   },
   "outputs": [
    {
     "ename": "SyntaxError",
     "evalue": "closing parenthesis ')' does not match opening parenthesis '[' (generator.py, line 61)",
     "output_type": "error",
     "traceback": [
      "Traceback \u001b[0;36m(most recent call last)\u001b[0m:\n",
      "  File \u001b[1;32m\"/opt/conda/envs/ma-simulation/lib/python3.8/site-packages/IPython/core/interactiveshell.py\"\u001b[0m, line \u001b[1;32m3441\u001b[0m, in \u001b[1;35mrun_code\u001b[0m\n    exec(code_obj, self.user_global_ns, self.user_ns)\n",
      "  File \u001b[1;32m\"<ipython-input-1-f3a37cf20677>\"\u001b[0m, line \u001b[1;32m4\u001b[0m, in \u001b[1;35m<module>\u001b[0m\n    from src.modules.app import App\n",
      "\u001b[0;36m  File \u001b[0;32m\"/usr/app/src/modules/app.py\"\u001b[0;36m, line \u001b[0;32m3\u001b[0;36m, in \u001b[0;35m<module>\u001b[0;36m\u001b[0m\n\u001b[0;31m    from src.modules import generator as g\u001b[0m\n",
      "\u001b[0;36m  File \u001b[0;32m\"/usr/app/src/modules/generator.py\"\u001b[0;36m, line \u001b[0;32m61\u001b[0m\n\u001b[0;31m    df[\"s_obj\"] = [State(s.t, s.B_L, s.V_TA, s.D, s.P_B, s.P_S) for s in df.itertuples())\u001b[0m\n\u001b[0m                                                                                        ^\u001b[0m\n\u001b[0;31mSyntaxError\u001b[0m\u001b[0;31m:\u001b[0m closing parenthesis ')' does not match opening parenthesis '['\n"
     ]
    }
   ],
   "source": [
    "import numpy as np\n",
    "import itertools\n",
    "\n",
    "from src.modules.app import App\n",
    "from src.modules.analysis import Analysis\n",
    "\n",
    "%load_ext autoreload\n",
    "%autoreload 2\n",
    "\n",
    "########################################## Params ##########################################\n",
    "T = np.arange(4,5)\n",
    "trip_max = [10,20,30,40]\n",
    "run_nr = [3, 1, 1]\n",
    "\n",
    "########################################## Constants #######################################\n",
    "iniState = '0,4.0,0.0,0.0,0.044,0.039' # 80% energy level, no trip started, no trip demand, prices with highest prob\n",
    "params = None\n",
    "n = 100\n",
    "samples = 1000"
   ]
  },
  {
   "cell_type": "code",
   "execution_count": null,
   "metadata": {
    "scrolled": true
   },
   "outputs": [
    {
     "name": "stdout",
     "output_type": "stream",
     "text": [
      "(3, 20)\n",
      "States\n"
     ]
    },
    {
     "name": "stderr",
     "output_type": "stream",
     "text": [
      "359469it [00:01, 273849.16it/s]\n"
     ]
    },
    {
     "name": "stdout",
     "output_type": "stream",
     "text": [
      "Decisions\n",
      "Exo\n"
     ]
    },
    {
     "name": "stderr",
     "output_type": "stream",
     "text": [
      "3068it [00:00, 29005.98it/s]"
     ]
    },
    {
     "name": "stdout",
     "output_type": "stream",
     "text": [
      "Trans\n"
     ]
    },
    {
     "name": "stderr",
     "output_type": "stream",
     "text": [
      "13617633it [08:56, 26307.29it/s]"
     ]
    }
   ],
   "source": [
    "algo = \"vi\"\n",
    "\n",
    "app = App(algo)\n",
    "\n",
    "########################################## Executions ######################################\n",
    "for p in [(3,20), (3,30), (3,40)]+list(itertools.product(T,trip_max)):\n",
    "    print(p)\n",
    "    app.run(p[0], p[1], algo, params,run_nr[0])\n",
    "    app.putout()\n",
    "\n",
    "########################################## Results #########################################\n",
    "app.putout()\n",
    "run_nr[0] += 1"
   ]
  },
  {
   "cell_type": "code",
   "execution_count": null,
   "metadata": {},
   "outputs": [],
   "source": [
    "algo = \"mo\"\n",
    "\n",
    "app = App(algo)\n",
    "\n",
    "########################################## Executions ######################################\n",
    "for p in list(itertools.product(T,trip_max)):\n",
    "    print(p)\n",
    "    app.run(p[0], p[1], algo, params,run_nr[1])\n",
    "\n",
    "########################################## Results #########################################\n",
    "app.putout()\n",
    "run_nr[1] += 1"
   ]
  },
  {
   "cell_type": "code",
   "execution_count": null,
   "metadata": {},
   "outputs": [],
   "source": [
    "algo = \"avi\"\n",
    "\n",
    "\n",
    "app = App(algo)\n",
    "\n",
    "########################################## Executions ######################################\n",
    "for p in list(itertools.product(T,trip_max)):\n",
    "    print(p)\n",
    "    params = (iniState, p[0], samples)\n",
    "    app.run(p[0], p[1], algo, params)\n",
    "\n",
    "########################################## Results #########################################\n",
    "app.putout()"
   ]
  },
  {
   "cell_type": "code",
   "execution_count": null,
   "metadata": {},
   "outputs": [],
   "source": [
    "algo = \"adp\"\n",
    "\n",
    "params = (iniState, n, None) # None for samples to create all exog. information \n",
    "\n",
    "app = App(algo)\n",
    "\n",
    "########################################## Executions ######################################\n",
    "for p in list(itertools.product(T,trip_max)):\n",
    "    print(p)\n",
    "    app.run(p[0], p[1], algo, params,run_nr[2])\n",
    "\n",
    "########################################## Results #########################################\n",
    "app.putout()\n",
    "run_nr[2] += 1"
   ]
  }
 ],
 "metadata": {
  "kernelspec": {
   "display_name": "Python 3",
   "language": "python",
   "name": "python3"
  },
  "language_info": {
   "codemirror_mode": {
    "name": "ipython",
    "version": 3
   },
   "file_extension": ".py",
   "mimetype": "text/x-python",
   "name": "python",
   "nbconvert_exporter": "python",
   "pygments_lexer": "ipython3",
   "version": "3.8.5"
  }
 },
 "nbformat": 4,
 "nbformat_minor": 2
}
