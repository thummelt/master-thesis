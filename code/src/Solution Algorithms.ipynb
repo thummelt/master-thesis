{
 "cells": [
  {
   "cell_type": "code",
   "execution_count": 8,
   "metadata": {
    "scrolled": false
   },
   "outputs": [
    {
     "name": "stdout",
     "output_type": "stream",
     "text": [
      "The autoreload extension is already loaded. To reload it, use:\n",
      "  %reload_ext autoreload\n"
     ]
    }
   ],
   "source": [
    "import numpy as np\n",
    "import itertools\n",
    "\n",
    "from src.modules.app import App\n",
    "from src.modules.analysis import Analysis\n",
    "\n",
    "%load_ext autoreload\n",
    "%autoreload 2\n",
    "\n",
    "########################################## Params ##########################################\n",
    "T = np.arange(3,4)\n",
    "trip_max = [2,3]\n",
    "\n",
    "########################################## Constants #######################################\n",
    "iniState = '0,4.0,0.0,0.0,0.044,0.039' # 80% energy level, no trip started, no trip demand, prices with highest prob\n",
    "params = None\n",
    "n = 100\n",
    "samples = 1000"
   ]
  },
  {
   "cell_type": "code",
   "execution_count": 2,
   "metadata": {
    "scrolled": true
   },
   "outputs": [
    {
     "name": "stderr",
     "output_type": "stream",
     "text": [
      "495it [00:00, 110788.71it/s]"
     ]
    },
    {
     "name": "stdout",
     "output_type": "stream",
     "text": [
      "(1, 2)\n",
      "States\n",
      "Decisions\n"
     ]
    },
    {
     "name": "stderr",
     "output_type": "stream",
     "text": [
      "\n"
     ]
    },
    {
     "name": "stdout",
     "output_type": "stream",
     "text": [
      "Exo\n"
     ]
    },
    {
     "name": "stderr",
     "output_type": "stream",
     "text": [
      "176it [00:00, 1748.79it/s]"
     ]
    },
    {
     "name": "stdout",
     "output_type": "stream",
     "text": [
      "Trans\n"
     ]
    },
    {
     "name": "stderr",
     "output_type": "stream",
     "text": [
      "485028it [00:19, 25154.07it/s]\n"
     ]
    },
    {
     "name": "stdout",
     "output_type": "stream",
     "text": [
      "Algo\n",
      "(1, 3)\n",
      "States\n"
     ]
    },
    {
     "name": "stderr",
     "output_type": "stream",
     "text": [
      "594it [00:00, 93669.32it/s]\n"
     ]
    },
    {
     "name": "stdout",
     "output_type": "stream",
     "text": [
      "Decisions\n",
      "Exo\n"
     ]
    },
    {
     "name": "stderr",
     "output_type": "stream",
     "text": [
      "368it [00:00, 3572.50it/s]"
     ]
    },
    {
     "name": "stdout",
     "output_type": "stream",
     "text": [
      "Trans\n"
     ]
    },
    {
     "name": "stderr",
     "output_type": "stream",
     "text": [
      "604584it [00:24, 24824.52it/s]\n"
     ]
    },
    {
     "name": "stdout",
     "output_type": "stream",
     "text": [
      "Algo\n"
     ]
    }
   ],
   "source": [
    "algo = \"vi\"\n",
    "\n",
    "app = App(algo)\n",
    "\n",
    "########################################## Executions ######################################\n",
    "for p in list(itertools.product(T,trip_max)):\n",
    "    print(p)\n",
    "    app.run(p[0], p[1], algo, params)\n",
    "\n",
    "########################################## Results #########################################\n",
    "app.putout()"
   ]
  },
  {
   "cell_type": "code",
   "execution_count": 3,
   "metadata": {},
   "outputs": [
    {
     "name": "stdout",
     "output_type": "stream",
     "text": [
      "(3, 2)\n",
      "States\n"
     ]
    },
    {
     "name": "stderr",
     "output_type": "stream",
     "text": [
      "12303it [00:00, 87007.55it/s]\n"
     ]
    },
    {
     "name": "stdout",
     "output_type": "stream",
     "text": [
      "Decisions\n"
     ]
    },
    {
     "name": "stderr",
     "output_type": "stream",
     "text": [
      "100%|██████████| 12204/12204 [01:19<00:00, 153.09it/s]\n"
     ]
    },
    {
     "name": "stdout",
     "output_type": "stream",
     "text": [
      "Algo\n",
      "(3, 3)\n",
      "States\n"
     ]
    },
    {
     "name": "stderr",
     "output_type": "stream",
     "text": [
      "19044it [00:00, 86271.74it/s]\n",
      "  0%|          | 0/18945 [00:00<?, ?it/s]"
     ]
    },
    {
     "name": "stdout",
     "output_type": "stream",
     "text": [
      "Decisions\n"
     ]
    },
    {
     "name": "stderr",
     "output_type": "stream",
     "text": [
      "100%|██████████| 18945/18945 [02:15<00:00, 140.07it/s]\n"
     ]
    },
    {
     "name": "stdout",
     "output_type": "stream",
     "text": [
      "Algo\n"
     ]
    }
   ],
   "source": [
    "algo = \"mo\"\n",
    "\n",
    "app = App(algo)\n",
    "\n",
    "########################################## Executions ######################################\n",
    "for p in list(itertools.product(T,trip_max)):\n",
    "    print(p)\n",
    "    app.run(p[0], p[1], algo, params)\n",
    "\n",
    "########################################## Results #########################################\n",
    "app.putout()"
   ]
  },
  {
   "cell_type": "code",
   "execution_count": null,
   "metadata": {},
   "outputs": [],
   "source": [
    "algo = \"avi\"\n",
    "\n",
    "\n",
    "app = App(algo)\n",
    "\n",
    "########################################## Executions ######################################\n",
    "for p in list(itertools.product(T,trip_max)):\n",
    "    print(p)\n",
    "    params = (iniState, p[0], samples)\n",
    "    app.run(p[0], p[1], algo, params)\n",
    "\n",
    "########################################## Results #########################################\n",
    "app.putout()"
   ]
  },
  {
   "cell_type": "code",
   "execution_count": 9,
   "metadata": {},
   "outputs": [
    {
     "name": "stdout",
     "output_type": "stream",
     "text": [
      "(3, 2)\n",
      "States\n"
     ]
    },
    {
     "name": "stderr",
     "output_type": "stream",
     "text": [
      "\n",
      "0it [00:00, ?it/s]\u001b[A\n",
      "11908it [00:00, 70485.04it/s][A\n"
     ]
    },
    {
     "name": "stdout",
     "output_type": "stream",
     "text": [
      "Decisions\n",
      "Algo\n",
      "1/100\n"
     ]
    },
    {
     "name": "stderr",
     "output_type": "stream",
     "text": [
      "\n",
      "0it [00:00, ?it/s]\u001b[A\n",
      "112it [00:00, 1095.93it/s]\u001b[A\n",
      "1188it [00:00, 4316.55it/s][A\n",
      "\n",
      "0it [00:00, ?it/s]\u001b[A\n",
      "112it [00:00, 1066.50it/s]\u001b[A\n",
      "828it [00:00, 3390.61it/s]\u001b[A\n",
      "\n",
      "36it [00:00, 651.00it/s]\n",
      "\n",
      "0it [00:00, ?it/s]\u001b[A"
     ]
    },
    {
     "name": "stdout",
     "output_type": "stream",
     "text": [
      "2/100\n"
     ]
    },
    {
     "name": "stderr",
     "output_type": "stream",
     "text": [
      "\n",
      "112it [00:00, 930.55it/s]\u001b[A\n",
      "1188it [00:00, 3884.36it/s][A\n",
      "\n",
      "0it [00:00, ?it/s]\u001b[A\n",
      "112it [00:00, 987.10it/s]\u001b[A\n",
      "828it [00:00, 3145.37it/s]\u001b[A\n",
      "\n",
      "72it [00:00, 1043.56it/s]\n",
      "\n",
      "0it [00:00, ?it/s]\u001b[A"
     ]
    },
    {
     "name": "stdout",
     "output_type": "stream",
     "text": [
      "3/100\n"
     ]
    },
    {
     "name": "stderr",
     "output_type": "stream",
     "text": [
      "\n",
      "80it [00:00, 724.64it/s]\u001b[A\n",
      "1188it [00:00, 3916.19it/s][A\n",
      "\n",
      "0it [00:00, ?it/s]\u001b[A\n",
      "112it [00:00, 1080.28it/s]\u001b[A\n",
      "828it [00:00, 3187.47it/s]\u001b[A\n",
      "\n",
      "108it [00:00, 1160.08it/s]\n",
      "\n",
      "0it [00:00, ?it/s]\u001b[A"
     ]
    },
    {
     "name": "stdout",
     "output_type": "stream",
     "text": [
      "4/100\n"
     ]
    },
    {
     "name": "stderr",
     "output_type": "stream",
     "text": [
      "\n",
      "80it [00:00, 690.99it/s]\u001b[A\n",
      "1188it [00:00, 4471.86it/s][A\n",
      "\n",
      "0it [00:00, ?it/s]\u001b[A\n",
      "864it [00:00, 3818.56it/s]\u001b[A\n",
      "\n",
      "36it [00:00, 768.35it/s]\n",
      "\n",
      "0it [00:00, ?it/s]\u001b[A\n"
     ]
    },
    {
     "name": "stdout",
     "output_type": "stream",
     "text": [
      "5/100\n"
     ]
    },
    {
     "name": "stderr",
     "output_type": "stream",
     "text": [
      "112it [00:00, 1089.25it/s]\u001b[A\n",
      "1188it [00:00, 3870.33it/s][A\n",
      "\n",
      "0it [00:00, ?it/s]\u001b[A\n",
      "176it [00:00, 1581.26it/s]\u001b[A\n",
      "864it [00:00, 4008.00it/s]\u001b[A\n",
      "\n",
      "0it [00:00, ?it/s]\u001b[A\n",
      "144it [00:00, 1077.76it/s]A\n",
      "\n",
      "0it [00:00, ?it/s]\u001b[A\n",
      "148it [00:00, 1476.19it/s]\u001b[A"
     ]
    },
    {
     "name": "stdout",
     "output_type": "stream",
     "text": [
      "6/100\n"
     ]
    },
    {
     "name": "stderr",
     "output_type": "stream",
     "text": [
      "\n",
      "1188it [00:00, 4837.73it/s][A\n",
      "\n",
      "0it [00:00, ?it/s]\u001b[A\n",
      "176it [00:00, 1574.90it/s]\u001b[A\n",
      "828it [00:00, 3634.91it/s]\u001b[A\n",
      "\n",
      "0it [00:00, ?it/s]\u001b[A\n",
      "180it [00:00, 1195.20it/s]\u001b[A\n",
      "\n",
      "0it [00:00, ?it/s]\u001b[A"
     ]
    },
    {
     "name": "stdout",
     "output_type": "stream",
     "text": [
      "7/100\n"
     ]
    },
    {
     "name": "stderr",
     "output_type": "stream",
     "text": [
      "\n",
      "240it [00:00, 1876.08it/s]\u001b[A\n",
      "1188it [00:00, 4789.70it/s]\u001b[A\n",
      "\n",
      "0it [00:00, ?it/s]\u001b[A\n",
      "112it [00:00, 1081.77it/s]\u001b[A\n",
      "864it [00:00, 3590.09it/s]\u001b[A\n",
      "\n",
      "72it [00:00, 1252.87it/s]\n",
      "\n",
      "0it [00:00, ?it/s]\u001b[A\n",
      "176it [00:00, 1614.19it/s]"
     ]
    },
    {
     "name": "stdout",
     "output_type": "stream",
     "text": [
      "8/100\n"
     ]
    },
    {
     "name": "stderr",
     "output_type": "stream",
     "text": [
      "\u001b[A\n",
      "1188it [00:00, 4921.57it/s]\u001b[A\n",
      "\n",
      "0it [00:00, ?it/s]\u001b[A\n",
      "240it [00:00, 2178.21it/s]\u001b[A\n",
      "900it [00:00, 3905.40it/s]\u001b[A\n",
      "\n",
      "0it [00:00, ?it/s]\u001b[A\n",
      "216it [00:00, 1874.76it/s]\u001b[A\n",
      "\n",
      "0it [00:00, ?it/s]\u001b[A"
     ]
    },
    {
     "name": "stdout",
     "output_type": "stream",
     "text": [
      "9/100\n"
     ]
    },
    {
     "name": "stderr",
     "output_type": "stream",
     "text": [
      "\n",
      "176it [00:00, 1484.06it/s]\u001b[A\n",
      "1188it [00:00, 4402.25it/s][A\n",
      "\n",
      "0it [00:00, ?it/s]\u001b[A\n",
      "176it [00:00, 1588.24it/s]\u001b[A\n",
      "828it [00:00, 3639.31it/s]\u001b[A\n",
      "\n",
      "36it [00:00, 978.59it/s]\n",
      "\n",
      "0it [00:00, ?it/s]\u001b[A\n",
      "112it [00:00, 1093.40it/s]\u001b[A"
     ]
    },
    {
     "name": "stdout",
     "output_type": "stream",
     "text": [
      "10/100\n"
     ]
    },
    {
     "name": "stderr",
     "output_type": "stream",
     "text": [
      "\n",
      "1188it [00:00, 4575.40it/s][A\n",
      "\n",
      "0it [00:00, ?it/s]\u001b[A\n",
      "936it [00:00, 5046.19it/s]\u001b[A\n",
      "\n",
      "36it [00:00, 933.97it/s]\n",
      "\n",
      "0it [00:00, ?it/s]\u001b[A\n",
      "176it [00:00, 1754.26it/s]\u001b[A"
     ]
    },
    {
     "name": "stdout",
     "output_type": "stream",
     "text": [
      "11/100\n"
     ]
    },
    {
     "name": "stderr",
     "output_type": "stream",
     "text": [
      "\n",
      "1188it [00:00, 4893.28it/s][A\n",
      "\n",
      "0it [00:00, ?it/s]\u001b[A\n",
      "864it [00:00, 4203.56it/s]\u001b[A\n",
      "\n",
      "0it [00:00, ?it/s]\u001b[A\n",
      "252it [00:00, 1765.75it/s]\u001b[A\n",
      "\n",
      "0it [00:00, ?it/s]\u001b[A\n",
      "176it [00:00, 1709.45it/s]\u001b[A"
     ]
    },
    {
     "name": "stdout",
     "output_type": "stream",
     "text": [
      "12/100\n"
     ]
    },
    {
     "name": "stderr",
     "output_type": "stream",
     "text": [
      "\n",
      "1188it [00:00, 5250.85it/s]\u001b[A\n",
      "\n",
      "0it [00:00, ?it/s]\u001b[A\n",
      "112it [00:00, 1032.92it/s]\u001b[A\n",
      "828it [00:00, 3655.74it/s]\u001b[A\n",
      "\n",
      "0it [00:00, ?it/s]\u001b[A\n",
      "288it [00:00, 1706.05it/s]\u001b[A\n",
      "\n",
      "0it [00:00, ?it/s]\u001b[A\n",
      "176it [00:00, 1742.20it/s]\u001b[A"
     ]
    },
    {
     "name": "stdout",
     "output_type": "stream",
     "text": [
      "13/100\n"
     ]
    },
    {
     "name": "stderr",
     "output_type": "stream",
     "text": [
      "\n",
      "1188it [00:00, 4662.27it/s][A\n",
      "\n",
      "0it [00:00, ?it/s]\u001b[A\n",
      "112it [00:00, 1107.59it/s]\u001b[A\n",
      "828it [00:00, 3379.19it/s]\u001b[A\n",
      "\n",
      "0it [00:00, ?it/s]\u001b[A\n",
      "324it [00:00, 1978.26it/s][A\n",
      "\n",
      "0it [00:00, ?it/s]\u001b[A\n",
      "176it [00:00, 1747.27it/s]\u001b[A"
     ]
    },
    {
     "name": "stdout",
     "output_type": "stream",
     "text": [
      "14/100\n"
     ]
    },
    {
     "name": "stderr",
     "output_type": "stream",
     "text": [
      "\n",
      "1188it [00:00, 4658.14it/s][A\n",
      "\n",
      "0it [00:00, ?it/s]\u001b[A\n",
      "112it [00:00, 1110.69it/s]\u001b[A\n",
      "900it [00:00, 3679.25it/s]\u001b[A\n",
      "\n",
      "0it [00:00, ?it/s]\u001b[A\n",
      "360it [00:00, 2609.62it/s]\u001b[A\n",
      "\n",
      "0it [00:00, ?it/s]\u001b[A"
     ]
    },
    {
     "name": "stdout",
     "output_type": "stream",
     "text": [
      "15/100\n"
     ]
    },
    {
     "name": "stderr",
     "output_type": "stream",
     "text": [
      "\n",
      "176it [00:00, 1513.83it/s]\u001b[A\n",
      "1188it [00:00, 4976.10it/s]\u001b[A\n",
      "\n",
      "0it [00:00, ?it/s]\u001b[A\n",
      "215it [00:00, 2149.85it/s]\u001b[A\n",
      "972it [00:00, 4698.17it/s]\u001b[A\n",
      "\n",
      "0it [00:00, ?it/s]\u001b[A\n",
      "396it [00:00, 2452.42it/s]\u001b[A\n",
      "\n",
      "0it [00:00, ?it/s]\u001b[A\n",
      "112it [00:00, 1081.31it/s]\u001b[A"
     ]
    },
    {
     "name": "stdout",
     "output_type": "stream",
     "text": [
      "16/100\n"
     ]
    },
    {
     "name": "stderr",
     "output_type": "stream",
     "text": [
      "\n",
      "1188it [00:00, 4387.77it/s][A\n",
      "\n",
      "0it [00:00, ?it/s]\u001b[A\n",
      "864it [00:00, 4064.82it/s]\u001b[A\n",
      "\n",
      "0it [00:00, ?it/s]\u001b[A\n",
      "396it [00:00, 2327.63it/s]\u001b[A\n",
      "\n",
      "0it [00:00, ?it/s]\u001b[A\n",
      "176it [00:00, 1669.84it/s]\u001b[A"
     ]
    },
    {
     "name": "stdout",
     "output_type": "stream",
     "text": [
      "17/100\n"
     ]
    },
    {
     "name": "stderr",
     "output_type": "stream",
     "text": [
      "\n",
      "1188it [00:00, 4770.15it/s][A\n",
      "\n",
      "0it [00:00, ?it/s]\u001b[A\n",
      "112it [00:00, 1085.98it/s]\u001b[A\n",
      "936it [00:00, 3970.57it/s]\u001b[A\n",
      "\n",
      "0it [00:00, ?it/s]\u001b[A\n",
      "396it [00:00, 2267.16it/s]\u001b[A\n",
      "\n",
      "0it [00:00, ?it/s]\u001b[A\n"
     ]
    },
    {
     "name": "stdout",
     "output_type": "stream",
     "text": [
      "18/100\n"
     ]
    },
    {
     "name": "stderr",
     "output_type": "stream",
     "text": [
      "176it [00:00, 1561.39it/s]\u001b[A\n",
      "1188it [00:00, 4486.07it/s][A\n",
      "\n",
      "0it [00:00, ?it/s]\u001b[A\n",
      "176it [00:00, 1494.14it/s]\u001b[A\n",
      "864it [00:00, 3825.83it/s]\u001b[A\n",
      "\n",
      "0it [00:00, ?it/s]\u001b[A\n",
      "396it [00:00, 2553.34it/s]\u001b[A\n",
      "\n",
      "0it [00:00, ?it/s]\u001b[A"
     ]
    },
    {
     "name": "stdout",
     "output_type": "stream",
     "text": [
      "19/100\n"
     ]
    },
    {
     "name": "stderr",
     "output_type": "stream",
     "text": [
      "\n",
      "176it [00:00, 1465.78it/s]\u001b[A\n",
      "1188it [00:00, 4264.66it/s][A\n",
      "\n",
      "0it [00:00, ?it/s]\u001b[A\n",
      "972it [00:00, 4888.95it/s]\u001b[A\n",
      "\n",
      "108it [00:00, 1366.56it/s]\n",
      "\n",
      "0it [00:00, ?it/s]\u001b[A\n",
      "176it [00:00, 1596.38it/s]\u001b[A"
     ]
    },
    {
     "name": "stdout",
     "output_type": "stream",
     "text": [
      "20/100\n"
     ]
    },
    {
     "name": "stderr",
     "output_type": "stream",
     "text": [
      "\n",
      "1188it [00:00, 4833.31it/s][A\n",
      "\n",
      "0it [00:00, ?it/s]\u001b[A\n",
      "176it [00:00, 1680.64it/s]\u001b[A\n",
      "828it [00:00, 3288.68it/s]\u001b[A\n",
      "\n",
      "108it [00:00, 1269.79it/s]\n",
      "\n",
      "0it [00:00, ?it/s]\u001b[A"
     ]
    },
    {
     "name": "stdout",
     "output_type": "stream",
     "text": [
      "21/100\n"
     ]
    },
    {
     "name": "stderr",
     "output_type": "stream",
     "text": [
      "\n",
      "176it [00:00, 1604.19it/s]\u001b[A\n",
      "368it [00:00, 1574.14it/s]\u001b[A\n",
      "526it [00:00, 1559.11it/s]\u001b[A\n",
      "1188it [00:00, 2197.40it/s]\u001b[A\n",
      "\n",
      "0it [00:00, ?it/s]\u001b[A\n",
      "240it [00:00, 2124.45it/s]\u001b[A\n",
      "1008it [00:00, 4528.61it/s]\u001b[A\n",
      "\n",
      "0it [00:00, ?it/s]\u001b[A\n",
      "396it [00:00, 2653.06it/s]\u001b[A\n",
      "\n",
      "0it [00:00, ?it/s]\u001b[A"
     ]
    },
    {
     "name": "stdout",
     "output_type": "stream",
     "text": [
      "22/100\n"
     ]
    },
    {
     "name": "stderr",
     "output_type": "stream",
     "text": [
      "\n",
      "112it [00:00, 900.32it/s]\u001b[A\n",
      "1188it [00:00, 3894.57it/s][A\n",
      "\n",
      "0it [00:00, ?it/s]\u001b[A\n",
      "80it [00:00, 660.51it/s]\u001b[A\n",
      "377it [00:00, 1910.17it/s]\u001b[A\n",
      "1044it [00:00, 2836.91it/s][A\n",
      "\n",
      "0it [00:00, ?it/s]\u001b[A\n",
      "80it [00:00, 772.37it/s]\u001b[A\n",
      "396it [00:00, 1486.59it/s]\u001b[A\n",
      "\n",
      "0it [00:00, ?it/s]\u001b[A\n",
      "176it [00:00, 1684.36it/s]\u001b[A"
     ]
    },
    {
     "name": "stdout",
     "output_type": "stream",
     "text": [
      "23/100\n"
     ]
    },
    {
     "name": "stderr",
     "output_type": "stream",
     "text": [
      "\n",
      "1188it [00:00, 4936.28it/s][A\n",
      "\n",
      "0it [00:00, ?it/s]\u001b[A\n",
      "176it [00:00, 1588.06it/s]\u001b[A\n",
      "900it [00:00, 4052.21it/s]\u001b[A\n",
      "\n",
      "144it [00:00, 1447.00it/s]\n",
      "\n",
      "0it [00:00, ?it/s]\u001b[A\n"
     ]
    },
    {
     "name": "stdout",
     "output_type": "stream",
     "text": [
      "24/100\n"
     ]
    },
    {
     "name": "stderr",
     "output_type": "stream",
     "text": [
      "176it [00:00, 1536.93it/s]\u001b[A\n",
      "1188it [00:00, 4924.16it/s]\u001b[A\n",
      "\n",
      "0it [00:00, ?it/s]\u001b[A\n",
      "972it [00:00, 4917.51it/s]\u001b[A\n",
      "\n",
      "144it [00:00, 1559.20it/s]\n",
      "\n",
      "0it [00:00, ?it/s]\u001b[A\n",
      "176it [00:00, 1596.22it/s]\u001b[A"
     ]
    },
    {
     "name": "stdout",
     "output_type": "stream",
     "text": [
      "25/100\n"
     ]
    },
    {
     "name": "stderr",
     "output_type": "stream",
     "text": [
      "\n",
      "1188it [00:00, 4280.10it/s][A\n",
      "\n",
      "0it [00:00, ?it/s]\u001b[A\n",
      "176it [00:00, 1486.79it/s]\u001b[A\n",
      "828it [00:00, 3530.37it/s]\u001b[A\n",
      "\n",
      "144it [00:00, 1581.89it/s]\n",
      "\n",
      "0it [00:00, ?it/s]\u001b[A\n",
      "112it [00:00, 1104.83it/s]\u001b[A"
     ]
    },
    {
     "name": "stdout",
     "output_type": "stream",
     "text": [
      "26/100\n"
     ]
    },
    {
     "name": "stderr",
     "output_type": "stream",
     "text": [
      "\n",
      "1188it [00:00, 4285.28it/s][A\n",
      "\n",
      "0it [00:00, ?it/s]\u001b[A\n",
      "112it [00:00, 1082.19it/s]\u001b[A\n",
      "1080it [00:00, 4203.12it/s][A\n",
      "\n",
      "0it [00:00, ?it/s]\u001b[A\n",
      "180it [00:00, 1394.53it/s]\u001b[A\n",
      "\n",
      "0it [00:00, ?it/s]\u001b[A"
     ]
    },
    {
     "name": "stdout",
     "output_type": "stream",
     "text": [
      "27/100\n"
     ]
    },
    {
     "name": "stderr",
     "output_type": "stream",
     "text": [
      "\n",
      "80it [00:00, 772.93it/s]\u001b[A\n",
      "1188it [00:00, 4348.48it/s][A\n",
      "\n",
      "0it [00:00, ?it/s]\u001b[A\n",
      "112it [00:00, 967.10it/s]\u001b[A\n",
      "1044it [00:00, 3533.74it/s][A\n",
      "\n",
      "0it [00:00, ?it/s]\u001b[A\n",
      "80it [00:00, 799.57it/s]\u001b[A\n",
      "396it [00:00, 1801.49it/s]\u001b[A\n",
      "\n",
      "0it [00:00, ?it/s]\u001b[A"
     ]
    },
    {
     "name": "stdout",
     "output_type": "stream",
     "text": [
      "28/100\n"
     ]
    },
    {
     "name": "stderr",
     "output_type": "stream",
     "text": [
      "\n",
      "176it [00:00, 1591.08it/s]\u001b[A\n",
      "1188it [00:00, 4319.50it/s][A\n",
      "\n",
      "0it [00:00, ?it/s]\u001b[A\n",
      "80it [00:00, 767.67it/s]\u001b[A\n",
      "368it [00:00, 1944.57it/s]\u001b[A\n",
      "1044it [00:00, 3330.63it/s]\u001b[A\n",
      "\n",
      "0it [00:00, ?it/s]\u001b[A\n",
      "180it [00:00, 1364.83it/s]\u001b[A\n",
      "\n",
      "0it [00:00, ?it/s]\u001b[A"
     ]
    },
    {
     "name": "stdout",
     "output_type": "stream",
     "text": [
      "29/100\n"
     ]
    },
    {
     "name": "stderr",
     "output_type": "stream",
     "text": [
      "\n",
      "80it [00:00, 660.16it/s]\u001b[A\n",
      "1188it [00:00, 3375.74it/s][A\n",
      "\n",
      "0it [00:00, ?it/s]\u001b[A\n",
      "176it [00:00, 1555.01it/s]\u001b[A\n",
      "1116it [00:00, 4728.18it/s]\u001b[A\n",
      "\n",
      "0it [00:00, ?it/s]\u001b[A\n",
      "180it [00:00, 1551.35it/s]\u001b[A\n",
      "\n",
      "0it [00:00, ?it/s]\u001b[A"
     ]
    },
    {
     "name": "stdout",
     "output_type": "stream",
     "text": [
      "30/100\n"
     ]
    },
    {
     "name": "stderr",
     "output_type": "stream",
     "text": [
      "\n",
      "176it [00:00, 1562.64it/s]\u001b[A\n",
      "1188it [00:00, 4131.81it/s]\u001b[A\n",
      "\n",
      "0it [00:00, ?it/s]\u001b[A\n",
      "936it [00:00, 4737.21it/s]\u001b[A\n",
      "\n",
      "144it [00:00, 1531.66it/s]\n",
      "\n",
      "0it [00:00, ?it/s]\u001b[A\n",
      "176it [00:00, 1643.40it/s]\u001b[A"
     ]
    },
    {
     "name": "stdout",
     "output_type": "stream",
     "text": [
      "31/100\n"
     ]
    },
    {
     "name": "stderr",
     "output_type": "stream",
     "text": [
      "\n",
      "1188it [00:00, 4777.29it/s][A\n",
      "\n",
      "0it [00:00, ?it/s]\u001b[A\n",
      "176it [00:00, 1450.48it/s]\u001b[A\n",
      "864it [00:00, 3717.39it/s]\u001b[A\n",
      "\n",
      "0it [00:00, ?it/s]\u001b[A\n",
      "180it [00:00, 1519.38it/s]\u001b[A\n",
      "\n",
      "0it [00:00, ?it/s]\u001b[A\n",
      "112it [00:00, 1103.43it/s]\u001b[A"
     ]
    },
    {
     "name": "stdout",
     "output_type": "stream",
     "text": [
      "32/100\n"
     ]
    },
    {
     "name": "stderr",
     "output_type": "stream",
     "text": [
      "\n",
      "1188it [00:00, 4182.19it/s][A\n",
      "\n",
      "0it [00:00, ?it/s]\u001b[A\n",
      "176it [00:00, 1561.97it/s]\u001b[A\n",
      "1152it [00:00, 4474.21it/s][A\n",
      "\n",
      "0it [00:00, ?it/s]\u001b[A\n",
      "180it [00:00, 1621.75it/s]\u001b[A\n",
      "\n",
      "0it [00:00, ?it/s]\u001b[A\n",
      "176it [00:00, 1727.57it/s]\u001b[A"
     ]
    },
    {
     "name": "stdout",
     "output_type": "stream",
     "text": [
      "33/100\n"
     ]
    },
    {
     "name": "stderr",
     "output_type": "stream",
     "text": [
      "\n",
      "1188it [00:00, 4614.05it/s][A\n",
      "\n",
      "0it [00:00, ?it/s]\u001b[A\n",
      "112it [00:00, 1058.03it/s]\u001b[A\n",
      "900it [00:00, 3643.26it/s]\u001b[A\n",
      "\n",
      "0it [00:00, ?it/s]\u001b[A\n",
      "216it [00:00, 1358.56it/s][A\n",
      "\n",
      "0it [00:00, ?it/s]\u001b[A\n",
      "112it [00:00, 1070.07it/s]\u001b[A"
     ]
    },
    {
     "name": "stdout",
     "output_type": "stream",
     "text": [
      "34/100\n"
     ]
    },
    {
     "name": "stderr",
     "output_type": "stream",
     "text": [
      "\n",
      "1188it [00:00, 4263.35it/s][A\n",
      "\n",
      "0it [00:00, ?it/s]\u001b[A\n",
      "176it [00:00, 1657.30it/s]\u001b[A\n",
      "1008it [00:00, 4090.44it/s][A\n",
      "\n",
      "0it [00:00, ?it/s]\u001b[A\n",
      "216it [00:00, 1678.03it/s]\u001b[A\n",
      "\n",
      "0it [00:00, ?it/s]\u001b[A\n",
      "176it [00:00, 1644.95it/s]\u001b[A"
     ]
    },
    {
     "name": "stdout",
     "output_type": "stream",
     "text": [
      "35/100\n"
     ]
    },
    {
     "name": "stderr",
     "output_type": "stream",
     "text": [
      "\n",
      "1188it [00:00, 4900.35it/s][A\n",
      "\n",
      "0it [00:00, ?it/s]\u001b[A\n",
      "112it [00:00, 1009.65it/s]\u001b[A\n",
      "900it [00:00, 3229.00it/s]\u001b[A\n",
      "\n",
      "0it [00:00, ?it/s]\u001b[A\n",
      "216it [00:00, 1600.24it/s]\u001b[A\n",
      "\n",
      "0it [00:00, ?it/s]\u001b[A\n",
      "176it [00:00, 1583.42it/s]\u001b[A"
     ]
    },
    {
     "name": "stdout",
     "output_type": "stream",
     "text": [
      "36/100\n"
     ]
    },
    {
     "name": "stderr",
     "output_type": "stream",
     "text": [
      "\n",
      "1188it [00:00, 4733.64it/s][A\n",
      "\n",
      "0it [00:00, ?it/s]\u001b[A\n",
      "936it [00:00, 4555.99it/s]\u001b[A\n",
      "\n",
      "108it [00:00, 1486.67it/s]\n",
      "\n",
      "0it [00:00, ?it/s]\u001b[A\n",
      "176it [00:00, 1636.30it/s]\u001b[A"
     ]
    },
    {
     "name": "stdout",
     "output_type": "stream",
     "text": [
      "37/100\n"
     ]
    },
    {
     "name": "stderr",
     "output_type": "stream",
     "text": [
      "\n",
      "1188it [00:00, 5018.72it/s]\u001b[A\n",
      "\n",
      "0it [00:00, ?it/s]\u001b[A\n",
      "176it [00:00, 1430.43it/s]\u001b[A\n",
      "864it [00:00, 3549.96it/s]\u001b[A\n",
      "\n",
      "216it [00:00, 2100.91it/s]\n",
      "\n",
      "0it [00:00, ?it/s]\u001b[A\n",
      "176it [00:00, 1590.88it/s]\u001b[A"
     ]
    },
    {
     "name": "stdout",
     "output_type": "stream",
     "text": [
      "38/100\n"
     ]
    },
    {
     "name": "stderr",
     "output_type": "stream",
     "text": [
      "\n",
      "1188it [00:00, 4709.26it/s][A\n",
      "\n",
      "0it [00:00, ?it/s]\u001b[A\n",
      "112it [00:00, 1040.36it/s]\u001b[A\n",
      "900it [00:00, 3617.50it/s]\u001b[A\n",
      "\n",
      "0it [00:00, ?it/s]\u001b[A\n",
      "216it [00:00, 1828.68it/s]\u001b[A\n",
      "\n",
      "0it [00:00, ?it/s]\u001b[A"
     ]
    },
    {
     "name": "stdout",
     "output_type": "stream",
     "text": [
      "39/100\n"
     ]
    },
    {
     "name": "stderr",
     "output_type": "stream",
     "text": [
      "\n",
      "176it [00:00, 1588.72it/s]\u001b[A\n",
      "1188it [00:00, 4556.63it/s][A\n",
      "\n",
      "0it [00:00, ?it/s]\u001b[A\n",
      "900it [00:00, 4252.41it/s]\u001b[A\n",
      "\n",
      "0it [00:00, ?it/s]\u001b[A\n",
      "216it [00:00, 1684.22it/s]\u001b[A\n",
      "\n",
      "0it [00:00, ?it/s]\u001b[A"
     ]
    },
    {
     "name": "stdout",
     "output_type": "stream",
     "text": [
      "40/100\n"
     ]
    },
    {
     "name": "stderr",
     "output_type": "stream",
     "text": [
      "\n",
      "112it [00:00, 1055.13it/s]\u001b[A\n",
      "1188it [00:00, 4499.00it/s][A\n",
      "\n",
      "0it [00:00, ?it/s]\u001b[A\n",
      "900it [00:00, 5167.29it/s]\u001b[A\n",
      "\n",
      "0it [00:00, ?it/s]\u001b[A\n",
      "216it [00:00, 1965.73it/s]\u001b[A\n",
      "\n",
      "0it [00:00, ?it/s]\u001b[A\n",
      "240it [00:00, 2124.01it/s]\u001b[A"
     ]
    },
    {
     "name": "stdout",
     "output_type": "stream",
     "text": [
      "41/100\n"
     ]
    },
    {
     "name": "stderr",
     "output_type": "stream",
     "text": [
      "\n",
      "1188it [00:00, 5432.85it/s]\u001b[A\n",
      "\n",
      "0it [00:00, ?it/s]\u001b[A\n",
      "240it [00:00, 2138.50it/s]\u001b[A\n",
      "936it [00:00, 4056.47it/s]\u001b[A\n",
      "\n",
      "0it [00:00, ?it/s]\u001b[A\n",
      "216it [00:00, 1964.11it/s]\u001b[A\n",
      "\n",
      "0it [00:00, ?it/s]\u001b[A\n",
      "176it [00:00, 1568.36it/s]"
     ]
    },
    {
     "name": "stdout",
     "output_type": "stream",
     "text": [
      "42/100\n"
     ]
    },
    {
     "name": "stderr",
     "output_type": "stream",
     "text": [
      "\u001b[A\n",
      "1188it [00:00, 4746.77it/s][A\n",
      "\n",
      "0it [00:00, ?it/s]\u001b[A\n",
      "176it [00:00, 1740.10it/s]\u001b[A\n",
      "1188it [00:00, 5445.17it/s]\u001b[A\n",
      "\n",
      "0it [00:00, ?it/s]\u001b[A\n",
      "252it [00:00, 1899.17it/s]\u001b[A\n",
      "\n",
      "0it [00:00, ?it/s]\u001b[A\n",
      "176it [00:00, 1683.51it/s]\u001b[A"
     ]
    },
    {
     "name": "stdout",
     "output_type": "stream",
     "text": [
      "43/100\n"
     ]
    },
    {
     "name": "stderr",
     "output_type": "stream",
     "text": [
      "\n",
      "1188it [00:00, 4998.57it/s]\u001b[A\n",
      "\n",
      "0it [00:00, ?it/s]\u001b[A\n",
      "176it [00:00, 1585.65it/s]\u001b[A\n",
      "828it [00:00, 3577.96it/s]\u001b[A\n",
      "\n",
      "0it [00:00, ?it/s]\u001b[A\n",
      "216it [00:00, 1486.43it/s]A\n",
      "\n",
      "0it [00:00, ?it/s]\u001b[A"
     ]
    },
    {
     "name": "stdout",
     "output_type": "stream",
     "text": [
      "44/100\n"
     ]
    },
    {
     "name": "stderr",
     "output_type": "stream",
     "text": [
      "\n",
      "176it [00:00, 1465.61it/s]\u001b[A\n",
      "1188it [00:00, 4343.12it/s][A\n",
      "\n",
      "0it [00:00, ?it/s]\u001b[A\n",
      "176it [00:00, 1567.90it/s]\u001b[A\n",
      "1188it [00:00, 4902.14it/s]\u001b[A\n",
      "\n",
      "0it [00:00, ?it/s]\u001b[A\n",
      "252it [00:00, 1548.72it/s]\u001b[A\n",
      "\n",
      "0it [00:00, ?it/s]\u001b[A"
     ]
    },
    {
     "name": "stdout",
     "output_type": "stream",
     "text": [
      "45/100\n"
     ]
    },
    {
     "name": "stderr",
     "output_type": "stream",
     "text": [
      "\n",
      "176it [00:00, 1532.50it/s]\u001b[A\n",
      "1188it [00:00, 4351.58it/s][A\n",
      "\n",
      "0it [00:00, ?it/s]\u001b[A\n",
      "828it [00:00, 3887.21it/s]\u001b[A\n",
      "\n",
      "0it [00:00, ?it/s]\u001b[A\n",
      "216it [00:00, 1748.29it/s]\u001b[A\n",
      "\n",
      "0it [00:00, ?it/s]\u001b[A"
     ]
    },
    {
     "name": "stdout",
     "output_type": "stream",
     "text": [
      "46/100\n"
     ]
    },
    {
     "name": "stderr",
     "output_type": "stream",
     "text": [
      "\n",
      "112it [00:00, 1024.77it/s]\u001b[A\n",
      "1188it [00:00, 4438.36it/s][A\n",
      "\n",
      "0it [00:00, ?it/s]\u001b[A\n",
      "112it [00:00, 1075.72it/s]\u001b[A\n",
      "1008it [00:00, 3947.71it/s][A\n",
      "\n",
      "0it [00:00, ?it/s]\u001b[A\n",
      "216it [00:00, 1769.40it/s]\u001b[A\n",
      "\n",
      "0it [00:00, ?it/s]\u001b[A\n"
     ]
    },
    {
     "name": "stdout",
     "output_type": "stream",
     "text": [
      "47/100\n"
     ]
    },
    {
     "name": "stderr",
     "output_type": "stream",
     "text": [
      "112it [00:00, 1062.78it/s]\u001b[A\n",
      "1188it [00:00, 4596.61it/s][A\n",
      "\n",
      "0it [00:00, ?it/s]\u001b[A\n",
      "112it [00:00, 1002.73it/s]\u001b[A\n",
      "1080it [00:00, 3928.71it/s][A\n",
      "\n",
      "0it [00:00, ?it/s]\u001b[A\n",
      "252it [00:00, 1850.73it/s]\u001b[A\n",
      "\n",
      "0it [00:00, ?it/s]\u001b[A\n",
      "112it [00:00, 1096.05it/s]\u001b[A"
     ]
    },
    {
     "name": "stdout",
     "output_type": "stream",
     "text": [
      "48/100\n"
     ]
    },
    {
     "name": "stderr",
     "output_type": "stream",
     "text": [
      "\n",
      "1188it [00:00, 4802.40it/s][A\n",
      "\n",
      "0it [00:00, ?it/s]\u001b[A\n",
      "900it [00:00, 4280.36it/s]\u001b[A\n",
      "\n",
      "0it [00:00, ?it/s]\u001b[A\n",
      "252it [00:00, 2238.63it/s]\u001b[A\n",
      "\n",
      "0it [00:00, ?it/s]\u001b[A\n",
      "176it [00:00, 1584.27it/s]\u001b[A"
     ]
    },
    {
     "name": "stdout",
     "output_type": "stream",
     "text": [
      "49/100\n"
     ]
    },
    {
     "name": "stderr",
     "output_type": "stream",
     "text": [
      "\n",
      "1188it [00:00, 5075.94it/s]\u001b[A\n",
      "\n",
      "0it [00:00, ?it/s]\u001b[A\n",
      "900it [00:00, 4605.53it/s]\u001b[A\n",
      "\n",
      "0it [00:00, ?it/s]\u001b[A\n",
      "252it [00:00, 1852.29it/s]\u001b[A\n",
      "\n",
      "0it [00:00, ?it/s]\u001b[A\n",
      "176it [00:00, 1647.21it/s]\u001b[A"
     ]
    },
    {
     "name": "stdout",
     "output_type": "stream",
     "text": [
      "50/100\n"
     ]
    },
    {
     "name": "stderr",
     "output_type": "stream",
     "text": [
      "\n",
      "1188it [00:00, 4726.25it/s][A\n",
      "\n",
      "0it [00:00, ?it/s]\u001b[A\n",
      "176it [00:00, 1704.95it/s]\u001b[A\n",
      "900it [00:00, 4084.50it/s]\u001b[A\n",
      "\n",
      "108it [00:00, 1551.10it/s]\n",
      "\n",
      "0it [00:00, ?it/s]\u001b[A\n",
      "240it [00:00, 2164.66it/s]\u001b[A"
     ]
    },
    {
     "name": "stdout",
     "output_type": "stream",
     "text": [
      "51/100\n"
     ]
    },
    {
     "name": "stderr",
     "output_type": "stream",
     "text": [
      "\n",
      "1188it [00:00, 5528.08it/s]\u001b[A\n",
      "\n",
      "0it [00:00, ?it/s]\u001b[A\n",
      "828it [00:00, 4083.95it/s]\u001b[A\n",
      "\n",
      "108it [00:00, 1736.71it/s]\n",
      "\n",
      "0it [00:00, ?it/s]\u001b[A"
     ]
    },
    {
     "name": "stdout",
     "output_type": "stream",
     "text": [
      "52/100\n"
     ]
    },
    {
     "name": "stderr",
     "output_type": "stream",
     "text": [
      "\n",
      "176it [00:00, 1396.07it/s]\u001b[A\n",
      "1188it [00:00, 4440.05it/s]\u001b[A\n",
      "\n",
      "0it [00:00, ?it/s]\u001b[A\n",
      "232it [00:00, 2319.74it/s]\u001b[A\n",
      "864it [00:00, 3826.73it/s]\u001b[A\n",
      "\n",
      "108it [00:00, 1490.35it/s]\n",
      "\n",
      "0it [00:00, ?it/s]\u001b[A"
     ]
    },
    {
     "name": "stdout",
     "output_type": "stream",
     "text": [
      "53/100\n"
     ]
    },
    {
     "name": "stderr",
     "output_type": "stream",
     "text": [
      "\n",
      "112it [00:00, 977.90it/s]\u001b[A\n",
      "1188it [00:00, 3765.59it/s][A\n",
      "\n",
      "0it [00:00, ?it/s]\u001b[A\n",
      "828it [00:00, 3998.50it/s]\u001b[A\n",
      "\n",
      "108it [00:00, 1748.29it/s]\n",
      "\n",
      "0it [00:00, ?it/s]\u001b[A\n",
      "112it [00:00, 1038.39it/s]\u001b[A"
     ]
    },
    {
     "name": "stdout",
     "output_type": "stream",
     "text": [
      "54/100\n"
     ]
    },
    {
     "name": "stderr",
     "output_type": "stream",
     "text": [
      "\n",
      "1188it [00:00, 3857.99it/s][A\n",
      "\n",
      "0it [00:00, ?it/s]\u001b[A\n",
      "828it [00:00, 4426.18it/s]\u001b[A\n",
      "\n",
      "108it [00:00, 1602.14it/s]\n",
      "\n",
      "0it [00:00, ?it/s]\u001b[A"
     ]
    },
    {
     "name": "stdout",
     "output_type": "stream",
     "text": [
      "55/100\n"
     ]
    },
    {
     "name": "stderr",
     "output_type": "stream",
     "text": [
      "\n",
      "112it [00:00, 958.23it/s]\u001b[A\n",
      "1188it [00:00, 4084.22it/s][A\n",
      "\n",
      "0it [00:00, ?it/s]\u001b[A\n",
      "828it [00:00, 4567.38it/s]\u001b[A\n",
      "\n",
      "108it [00:00, 1365.50it/s]\n",
      "\n",
      "0it [00:00, ?it/s]\u001b[A\n",
      "180it [00:00, 1797.88it/s]\u001b[A"
     ]
    },
    {
     "name": "stdout",
     "output_type": "stream",
     "text": [
      "56/100\n"
     ]
    },
    {
     "name": "stderr",
     "output_type": "stream",
     "text": [
      "\n",
      "1188it [00:00, 4903.34it/s][A\n",
      "\n",
      "0it [00:00, ?it/s]\u001b[A\n",
      "176it [00:00, 1648.35it/s]\u001b[A\n",
      "1188it [00:00, 4680.13it/s][A\n",
      "\n",
      "0it [00:00, ?it/s]\u001b[A\n",
      "396it [00:00, 2525.44it/s]\u001b[A\n",
      "\n",
      "0it [00:00, ?it/s]\u001b[A\n",
      "240it [00:00, 2142.09it/s]\u001b[A"
     ]
    },
    {
     "name": "stdout",
     "output_type": "stream",
     "text": [
      "57/100\n"
     ]
    },
    {
     "name": "stderr",
     "output_type": "stream",
     "text": [
      "1188it [00:00, 5664.46it/s]\n",
      "\n",
      "0it [00:00, ?it/s]\u001b[A\n",
      "864it [00:00, 4165.80it/s]\u001b[A\n",
      "\n",
      "108it [00:00, 1576.19it/s]\n",
      "\n",
      "0it [00:00, ?it/s]\u001b[A\n",
      "171it [00:00, 1709.79it/s]\u001b[A"
     ]
    },
    {
     "name": "stdout",
     "output_type": "stream",
     "text": [
      "58/100\n"
     ]
    },
    {
     "name": "stderr",
     "output_type": "stream",
     "text": [
      "\n",
      "1188it [00:00, 4997.58it/s][A\n",
      "\n",
      "0it [00:00, ?it/s]\u001b[A\n",
      "864it [00:00, 4533.97it/s]\u001b[A\n",
      "\n",
      "0it [00:00, ?it/s]\u001b[A\n",
      "108it [00:00, 953.29it/s][A\n",
      "\n",
      "0it [00:00, ?it/s]\u001b[A\n",
      "176it [00:00, 1674.84it/s]\u001b[A"
     ]
    },
    {
     "name": "stdout",
     "output_type": "stream",
     "text": [
      "59/100\n"
     ]
    },
    {
     "name": "stderr",
     "output_type": "stream",
     "text": [
      "\n",
      "1188it [00:00, 4932.91it/s]\u001b[A\n",
      "\n",
      "0it [00:00, ?it/s]\u001b[A\n",
      "864it [00:00, 4161.45it/s]\u001b[A\n",
      "\n",
      "108it [00:00, 1792.28it/s]\n",
      "\n",
      "0it [00:00, ?it/s]\u001b[A"
     ]
    },
    {
     "name": "stdout",
     "output_type": "stream",
     "text": [
      "60/100\n"
     ]
    },
    {
     "name": "stderr",
     "output_type": "stream",
     "text": [
      "\n",
      "112it [00:00, 968.87it/s]\u001b[A\n",
      "1188it [00:00, 4152.28it/s][A\n",
      "\n",
      "0it [00:00, ?it/s]\u001b[A\n",
      "864it [00:00, 4279.93it/s]\u001b[A\n",
      "\n",
      "0it [00:00, ?it/s]\u001b[A\n",
      "288it [00:00, 2071.73it/s]\u001b[A\n",
      "\n",
      "0it [00:00, ?it/s]\u001b[A\n",
      "176it [00:00, 1650.80it/s]"
     ]
    },
    {
     "name": "stdout",
     "output_type": "stream",
     "text": [
      "61/100\n"
     ]
    },
    {
     "name": "stderr",
     "output_type": "stream",
     "text": [
      "\u001b[A\n",
      "1188it [00:00, 4605.41it/s][A\n",
      "\n",
      "0it [00:00, ?it/s]\u001b[A\n",
      "176it [00:00, 1721.24it/s]\u001b[A\n",
      "1080it [00:00, 5120.02it/s]\u001b[A\n",
      "\n",
      "0it [00:00, ?it/s]\u001b[A\n",
      "288it [00:00, 2041.40it/s]\u001b[A\n",
      "\n",
      "0it [00:00, ?it/s]\u001b[A\n",
      "240it [00:00, 2160.31it/s]\u001b[A"
     ]
    },
    {
     "name": "stdout",
     "output_type": "stream",
     "text": [
      "62/100\n"
     ]
    },
    {
     "name": "stderr",
     "output_type": "stream",
     "text": [
      "1188it [00:00, 5722.07it/s]\n",
      "\n",
      "0it [00:00, ?it/s]\u001b[A\n",
      "936it [00:00, 4809.29it/s]\u001b[A\n",
      "\n",
      "108it [00:00, 1563.91it/s]\n",
      "\n",
      "0it [00:00, ?it/s]\u001b[A\n",
      "176it [00:00, 1688.86it/s]\u001b[A"
     ]
    },
    {
     "name": "stdout",
     "output_type": "stream",
     "text": [
      "63/100\n"
     ]
    },
    {
     "name": "stderr",
     "output_type": "stream",
     "text": [
      "\n",
      "1188it [00:00, 5158.93it/s]\u001b[A\n",
      "\n",
      "0it [00:00, ?it/s]\u001b[A\n",
      "1116it [00:00, 5686.12it/s][A\n",
      "\n",
      "0it [00:00, ?it/s]\u001b[A\n",
      "324it [00:00, 2628.08it/s]\u001b[A\n",
      "\n",
      "0it [00:00, ?it/s]\u001b[A\n",
      "176it [00:00, 1518.78it/s]\u001b[A"
     ]
    },
    {
     "name": "stdout",
     "output_type": "stream",
     "text": [
      "64/100\n"
     ]
    },
    {
     "name": "stderr",
     "output_type": "stream",
     "text": [
      "1188it [00:00, 5554.35it/s]\n",
      "\n",
      "0it [00:00, ?it/s]\u001b[A\n",
      "936it [00:00, 5580.29it/s]\u001b[A\n",
      "\n",
      "324it [00:00, 3238.32it/s]\n",
      "\n",
      "0it [00:00, ?it/s]\u001b[A\n",
      "240it [00:00, 2127.61it/s]\u001b[A"
     ]
    },
    {
     "name": "stdout",
     "output_type": "stream",
     "text": [
      "65/100\n"
     ]
    },
    {
     "name": "stderr",
     "output_type": "stream",
     "text": [
      "1188it [00:00, 5669.26it/s]\n",
      "\n",
      "0it [00:00, ?it/s]\u001b[A\n",
      "828it [00:00, 4601.48it/s]\u001b[A\n",
      "\n",
      "108it [00:00, 1705.23it/s]\n",
      "\n",
      "0it [00:00, ?it/s]\u001b[A\n",
      "176it [00:00, 1758.37it/s]\u001b[A"
     ]
    },
    {
     "name": "stdout",
     "output_type": "stream",
     "text": [
      "66/100\n"
     ]
    },
    {
     "name": "stderr",
     "output_type": "stream",
     "text": [
      "\n",
      "1188it [00:00, 5553.07it/s]\u001b[A\n",
      "\n",
      "0it [00:00, ?it/s]\u001b[A\n",
      "972it [00:00, 4914.61it/s]\u001b[A\n",
      "\n",
      "0it [00:00, ?it/s]\u001b[A\n",
      "324it [00:00, 2628.49it/s]\u001b[A\n",
      "\n",
      "0it [00:00, ?it/s]\u001b[A\n",
      "240it [00:00, 2157.83it/s]\u001b[A"
     ]
    },
    {
     "name": "stdout",
     "output_type": "stream",
     "text": [
      "67/100\n"
     ]
    },
    {
     "name": "stderr",
     "output_type": "stream",
     "text": [
      "1188it [00:00, 5891.41it/s]\n",
      "\n",
      "0it [00:00, ?it/s]\u001b[A\n",
      "1080it [00:00, 5330.38it/s][A\n",
      "\n",
      "108it [00:00, 1745.20it/s]\n",
      "\n",
      "0it [00:00, ?it/s]\u001b[A\n",
      "176it [00:00, 1621.69it/s]\u001b[A"
     ]
    },
    {
     "name": "stdout",
     "output_type": "stream",
     "text": [
      "68/100\n"
     ]
    },
    {
     "name": "stderr",
     "output_type": "stream",
     "text": [
      "\n",
      "1188it [00:00, 4908.03it/s]\u001b[A\n",
      "\n",
      "0it [00:00, ?it/s]\u001b[A\n",
      "176it [00:00, 1619.56it/s]\u001b[A\n",
      "1044it [00:00, 4291.72it/s][A\n",
      "\n",
      "108it [00:00, 1432.71it/s]\n",
      "\n",
      "0it [00:00, ?it/s]\u001b[A"
     ]
    },
    {
     "name": "stdout",
     "output_type": "stream",
     "text": [
      "69/100\n"
     ]
    },
    {
     "name": "stderr",
     "output_type": "stream",
     "text": [
      "\n",
      "1188it [00:00, 4925.58it/s][A\n",
      "\n",
      "0it [00:00, ?it/s]\u001b[A\n",
      "828it [00:00, 4281.73it/s]\u001b[A\n",
      "\n",
      "108it [00:00, 1655.14it/s]\n",
      "\n",
      "0it [00:00, ?it/s]\u001b[A\n",
      "240it [00:00, 2095.75it/s]\u001b[A"
     ]
    },
    {
     "name": "stdout",
     "output_type": "stream",
     "text": [
      "70/100\n"
     ]
    },
    {
     "name": "stderr",
     "output_type": "stream",
     "text": [
      "1188it [00:00, 5569.03it/s]\n",
      "\n",
      "0it [00:00, ?it/s]\u001b[A\n",
      "176it [00:00, 1593.18it/s]\u001b[A\n",
      "828it [00:00, 3555.72it/s]\u001b[A\n",
      "\n",
      "108it [00:00, 1705.39it/s]\n",
      "\n",
      "0it [00:00, ?it/s]\u001b[A\n",
      "240it [00:00, 2325.13it/s]\u001b[A"
     ]
    },
    {
     "name": "stdout",
     "output_type": "stream",
     "text": [
      "71/100\n"
     ]
    },
    {
     "name": "stderr",
     "output_type": "stream",
     "text": [
      "1188it [00:00, 5844.95it/s]\n",
      "\n",
      "0it [00:00, ?it/s]\u001b[A\n",
      "828it [00:00, 4640.35it/s]\u001b[A\n",
      "\n",
      "108it [00:00, 1540.35it/s]\n",
      "\n",
      "0it [00:00, ?it/s]\u001b[A\n",
      "176it [00:00, 1677.69it/s]\u001b[A"
     ]
    },
    {
     "name": "stdout",
     "output_type": "stream",
     "text": [
      "72/100\n"
     ]
    },
    {
     "name": "stderr",
     "output_type": "stream",
     "text": [
      "\n",
      "1188it [00:00, 4906.78it/s][A\n",
      "\n",
      "0it [00:00, ?it/s]\u001b[A\n",
      "112it [00:00, 1104.01it/s]\u001b[A\n",
      "828it [00:00, 3564.37it/s]\u001b[A\n",
      "\n",
      "108it [00:00, 1478.69it/s]\n",
      "\n",
      "0it [00:00, ?it/s]\u001b[A"
     ]
    },
    {
     "name": "stdout",
     "output_type": "stream",
     "text": [
      "73/100\n"
     ]
    },
    {
     "name": "stderr",
     "output_type": "stream",
     "text": [
      "\n",
      "112it [00:00, 952.93it/s]\u001b[A\n",
      "1188it [00:00, 3651.72it/s][A\n",
      "\n",
      "0it [00:00, ?it/s]\u001b[A\n",
      "80it [00:00, 686.01it/s]\u001b[A\n",
      "496it [00:00, 2297.75it/s]\u001b[A\n",
      "1008it [00:00, 2802.51it/s]\u001b[A\n",
      "\n",
      "0it [00:00, ?it/s]\u001b[A\n",
      "108it [00:00, 861.71it/s][A\n",
      "\n",
      "0it [00:00, ?it/s]\u001b[A"
     ]
    },
    {
     "name": "stdout",
     "output_type": "stream",
     "text": [
      "74/100\n"
     ]
    },
    {
     "name": "stderr",
     "output_type": "stream",
     "text": [
      "\n",
      "80it [00:00, 728.34it/s]\u001b[A\n",
      "368it [00:00, 1802.71it/s]\u001b[A\n",
      "1188it [00:00, 3445.31it/s]\u001b[A\n",
      "\n",
      "0it [00:00, ?it/s]\u001b[A\n",
      "240it [00:00, 2140.74it/s]\u001b[A\n",
      "1152it [00:00, 5245.57it/s]\u001b[A\n",
      "\n",
      "108it [00:00, 1407.12it/s]\n",
      "\n",
      "0it [00:00, ?it/s]\u001b[A\n",
      "240it [00:00, 2090.78it/s]\u001b[A"
     ]
    },
    {
     "name": "stdout",
     "output_type": "stream",
     "text": [
      "75/100\n"
     ]
    },
    {
     "name": "stderr",
     "output_type": "stream",
     "text": [
      "1188it [00:00, 5855.14it/s]\n",
      "\n",
      "0it [00:00, ?it/s]\u001b[A\n",
      "936it [00:00, 5399.66it/s]\u001b[A\n",
      "\n",
      "144it [00:00, 1708.64it/s]\n",
      "\n",
      "0it [00:00, ?it/s]\u001b[A\n",
      "240it [00:00, 2265.92it/s]\u001b[A"
     ]
    },
    {
     "name": "stdout",
     "output_type": "stream",
     "text": [
      "76/100\n"
     ]
    },
    {
     "name": "stderr",
     "output_type": "stream",
     "text": [
      "\n",
      "1188it [00:00, 5457.62it/s]\u001b[A\n",
      "\n",
      "0it [00:00, ?it/s]\u001b[A\n",
      "1080it [00:00, 5131.15it/s][A\n",
      "\n",
      "144it [00:00, 1641.87it/s]\n",
      "\n",
      "0it [00:00, ?it/s]\u001b[A\n",
      "240it [00:00, 2246.01it/s]\u001b[A"
     ]
    },
    {
     "name": "stdout",
     "output_type": "stream",
     "text": [
      "77/100\n"
     ]
    },
    {
     "name": "stderr",
     "output_type": "stream",
     "text": [
      "1188it [00:00, 5636.27it/s]\n",
      "\n",
      "0it [00:00, ?it/s]\u001b[A\n",
      "936it [00:00, 4621.97it/s]\u001b[A\n",
      "\n",
      "72it [00:00, 1289.80it/s]\n",
      "\n",
      "0it [00:00, ?it/s]\u001b[A\n",
      "176it [00:00, 1551.19it/s]\u001b[A"
     ]
    },
    {
     "name": "stdout",
     "output_type": "stream",
     "text": [
      "78/100\n"
     ]
    },
    {
     "name": "stderr",
     "output_type": "stream",
     "text": [
      "\n",
      "1188it [00:00, 4719.17it/s][A\n",
      "\n",
      "0it [00:00, ?it/s]\u001b[A\n",
      "176it [00:00, 1733.40it/s]\u001b[A\n",
      "1080it [00:00, 4829.36it/s]\u001b[A\n",
      "\n",
      "144it [00:00, 1627.69it/s]\n",
      "\n",
      "0it [00:00, ?it/s]\u001b[A\n",
      "176it [00:00, 1603.73it/s]\u001b[A"
     ]
    },
    {
     "name": "stdout",
     "output_type": "stream",
     "text": [
      "79/100\n"
     ]
    },
    {
     "name": "stderr",
     "output_type": "stream",
     "text": [
      "\n",
      "1188it [00:00, 4865.35it/s]\u001b[A\n",
      "\n",
      "0it [00:00, ?it/s]\u001b[A\n",
      "176it [00:00, 1708.24it/s]\u001b[A\n",
      "1080it [00:00, 4453.68it/s][A\n",
      "\n",
      "144it [00:00, 1391.29it/s]\n",
      "\n",
      "0it [00:00, ?it/s]\u001b[A\n",
      "176it [00:00, 1736.47it/s]\u001b[A"
     ]
    },
    {
     "name": "stdout",
     "output_type": "stream",
     "text": [
      "80/100\n"
     ]
    },
    {
     "name": "stderr",
     "output_type": "stream",
     "text": [
      "\n",
      "1188it [00:00, 5387.24it/s]\u001b[A\n",
      "\n",
      "0it [00:00, ?it/s]\u001b[A\n",
      "176it [00:00, 1661.94it/s]\u001b[A\n",
      "1080it [00:00, 3769.35it/s][A\n",
      "\n",
      "72it [00:00, 1352.40it/s]\n",
      "\n",
      "0it [00:00, ?it/s]\u001b[A\n",
      "176it [00:00, 1749.10it/s]\u001b[A"
     ]
    },
    {
     "name": "stdout",
     "output_type": "stream",
     "text": [
      "81/100\n"
     ]
    },
    {
     "name": "stderr",
     "output_type": "stream",
     "text": [
      "\n",
      "1188it [00:00, 5395.37it/s]\u001b[A\n",
      "\n",
      "0it [00:00, ?it/s]\u001b[A\n",
      "864it [00:00, 4203.13it/s]\u001b[A\n",
      "\n",
      "144it [00:00, 1604.12it/s]\n",
      "\n",
      "0it [00:00, ?it/s]\u001b[A\n",
      "176it [00:00, 1648.96it/s]\u001b[A"
     ]
    },
    {
     "name": "stdout",
     "output_type": "stream",
     "text": [
      "82/100\n"
     ]
    },
    {
     "name": "stderr",
     "output_type": "stream",
     "text": [
      "\n",
      "1188it [00:00, 5118.55it/s]\u001b[A\n",
      "\n",
      "0it [00:00, ?it/s]\u001b[A\n",
      "828it [00:00, 4428.25it/s]\u001b[A\n",
      "\n",
      "144it [00:00, 1695.47it/s]\n",
      "\n",
      "0it [00:00, ?it/s]\u001b[A\n",
      "368it [00:00, 2805.55it/s]\u001b[A"
     ]
    },
    {
     "name": "stdout",
     "output_type": "stream",
     "text": [
      "83/100\n"
     ]
    },
    {
     "name": "stderr",
     "output_type": "stream",
     "text": [
      "1188it [00:00, 5816.14it/s]\n",
      "\n",
      "0it [00:00, ?it/s]\u001b[A\n",
      "176it [00:00, 1701.50it/s]\u001b[A\n",
      "828it [00:00, 3584.11it/s]\u001b[A\n",
      "\n",
      "144it [00:00, 1417.35it/s]\n",
      "\n",
      "0it [00:00, ?it/s]\u001b[A"
     ]
    },
    {
     "name": "stdout",
     "output_type": "stream",
     "text": [
      "84/100\n"
     ]
    },
    {
     "name": "stderr",
     "output_type": "stream",
     "text": [
      "\n",
      "176it [00:00, 1687.68it/s]\u001b[A\n",
      "1188it [00:00, 5139.28it/s]\u001b[A\n",
      "\n",
      "0it [00:00, ?it/s]\u001b[A\n",
      "828it [00:00, 4029.36it/s]\u001b[A\n",
      "\n",
      "144it [00:00, 1578.47it/s]\n",
      "\n",
      "0it [00:00, ?it/s]\u001b[A\n",
      "176it [00:00, 1666.26it/s]\u001b[A"
     ]
    },
    {
     "name": "stdout",
     "output_type": "stream",
     "text": [
      "85/100\n"
     ]
    },
    {
     "name": "stderr",
     "output_type": "stream",
     "text": [
      "\n",
      "1188it [00:00, 4983.91it/s]\u001b[A\n",
      "\n",
      "0it [00:00, ?it/s]\u001b[A\n",
      "828it [00:00, 4487.90it/s]\u001b[A\n",
      "\n",
      "72it [00:00, 1344.29it/s]\n",
      "\n",
      "0it [00:00, ?it/s]\u001b[A\n",
      "176it [00:00, 1723.61it/s]\u001b[A"
     ]
    },
    {
     "name": "stdout",
     "output_type": "stream",
     "text": [
      "86/100\n"
     ]
    },
    {
     "name": "stderr",
     "output_type": "stream",
     "text": [
      "\n",
      "1188it [00:00, 4662.04it/s][A\n",
      "\n",
      "0it [00:00, ?it/s]\u001b[A\n",
      "1152it [00:00, 5717.12it/s][A\n",
      "\n",
      "0it [00:00, ?it/s]\u001b[A\n",
      "360it [00:00, 2464.87it/s]\u001b[A\n",
      "\n",
      "0it [00:00, ?it/s]\u001b[A\n",
      "194it [00:00, 1939.86it/s]\u001b[A"
     ]
    },
    {
     "name": "stdout",
     "output_type": "stream",
     "text": [
      "87/100\n"
     ]
    },
    {
     "name": "stderr",
     "output_type": "stream",
     "text": [
      "\n",
      "1188it [00:00, 5294.25it/s]\u001b[A\n",
      "\n",
      "0it [00:00, ?it/s]\u001b[A\n",
      "240it [00:00, 1859.11it/s]\u001b[A\n",
      "1116it [00:00, 4660.88it/s]\u001b[A\n",
      "\n",
      "144it [00:00, 1536.48it/s]\n",
      "\n",
      "0it [00:00, ?it/s]\u001b[A\n",
      "176it [00:00, 1652.70it/s]\u001b[A"
     ]
    },
    {
     "name": "stdout",
     "output_type": "stream",
     "text": [
      "88/100\n"
     ]
    },
    {
     "name": "stderr",
     "output_type": "stream",
     "text": [
      "\n",
      "1188it [00:00, 4691.62it/s][A\n",
      "\n",
      "0it [00:00, ?it/s]\u001b[A\n",
      "176it [00:00, 1397.46it/s]\u001b[A\n",
      "1188it [00:00, 4396.42it/s][A\n",
      "\n",
      "0it [00:00, ?it/s]\u001b[A\n",
      "396it [00:00, 2577.77it/s]\u001b[A\n",
      "\n",
      "0it [00:00, ?it/s]\u001b[A\n",
      "176it [00:00, 1704.82it/s]\u001b[A"
     ]
    },
    {
     "name": "stdout",
     "output_type": "stream",
     "text": [
      "89/100\n"
     ]
    },
    {
     "name": "stderr",
     "output_type": "stream",
     "text": [
      "\n",
      "1188it [00:00, 5161.71it/s]\u001b[A\n",
      "\n",
      "0it [00:00, ?it/s]\u001b[A\n",
      "972it [00:00, 4882.72it/s]\u001b[A\n",
      "\n",
      "144it [00:00, 1569.80it/s]\n",
      "\n",
      "0it [00:00, ?it/s]\u001b[A\n"
     ]
    },
    {
     "name": "stdout",
     "output_type": "stream",
     "text": [
      "90/100\n"
     ]
    },
    {
     "name": "stderr",
     "output_type": "stream",
     "text": [
      "1188it [00:00, 5940.26it/s][A\n",
      "\n",
      "0it [00:00, ?it/s]\u001b[A\n",
      "864it [00:00, 4814.84it/s]\u001b[A\n",
      "\n",
      "0it [00:00, ?it/s]\u001b[A\n",
      "396it [00:00, 2950.14it/s]\u001b[A\n",
      "\n",
      "0it [00:00, ?it/s]\u001b[A\n",
      "176it [00:00, 1665.23it/s]\u001b[A"
     ]
    },
    {
     "name": "stdout",
     "output_type": "stream",
     "text": [
      "91/100\n"
     ]
    },
    {
     "name": "stderr",
     "output_type": "stream",
     "text": [
      "\n",
      "1188it [00:00, 5275.97it/s]\u001b[A\n",
      "\n",
      "0it [00:00, ?it/s]\u001b[A\n",
      "112it [00:00, 1073.50it/s]\u001b[A\n",
      "864it [00:00, 3856.03it/s]\u001b[A\n",
      "\n",
      "144it [00:00, 1602.40it/s]\n",
      "\n",
      "0it [00:00, ?it/s]\u001b[A"
     ]
    },
    {
     "name": "stdout",
     "output_type": "stream",
     "text": [
      "92/100\n"
     ]
    },
    {
     "name": "stderr",
     "output_type": "stream",
     "text": [
      "\n",
      "112it [00:00, 1006.35it/s]\u001b[A\n",
      "1188it [00:00, 3692.45it/s][A\n",
      "\n",
      "0it [00:00, ?it/s]\u001b[A\n",
      "864it [00:00, 4757.30it/s]\u001b[A\n",
      "\n",
      "144it [00:00, 1725.15it/s]\n",
      "\n",
      "0it [00:00, ?it/s]\u001b[A\n",
      "176it [00:00, 1698.24it/s]\u001b[A"
     ]
    },
    {
     "name": "stdout",
     "output_type": "stream",
     "text": [
      "93/100\n"
     ]
    },
    {
     "name": "stderr",
     "output_type": "stream",
     "text": [
      "\n",
      "1188it [00:00, 4882.39it/s][A\n",
      "\n",
      "0it [00:00, ?it/s]\u001b[A\n",
      "864it [00:00, 4252.22it/s]\u001b[A\n",
      "\n",
      "72it [00:00, 1628.95it/s]\n",
      "\n",
      "0it [00:00, ?it/s]\u001b[A\n",
      "176it [00:00, 1672.43it/s]\u001b[A"
     ]
    },
    {
     "name": "stdout",
     "output_type": "stream",
     "text": [
      "94/100\n"
     ]
    },
    {
     "name": "stderr",
     "output_type": "stream",
     "text": [
      "\n",
      "1188it [00:00, 5053.01it/s]\u001b[A\n",
      "\n",
      "0it [00:00, ?it/s]\u001b[A\n",
      "176it [00:00, 1720.19it/s]\u001b[A\n",
      "1080it [00:00, 3906.08it/s][A\n",
      "\n",
      "72it [00:00, 1497.72it/s]\n",
      "\n",
      "0it [00:00, ?it/s]\u001b[A\n",
      "240it [00:00, 2169.11it/s]\u001b[A"
     ]
    },
    {
     "name": "stdout",
     "output_type": "stream",
     "text": [
      "95/100\n"
     ]
    },
    {
     "name": "stderr",
     "output_type": "stream",
     "text": [
      "1188it [00:00, 5798.81it/s]\n",
      "\n",
      "0it [00:00, ?it/s]\u001b[A\n",
      "1116it [00:00, 5594.08it/s][A\n",
      "\n",
      "72it [00:00, 1532.66it/s]\n",
      "\n",
      "0it [00:00, ?it/s]\u001b[A"
     ]
    },
    {
     "name": "stdout",
     "output_type": "stream",
     "text": [
      "96/100\n"
     ]
    },
    {
     "name": "stderr",
     "output_type": "stream",
     "text": [
      "\n",
      "1188it [00:00, 5423.58it/s][A\n",
      "\n",
      "0it [00:00, ?it/s]\u001b[A\n",
      "864it [00:00, 4703.52it/s]\u001b[A\n",
      "\n",
      "72it [00:00, 1406.49it/s]\n",
      "\n",
      "0it [00:00, ?it/s]\u001b[A\n",
      "240it [00:00, 2331.79it/s]\u001b[A"
     ]
    },
    {
     "name": "stdout",
     "output_type": "stream",
     "text": [
      "97/100\n"
     ]
    },
    {
     "name": "stderr",
     "output_type": "stream",
     "text": [
      "\n",
      "1188it [00:00, 5138.54it/s]\u001b[A\n",
      "\n",
      "0it [00:00, ?it/s]\u001b[A\n",
      "176it [00:00, 1755.40it/s]\u001b[A\n",
      "864it [00:00, 3911.92it/s]\u001b[A\n",
      "\n",
      "72it [00:00, 1032.47it/s]\n",
      "\n",
      "0it [00:00, ?it/s]\u001b[A\n",
      "240it [00:00, 2171.61it/s]\u001b[A"
     ]
    },
    {
     "name": "stdout",
     "output_type": "stream",
     "text": [
      "98/100\n"
     ]
    },
    {
     "name": "stderr",
     "output_type": "stream",
     "text": [
      "1188it [00:00, 5804.18it/s]\n",
      "\n",
      "0it [00:00, ?it/s]\u001b[A\n",
      "176it [00:00, 1693.51it/s]\u001b[A\n",
      "1116it [00:00, 4917.79it/s]\u001b[A\n",
      "\n",
      "72it [00:00, 1418.07it/s]\n",
      "\n",
      "0it [00:00, ?it/s]\u001b[A\n",
      "240it [00:00, 2088.67it/s]\u001b[A"
     ]
    },
    {
     "name": "stdout",
     "output_type": "stream",
     "text": [
      "99/100\n"
     ]
    },
    {
     "name": "stderr",
     "output_type": "stream",
     "text": [
      "1188it [00:00, 5591.84it/s]\n",
      "\n",
      "0it [00:00, ?it/s]\u001b[A\n",
      "48it [00:00, 454.66it/s]\u001b[A\n",
      "1044it [00:00, 3482.08it/s][A\n",
      "\n",
      "0it [00:00, ?it/s]\u001b[A\n",
      "396it [00:00, 2882.72it/s]\u001b[A\n",
      "\n",
      "0it [00:00, ?it/s]\u001b[A"
     ]
    },
    {
     "name": "stdout",
     "output_type": "stream",
     "text": [
      "100/100\n"
     ]
    },
    {
     "name": "stderr",
     "output_type": "stream",
     "text": [
      "\n",
      "176it [00:00, 1547.20it/s]\u001b[A\n",
      "1188it [00:00, 5178.83it/s]\u001b[A\n",
      "\n",
      "0it [00:00, ?it/s]\u001b[A\n",
      "936it [00:00, 5053.70it/s]\u001b[A\n",
      "\n",
      "144it [00:00, 1539.00it/s]\n"
     ]
    }
   ],
   "source": [
    "algo = \"adp\"\n",
    "\n",
    "params = (iniState, n, None) # None for samples to create all exog. information \n",
    "\n",
    "app = App(algo)\n",
    "\n",
    "########################################## Executions ######################################\n",
    "for p in list(itertools.product(T,trip_max)):\n",
    "    print(p)\n",
    "    app.run(p[0], p[1], algo, params)\n",
    "\n",
    "########################################## Results #########################################\n",
    "app.putout()"
   ]
  }
 ],
 "metadata": {
  "kernelspec": {
   "display_name": "Python 3",
   "language": "python",
   "name": "python3"
  },
  "language_info": {
   "codemirror_mode": {
    "name": "ipython",
    "version": 3
   },
   "file_extension": ".py",
   "mimetype": "text/x-python",
   "name": "python",
   "nbconvert_exporter": "python",
   "pygments_lexer": "ipython3",
   "version": "3.8.5"
  }
 },
 "nbformat": 4,
 "nbformat_minor": 2
}
