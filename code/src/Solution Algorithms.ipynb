{
 "cells": [
  {
   "cell_type": "code",
   "execution_count": 1,
   "metadata": {
    "scrolled": false
   },
   "outputs": [],
   "source": [
    "import numpy as np\n",
    "import itertools\n",
    "\n",
    "from src.modules.app import App\n",
    "\n",
    "%load_ext autoreload\n",
    "%autoreload 2"
   ]
  },
  {
   "cell_type": "code",
   "execution_count": 2,
   "metadata": {
    "scrolled": true
   },
   "outputs": [
    {
     "name": "stdout",
     "output_type": "stream",
     "text": [
      "(2, None)\n",
      "States\n"
     ]
    },
    {
     "name": "stderr",
     "output_type": "stream",
     "text": [
      "63747it [00:00, 98772.87it/s] \n"
     ]
    },
    {
     "name": "stdout",
     "output_type": "stream",
     "text": [
      "Decisions\n"
     ]
    },
    {
     "name": "stderr",
     "output_type": "stream",
     "text": [
      "100%|██████████| 63648/63648 [05:52<00:00, 180.43it/s]\n"
     ]
    },
    {
     "name": "stdout",
     "output_type": "stream",
     "text": [
      "Algo\n"
     ]
    }
   ],
   "source": [
    "########################################## Params ##########################################\n",
    "T = np.arange(2,3)\n",
    "trip_max = [None]\n",
    "n = 1\n",
    "iniState = '0,4.0,0.0,0.0,0.044,0.039' # 80% energy level, no trip started, no trip demand, prices with highest prob\n",
    "samples = 1\n",
    "algo = 1\n",
    "params = None\n",
    "\n",
    "if algo == 2: # AVI\n",
    "    params = (iniState, T, samples)\n",
    "if algo == 3: # ADP\n",
    "    params = (iniState, n) \n",
    "\n",
    "app = App()\n",
    "\n",
    "########################################## Executions ##########################################\n",
    "for p in list(itertools.product(T,trip_max)):\n",
    "    print(p)\n",
    "    app.run(p[0], p[1], algo, params)\n",
    "\n",
    "########################################## Results ##########################################\n",
    "app.putout()"
   ]
  }
 ],
 "metadata": {
  "kernelspec": {
   "display_name": "Python 3",
   "language": "python",
   "name": "python3"
  },
  "language_info": {
   "codemirror_mode": {
    "name": "ipython",
    "version": 3
   },
   "file_extension": ".py",
   "mimetype": "text/x-python",
   "name": "python",
   "nbconvert_exporter": "python",
   "pygments_lexer": "ipython3",
   "version": "3.8.5"
  }
 },
 "nbformat": 4,
 "nbformat_minor": 2
}
