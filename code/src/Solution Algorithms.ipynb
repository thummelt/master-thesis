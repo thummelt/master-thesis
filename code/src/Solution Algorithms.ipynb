{
 "cells": [
  {
   "cell_type": "code",
   "execution_count": 21,
   "metadata": {
    "scrolled": false
   },
   "outputs": [
    {
     "name": "stdout",
     "output_type": "stream",
     "text": [
      "The autoreload extension is already loaded. To reload it, use:\n",
      "  %reload_ext autoreload\n"
     ]
    }
   ],
   "source": [
    "import numpy as np\n",
    "import itertools\n",
    "\n",
    "from src.modules.app import App\n",
    "\n",
    "%load_ext autoreload\n",
    "%autoreload 2\n",
    "\n",
    "########################################## Params ##########################################\n",
    "T = np.arange(2,4)\n",
    "trip_max = [None]\n",
    "\n",
    "########################################## Constants #######################################\n",
    "iniState = '0,4.0,0.0,0.0,0.044,0.039' # 80% energy level, no trip started, no trip demand, prices with highest prob\n",
    "params = None\n",
    "n = 10\n",
    "samples = 1000"
   ]
  },
  {
   "cell_type": "code",
   "execution_count": null,
   "metadata": {
    "scrolled": false
   },
   "outputs": [],
   "source": [
    "algo = \"vi\"\n",
    "\n",
    "app = App()\n",
    "\n",
    "########################################## Executions ######################################\n",
    "for p in list(itertools.product(T,trip_max)):\n",
    "    print(p)\n",
    "    app.run(p[0], p[1], algo, params)\n",
    "\n",
    "########################################## Results #########################################\n",
    "app.putout()"
   ]
  },
  {
   "cell_type": "code",
   "execution_count": null,
   "metadata": {},
   "outputs": [],
   "source": [
    "algo = \"mo\"\n",
    "\n",
    "app = App()\n",
    "\n",
    "########################################## Executions ######################################\n",
    "for p in list(itertools.product(T,trip_max)):\n",
    "    print(p)\n",
    "    app.run(p[0], p[1], algo, params)\n",
    "\n",
    "########################################## Results #########################################\n",
    "app.putout()"
   ]
  },
  {
   "cell_type": "code",
   "execution_count": null,
   "metadata": {},
   "outputs": [],
   "source": [
    "algo = \"avi\"\n",
    "\n",
    "params = (iniState, T, samples)\n",
    "\n",
    "app = App()\n",
    "\n",
    "########################################## Executions ######################################\n",
    "for p in list(itertools.product(T,trip_max)):\n",
    "    print(p)\n",
    "    app.run(p[0], p[1], algo, params)\n",
    "\n",
    "########################################## Results #########################################\n",
    "app.putout()"
   ]
  },
  {
   "cell_type": "code",
   "execution_count": 22,
   "metadata": {},
   "outputs": [
    {
     "name": "stdout",
     "output_type": "stream",
     "text": [
      "(2, None)\n",
      "States\n"
     ]
    },
    {
     "name": "stderr",
     "output_type": "stream",
     "text": [
      "62461it [00:00, 107488.76it/s]\n"
     ]
    },
    {
     "name": "stdout",
     "output_type": "stream",
     "text": [
      "Decisions\n",
      "Algo\n",
      "1/10\n"
     ]
    },
    {
     "name": "stderr",
     "output_type": "stream",
     "text": [
      "3564it [00:00, 13405.88it/s]\n",
      "108it [00:00, 2708.98it/s]\n",
      "0it [00:00, ?it/s]"
     ]
    },
    {
     "name": "stdout",
     "output_type": "stream",
     "text": [
      "2/10\n"
     ]
    },
    {
     "name": "stderr",
     "output_type": "stream",
     "text": [
      "3564it [00:00, 13615.49it/s]\n",
      "216it [00:00, 2604.71it/s]\n",
      "0it [00:00, ?it/s]"
     ]
    },
    {
     "name": "stdout",
     "output_type": "stream",
     "text": [
      "3/10\n"
     ]
    },
    {
     "name": "stderr",
     "output_type": "stream",
     "text": [
      "3564it [00:00, 12314.18it/s]\n",
      "108it [00:00, 2216.44it/s]\n",
      "496it [00:00, 4395.44it/s]"
     ]
    },
    {
     "name": "stdout",
     "output_type": "stream",
     "text": [
      "4/10\n"
     ]
    },
    {
     "name": "stderr",
     "output_type": "stream",
     "text": [
      "3564it [00:00, 9980.52it/s]\n",
      "108it [00:00, 2216.80it/s]\n",
      "364it [00:00, 3636.54it/s]"
     ]
    },
    {
     "name": "stdout",
     "output_type": "stream",
     "text": [
      "5/10\n"
     ]
    },
    {
     "name": "stderr",
     "output_type": "stream",
     "text": [
      "3564it [00:00, 11910.56it/s]\n",
      "324it [00:00, 3176.83it/s]\n",
      "368it [00:00, 3679.06it/s]"
     ]
    },
    {
     "name": "stdout",
     "output_type": "stream",
     "text": [
      "6/10\n"
     ]
    },
    {
     "name": "stderr",
     "output_type": "stream",
     "text": [
      "3564it [00:00, 13565.89it/s]\n",
      "432it [00:00, 4356.44it/s]\n",
      "368it [00:00, 3564.80it/s]"
     ]
    },
    {
     "name": "stdout",
     "output_type": "stream",
     "text": [
      "7/10\n"
     ]
    },
    {
     "name": "stderr",
     "output_type": "stream",
     "text": [
      "3564it [00:00, 14561.50it/s]\n",
      "540it [00:00, 4086.01it/s]\n",
      "240it [00:00, 2368.33it/s]"
     ]
    },
    {
     "name": "stdout",
     "output_type": "stream",
     "text": [
      "8/10\n"
     ]
    },
    {
     "name": "stderr",
     "output_type": "stream",
     "text": [
      "3564it [00:00, 13460.06it/s]\n",
      "648it [00:00, 5639.25it/s]\n",
      "280it [00:00, 2797.25it/s]"
     ]
    },
    {
     "name": "stdout",
     "output_type": "stream",
     "text": [
      "9/10\n"
     ]
    },
    {
     "name": "stderr",
     "output_type": "stream",
     "text": [
      "3564it [00:00, 14197.24it/s]\n",
      "756it [00:00, 4890.18it/s]\n",
      "0it [00:00, ?it/s]"
     ]
    },
    {
     "name": "stdout",
     "output_type": "stream",
     "text": [
      "10/10\n"
     ]
    },
    {
     "name": "stderr",
     "output_type": "stream",
     "text": [
      "3564it [00:00, 10449.35it/s]\n",
      "432it [00:00, 4224.60it/s]\n"
     ]
    },
    {
     "name": "stdout",
     "output_type": "stream",
     "text": [
      "(3, None)\n",
      "States\n"
     ]
    },
    {
     "name": "stderr",
     "output_type": "stream",
     "text": [
      "124822it [00:01, 88877.84it/s]\n"
     ]
    },
    {
     "name": "stdout",
     "output_type": "stream",
     "text": [
      "Decisions\n",
      "Algo\n"
     ]
    },
    {
     "name": "stderr",
     "output_type": "stream",
     "text": [
      "\r",
      "0it [00:00, ?it/s]"
     ]
    },
    {
     "name": "stdout",
     "output_type": "stream",
     "text": [
      "1/10\n"
     ]
    },
    {
     "name": "stderr",
     "output_type": "stream",
     "text": [
      "3564it [00:00, 13737.12it/s]\n",
      "2484it [00:00, 10191.49it/s]\n",
      "108it [00:00, 2061.92it/s]\n",
      "0it [00:00, ?it/s]"
     ]
    },
    {
     "name": "stdout",
     "output_type": "stream",
     "text": [
      "2/10\n"
     ]
    },
    {
     "name": "stderr",
     "output_type": "stream",
     "text": [
      "3564it [00:00, 11108.07it/s]\n",
      "2484it [00:00, 8638.96it/s]\n",
      "216it [00:00, 2376.48it/s]\n",
      "0it [00:00, ?it/s]"
     ]
    },
    {
     "name": "stdout",
     "output_type": "stream",
     "text": [
      "3/10\n"
     ]
    },
    {
     "name": "stderr",
     "output_type": "stream",
     "text": [
      "3564it [00:00, 10236.15it/s]\n",
      "2484it [00:00, 9727.88it/s]\n",
      "324it [00:00, 3715.80it/s]\n",
      "0it [00:00, ?it/s]"
     ]
    },
    {
     "name": "stdout",
     "output_type": "stream",
     "text": [
      "4/10\n"
     ]
    },
    {
     "name": "stderr",
     "output_type": "stream",
     "text": [
      "3564it [00:00, 12461.14it/s]\n",
      "2484it [00:00, 11918.04it/s]\n",
      "432it [00:00, 3349.30it/s]\n",
      "0it [00:00, ?it/s]"
     ]
    },
    {
     "name": "stdout",
     "output_type": "stream",
     "text": [
      "5/10\n"
     ]
    },
    {
     "name": "stderr",
     "output_type": "stream",
     "text": [
      "3564it [00:00, 12477.41it/s]\n",
      "2592it [00:00, 10562.87it/s]\n",
      "540it [00:00, 4411.55it/s]\n",
      "0it [00:00, ?it/s]"
     ]
    },
    {
     "name": "stdout",
     "output_type": "stream",
     "text": [
      "6/10\n"
     ]
    },
    {
     "name": "stderr",
     "output_type": "stream",
     "text": [
      "3564it [00:00, 12026.52it/s]\n",
      "2484it [00:00, 11711.42it/s]\n",
      "540it [00:00, 3848.86it/s]\n",
      "496it [00:00, 4475.00it/s]"
     ]
    },
    {
     "name": "stdout",
     "output_type": "stream",
     "text": [
      "7/10\n"
     ]
    },
    {
     "name": "stderr",
     "output_type": "stream",
     "text": [
      "3564it [00:00, 11279.11it/s]\n",
      "2700it [00:00, 10882.59it/s]\n",
      "648it [00:00, 5443.25it/s]\n",
      "0it [00:00, ?it/s]"
     ]
    },
    {
     "name": "stdout",
     "output_type": "stream",
     "text": [
      "8/10\n"
     ]
    },
    {
     "name": "stderr",
     "output_type": "stream",
     "text": [
      "3564it [00:00, 11944.47it/s]\n",
      "2700it [00:00, 11493.40it/s]\n",
      "756it [00:00, 5691.73it/s]\n",
      "0it [00:00, ?it/s]"
     ]
    },
    {
     "name": "stdout",
     "output_type": "stream",
     "text": [
      "9/10\n"
     ]
    },
    {
     "name": "stderr",
     "output_type": "stream",
     "text": [
      "3564it [00:00, 13517.23it/s]\n",
      "2484it [00:00, 10297.34it/s]\n",
      "864it [00:00, 5898.11it/s]\n",
      "368it [00:00, 3625.13it/s]"
     ]
    },
    {
     "name": "stdout",
     "output_type": "stream",
     "text": [
      "10/10\n"
     ]
    },
    {
     "name": "stderr",
     "output_type": "stream",
     "text": [
      "3564it [00:00, 13098.01it/s]\n",
      "2592it [00:00, 9844.60it/s]\n",
      "864it [00:00, 6083.09it/s]\n"
     ]
    }
   ],
   "source": [
    "algo = \"adp\"\n",
    "\n",
    "params = (iniState, n, None) # None for samples to create all exog. information \n",
    "\n",
    "app = App()\n",
    "\n",
    "########################################## Executions ######################################\n",
    "for p in list(itertools.product(T,trip_max)):\n",
    "    print(p)\n",
    "    app.run(p[0], p[1], algo, params)\n",
    "\n",
    "########################################## Results #########################################\n",
    "app.putout()"
   ]
  }
 ],
 "metadata": {
  "kernelspec": {
   "display_name": "Python 3",
   "language": "python",
   "name": "python3"
  },
  "language_info": {
   "codemirror_mode": {
    "name": "ipython",
    "version": 3
   },
   "file_extension": ".py",
   "mimetype": "text/x-python",
   "name": "python",
   "nbconvert_exporter": "python",
   "pygments_lexer": "ipython3",
   "version": "3.8.5"
  }
 },
 "nbformat": 4,
 "nbformat_minor": 2
}
