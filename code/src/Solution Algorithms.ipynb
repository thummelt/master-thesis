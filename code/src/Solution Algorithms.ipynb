{
 "cells": [
  {
   "cell_type": "code",
   "execution_count": 1,
   "metadata": {
    "scrolled": false
   },
   "outputs": [],
   "source": [
    "import numpy as np\n",
    "import itertools\n",
    "\n",
    "from src.modules.app import App\n",
    "from src.modules.analysis import Analysis\n",
    "\n",
    "%load_ext autoreload\n",
    "%autoreload 2\n",
    "\n",
    "########################################## Params ##########################################\n",
    "T = np.arange(2,4)\n",
    "trip_max = [2,3]\n",
    "\n",
    "########################################## Constants #######################################\n",
    "iniState = '0,4.0,0.0,0.0,0.044,0.039' # 80% energy level, no trip started, no trip demand, prices with highest prob\n",
    "params = None\n",
    "n = 10\n",
    "samples = 1000"
   ]
  },
  {
   "cell_type": "code",
   "execution_count": 2,
   "metadata": {
    "scrolled": true
   },
   "outputs": [
    {
     "name": "stderr",
     "output_type": "stream",
     "text": [
      "495it [00:00, 110788.71it/s]"
     ]
    },
    {
     "name": "stdout",
     "output_type": "stream",
     "text": [
      "(1, 2)\n",
      "States\n",
      "Decisions\n"
     ]
    },
    {
     "name": "stderr",
     "output_type": "stream",
     "text": [
      "\n"
     ]
    },
    {
     "name": "stdout",
     "output_type": "stream",
     "text": [
      "Exo\n"
     ]
    },
    {
     "name": "stderr",
     "output_type": "stream",
     "text": [
      "176it [00:00, 1748.79it/s]"
     ]
    },
    {
     "name": "stdout",
     "output_type": "stream",
     "text": [
      "Trans\n"
     ]
    },
    {
     "name": "stderr",
     "output_type": "stream",
     "text": [
      "485028it [00:19, 25154.07it/s]\n"
     ]
    },
    {
     "name": "stdout",
     "output_type": "stream",
     "text": [
      "Algo\n",
      "(1, 3)\n",
      "States\n"
     ]
    },
    {
     "name": "stderr",
     "output_type": "stream",
     "text": [
      "594it [00:00, 93669.32it/s]\n"
     ]
    },
    {
     "name": "stdout",
     "output_type": "stream",
     "text": [
      "Decisions\n",
      "Exo\n"
     ]
    },
    {
     "name": "stderr",
     "output_type": "stream",
     "text": [
      "368it [00:00, 3572.50it/s]"
     ]
    },
    {
     "name": "stdout",
     "output_type": "stream",
     "text": [
      "Trans\n"
     ]
    },
    {
     "name": "stderr",
     "output_type": "stream",
     "text": [
      "604584it [00:24, 24824.52it/s]\n"
     ]
    },
    {
     "name": "stdout",
     "output_type": "stream",
     "text": [
      "Algo\n"
     ]
    }
   ],
   "source": [
    "algo = \"vi\"\n",
    "\n",
    "app = App(algo)\n",
    "\n",
    "########################################## Executions ######################################\n",
    "for p in list(itertools.product(T,trip_max)):\n",
    "    print(p)\n",
    "    app.run(p[0], p[1], algo, params)\n",
    "\n",
    "########################################## Results #########################################\n",
    "app.putout()"
   ]
  },
  {
   "cell_type": "code",
   "execution_count": 3,
   "metadata": {},
   "outputs": [
    {
     "name": "stderr",
     "output_type": "stream",
     "text": [
      "495it [00:00, 97377.26it/s]"
     ]
    },
    {
     "name": "stdout",
     "output_type": "stream",
     "text": [
      "(1, 2)\n",
      "States\n"
     ]
    },
    {
     "name": "stderr",
     "output_type": "stream",
     "text": [
      "\n"
     ]
    },
    {
     "name": "stdout",
     "output_type": "stream",
     "text": [
      "Decisions\n",
      "Algo\n",
      "(1, 3)\n",
      "States\n"
     ]
    },
    {
     "name": "stderr",
     "output_type": "stream",
     "text": [
      "594it [00:00, 91471.77it/s]\n"
     ]
    },
    {
     "name": "stdout",
     "output_type": "stream",
     "text": [
      "Decisions\n",
      "Algo\n"
     ]
    }
   ],
   "source": [
    "algo = \"mo\"\n",
    "\n",
    "app = App(algo)\n",
    "\n",
    "########################################## Executions ######################################\n",
    "for p in list(itertools.product(T,trip_max)):\n",
    "    print(p)\n",
    "    app.run(p[0], p[1], algo, params)\n",
    "\n",
    "########################################## Results #########################################\n",
    "app.putout()"
   ]
  },
  {
   "cell_type": "code",
   "execution_count": null,
   "metadata": {},
   "outputs": [],
   "source": [
    "algo = \"avi\"\n",
    "\n",
    "\n",
    "app = App(algo)\n",
    "\n",
    "########################################## Executions ######################################\n",
    "for p in list(itertools.product(T,trip_max)):\n",
    "    print(p)\n",
    "    params = (iniState, p[0], samples)\n",
    "    app.run(p[0], p[1], algo, params)\n",
    "\n",
    "########################################## Results #########################################\n",
    "app.putout()"
   ]
  },
  {
   "cell_type": "code",
   "execution_count": null,
   "metadata": {},
   "outputs": [],
   "source": [
    "algo = \"adp\"\n",
    "\n",
    "params = (iniState, n, None) # None for samples to create all exog. information \n",
    "\n",
    "app = App(algo)\n",
    "\n",
    "########################################## Executions ######################################\n",
    "for p in list(itertools.product(T,trip_max)):\n",
    "    print(p)\n",
    "    app.run(p[0], p[1], algo, params)\n",
    "\n",
    "########################################## Results #########################################\n",
    "app.putout()"
   ]
  }
 ],
 "metadata": {
  "kernelspec": {
   "display_name": "Python 3",
   "language": "python",
   "name": "python3"
  },
  "language_info": {
   "codemirror_mode": {
    "name": "ipython",
    "version": 3
   },
   "file_extension": ".py",
   "mimetype": "text/x-python",
   "name": "python",
   "nbconvert_exporter": "python",
   "pygments_lexer": "ipython3",
   "version": "3.8.5"
  }
 },
 "nbformat": 4,
 "nbformat_minor": 2
}
