{
 "cells": [
  {
   "cell_type": "code",
   "execution_count": 1,
   "metadata": {
    "scrolled": false,
    "slideshow": {
     "slide_type": "skip"
    }
   },
   "outputs": [],
   "source": [
    "%load_ext autoreload\n",
    "%autoreload 2\n",
    "\n",
    "import seaborn as sns \n",
    "import pandas as pd\n",
    "import matplotlib.pyplot as plt\n",
    "import matplotlib\n",
    "import numpy as np\n",
    "from src.modules import constants as con\n",
    "from src.modules import plotter as plttr\n",
    "plt.style.use(['seaborn-paper','science','no-latex', 'std-colors'])\n",
    "matplotlib.rc(\"font\", family=\"Times New Roman\")    \n",
    "plts = []\n",
    "\n",
    "SMALL_SIZE = 8\n",
    "MEDIUM_SIZE = 10\n",
    "BIGGER_SIZE = 12\n",
    "\n",
    "plt.rc('font', size=BIGGER_SIZE)          # controls default text sizes\n",
    "plt.rc('axes', titlesize=BIGGER_SIZE)     # fontsize of the axes title\n",
    "plt.rc('axes', labelsize=BIGGER_SIZE)    # fontsize of the x and y labels\n",
    "plt.rc('xtick', labelsize=BIGGER_SIZE)    # fontsize of the tick labels\n",
    "plt.rc('ytick', labelsize=BIGGER_SIZE)    # fontsize of the tick labels\n",
    "plt.rc('legend', fontsize=BIGGER_SIZE)    # legend fontsize\n",
    "plt.rc('figure', titlesize=BIGGER_SIZE)  # fontsize of the figure title\n",
    "\n",
    "# Parameter\n",
    "tau = int(60*con.tau)"
   ]
  },
  {
   "cell_type": "code",
   "execution_count": 2,
   "metadata": {
    "scrolled": false
   },
   "outputs": [
    {
     "data": {
      "text/html": [
       "<div>\n",
       "<style scoped>\n",
       "    .dataframe tbody tr th:only-of-type {\n",
       "        vertical-align: middle;\n",
       "    }\n",
       "\n",
       "    .dataframe tbody tr th {\n",
       "        vertical-align: top;\n",
       "    }\n",
       "\n",
       "    .dataframe thead th {\n",
       "        text-align: right;\n",
       "    }\n",
       "</style>\n",
       "<table border=\"1\" class=\"dataframe\">\n",
       "  <thead>\n",
       "    <tr style=\"text-align: right;\">\n",
       "      <th></th>\n",
       "      <th>HOUSEID</th>\n",
       "      <th>PERSONID</th>\n",
       "      <th>TDTRPNUM</th>\n",
       "      <th>STRTTIME</th>\n",
       "      <th>ENDTIME</th>\n",
       "      <th>TRVLCMIN</th>\n",
       "      <th>TRPMILES</th>\n",
       "      <th>TRPTRANS</th>\n",
       "      <th>TRPACCMP</th>\n",
       "      <th>TRPHHACC</th>\n",
       "      <th>...</th>\n",
       "      <th>OBHTNRNT</th>\n",
       "      <th>OBPPOPDN</th>\n",
       "      <th>OBRESDN</th>\n",
       "      <th>DTHTNRNT</th>\n",
       "      <th>DTPPOPDN</th>\n",
       "      <th>DTRESDN</th>\n",
       "      <th>DTEEMPDN</th>\n",
       "      <th>DBHTNRNT</th>\n",
       "      <th>DBPPOPDN</th>\n",
       "      <th>DBRESDN</th>\n",
       "    </tr>\n",
       "  </thead>\n",
       "  <tbody>\n",
       "    <tr>\n",
       "      <th>0</th>\n",
       "      <td>30000007</td>\n",
       "      <td>1</td>\n",
       "      <td>1</td>\n",
       "      <td>1000</td>\n",
       "      <td>1015</td>\n",
       "      <td>15</td>\n",
       "      <td>5.244</td>\n",
       "      <td>3</td>\n",
       "      <td>0</td>\n",
       "      <td>0</td>\n",
       "      <td>...</td>\n",
       "      <td>20</td>\n",
       "      <td>750</td>\n",
       "      <td>300</td>\n",
       "      <td>50</td>\n",
       "      <td>750</td>\n",
       "      <td>300</td>\n",
       "      <td>350</td>\n",
       "      <td>30</td>\n",
       "      <td>300</td>\n",
       "      <td>300</td>\n",
       "    </tr>\n",
       "    <tr>\n",
       "      <th>1</th>\n",
       "      <td>30000007</td>\n",
       "      <td>1</td>\n",
       "      <td>2</td>\n",
       "      <td>1510</td>\n",
       "      <td>1530</td>\n",
       "      <td>20</td>\n",
       "      <td>5.149</td>\n",
       "      <td>3</td>\n",
       "      <td>0</td>\n",
       "      <td>0</td>\n",
       "      <td>...</td>\n",
       "      <td>30</td>\n",
       "      <td>300</td>\n",
       "      <td>300</td>\n",
       "      <td>50</td>\n",
       "      <td>1500</td>\n",
       "      <td>750</td>\n",
       "      <td>750</td>\n",
       "      <td>20</td>\n",
       "      <td>750</td>\n",
       "      <td>300</td>\n",
       "    </tr>\n",
       "    <tr>\n",
       "      <th>2</th>\n",
       "      <td>30000007</td>\n",
       "      <td>2</td>\n",
       "      <td>1</td>\n",
       "      <td>700</td>\n",
       "      <td>900</td>\n",
       "      <td>120</td>\n",
       "      <td>84.004</td>\n",
       "      <td>6</td>\n",
       "      <td>0</td>\n",
       "      <td>0</td>\n",
       "      <td>...</td>\n",
       "      <td>40</td>\n",
       "      <td>1500</td>\n",
       "      <td>750</td>\n",
       "      <td>50</td>\n",
       "      <td>1500</td>\n",
       "      <td>750</td>\n",
       "      <td>750</td>\n",
       "      <td>20</td>\n",
       "      <td>750</td>\n",
       "      <td>300</td>\n",
       "    </tr>\n",
       "    <tr>\n",
       "      <th>3</th>\n",
       "      <td>30000007</td>\n",
       "      <td>2</td>\n",
       "      <td>2</td>\n",
       "      <td>1800</td>\n",
       "      <td>2030</td>\n",
       "      <td>150</td>\n",
       "      <td>81.628</td>\n",
       "      <td>6</td>\n",
       "      <td>0</td>\n",
       "      <td>0</td>\n",
       "      <td>...</td>\n",
       "      <td>20</td>\n",
       "      <td>750</td>\n",
       "      <td>300</td>\n",
       "      <td>40</td>\n",
       "      <td>1500</td>\n",
       "      <td>750</td>\n",
       "      <td>750</td>\n",
       "      <td>40</td>\n",
       "      <td>1500</td>\n",
       "      <td>750</td>\n",
       "    </tr>\n",
       "    <tr>\n",
       "      <th>4</th>\n",
       "      <td>30000007</td>\n",
       "      <td>3</td>\n",
       "      <td>1</td>\n",
       "      <td>845</td>\n",
       "      <td>900</td>\n",
       "      <td>15</td>\n",
       "      <td>2.250</td>\n",
       "      <td>3</td>\n",
       "      <td>0</td>\n",
       "      <td>0</td>\n",
       "      <td>...</td>\n",
       "      <td>20</td>\n",
       "      <td>750</td>\n",
       "      <td>300</td>\n",
       "      <td>50</td>\n",
       "      <td>750</td>\n",
       "      <td>300</td>\n",
       "      <td>350</td>\n",
       "      <td>60</td>\n",
       "      <td>750</td>\n",
       "      <td>300</td>\n",
       "    </tr>\n",
       "  </tbody>\n",
       "</table>\n",
       "<p>5 rows × 115 columns</p>\n",
       "</div>"
      ],
      "text/plain": [
       "    HOUSEID  PERSONID  TDTRPNUM  STRTTIME  ENDTIME  TRVLCMIN  TRPMILES  \\\n",
       "0  30000007         1         1      1000     1015        15     5.244   \n",
       "1  30000007         1         2      1510     1530        20     5.149   \n",
       "2  30000007         2         1       700      900       120    84.004   \n",
       "3  30000007         2         2      1800     2030       150    81.628   \n",
       "4  30000007         3         1       845      900        15     2.250   \n",
       "\n",
       "   TRPTRANS  TRPACCMP  TRPHHACC  ...  OBHTNRNT  OBPPOPDN  OBRESDN  DTHTNRNT  \\\n",
       "0         3         0         0  ...        20       750      300        50   \n",
       "1         3         0         0  ...        30       300      300        50   \n",
       "2         6         0         0  ...        40      1500      750        50   \n",
       "3         6         0         0  ...        20       750      300        40   \n",
       "4         3         0         0  ...        20       750      300        50   \n",
       "\n",
       "   DTPPOPDN  DTRESDN  DTEEMPDN  DBHTNRNT  DBPPOPDN  DBRESDN  \n",
       "0       750      300       350        30       300      300  \n",
       "1      1500      750       750        20       750      300  \n",
       "2      1500      750       750        20       750      300  \n",
       "3      1500      750       750        40      1500      750  \n",
       "4       750      300       350        60       750      300  \n",
       "\n",
       "[5 rows x 115 columns]"
      ]
     },
     "execution_count": 2,
     "metadata": {},
     "output_type": "execute_result"
    }
   ],
   "source": [
    "df = pd.read_csv(\"/usr/app/data/input/trippub.csv\") \n",
    "df.head()"
   ]
  },
  {
   "cell_type": "code",
   "execution_count": null,
   "metadata": {},
   "outputs": [],
   "source": [
    "df.shape"
   ]
  },
  {
   "cell_type": "code",
   "execution_count": 22,
   "metadata": {
    "scrolled": false
   },
   "outputs": [
    {
     "data": {
      "text/plain": [
       "(423319, 115)"
      ]
     },
     "execution_count": 22,
     "metadata": {},
     "output_type": "execute_result"
    }
   ],
   "source": [
    "# Filter applied\n",
    "# - TRPTRANS in [03, 04, 05, 06] || Mode of transportt (correspond to car, suv, van, pick up truck)\n",
    "# - TRPHHVEH == '01' || Only if household vehicle is used\n",
    "# - TRIPPURP in [HBO, HBSHOP, HBSCOREC, HBW]\n",
    "# - TRPMILES must not be negative\n",
    "\n",
    "# ?- Drop duplicates for combination HOUSEID + STRTTIME \n",
    "\n",
    "df_tmp = df[\n",
    "        (df[\"TRPHHVEH\"] == 1) \n",
    "        & (df[\"TRPTRANS\"].isin([3, 4, 5, 6])) \n",
    "        & (df[\"TRIPPURP\"].isin([\"HBO\", \"HBSHOP\", \"HBSCOREC\", \"HBW\"]))\n",
    "        & (df[\"TRPMILES\"] >= 0)\n",
    "       ].copy()\n",
    "df_tmp.shape\n"
   ]
  },
  {
   "cell_type": "code",
   "execution_count": 23,
   "metadata": {},
   "outputs": [],
   "source": [
    "## Check average velocity\n",
    "df_tmp[\"TRVLCMIN\"] = df_tmp[\"TRVLCMIN\"]/60\n"
   ]
  },
  {
   "cell_type": "code",
   "execution_count": 24,
   "metadata": {},
   "outputs": [
    {
     "data": {
      "text/plain": [
       "38.05195186980086"
      ]
     },
     "execution_count": 24,
     "metadata": {},
     "output_type": "execute_result"
    }
   ],
   "source": [
    "df_tmp = df_tmp.loc[df_tmp.TRPMILES <=40]\n",
    "sum(df_tmp[\"TRPMILES\"]/sum(df_tmp[\"TRVLCMIN\"]))*1.60934"
   ]
  },
  {
   "cell_type": "code",
   "execution_count": null,
   "metadata": {
    "scrolled": true
   },
   "outputs": [],
   "source": [
    "# STRTTIME for deriving probabilitiy of starting trip at time\n",
    "print(df_tmp[\"STRTTIME\"].describe())\n",
    "df_tmp[\"STRTTIME\"] = df_tmp[\"STRTTIME\"].astype(\"str\").apply(lambda x: int(x) if len(x) < 3 else int(int(x[0:-2])*60+int(x[-2:])))                                                      \n",
    "df_tmp[\"STRTTIME\"].describe()"
   ]
  },
  {
   "cell_type": "code",
   "execution_count": null,
   "metadata": {
    "scrolled": true
   },
   "outputs": [],
   "source": [
    "g = sns.displot(df_tmp, x=\"STRTTIME\", stat=\"probability\",bins=list(range(0,1441, tau)), height = 7, aspect = 3)\n",
    "plttr.formatPlot(g, \"Time (min)\" , \"Probability\",\"Tripstart Probability\" , xticks = np.arange(0, 1441, 30))\n",
    "plts += [(\"prob_trpstrt\", g)]"
   ]
  },
  {
   "cell_type": "code",
   "execution_count": null,
   "metadata": {
    "scrolled": true
   },
   "outputs": [],
   "source": [
    "hist_strtttime = np.histogram(df_tmp[\"STRTTIME\"], bins = list(range(0,1441, tau)), density = True)\n",
    "d_strttime = pd.DataFrame(data = {\"t\": hist_strtttime[1][0:int(1441/tau)], \"p(t)\": hist_strtttime[0]*tau})\n",
    "d_strttime[d_strttime[\"t\"] > 400].head(10)"
   ]
  },
  {
   "cell_type": "code",
   "execution_count": null,
   "metadata": {},
   "outputs": [],
   "source": [
    "d_strttime.to_pickle(\"/usr/app/data/probabilities/trpstrt.pkl\") "
   ]
  },
  {
   "cell_type": "code",
   "execution_count": null,
   "metadata": {},
   "outputs": [],
   "source": [
    "# TRPMILES for each STRTIIME for deriving probability of Triplengt\n",
    "df_tmp[\"TRPMILES\"].describe()"
   ]
  },
  {
   "cell_type": "code",
   "execution_count": null,
   "metadata": {},
   "outputs": [],
   "source": [
    "k = 1\n",
    "\n",
    "## Ensure that if trip is started but length is in interval [0,1) length must be greater zero to account for right decision making\n",
    "## Set each trip length to mean of intervalls (1km intervalls => +0.5)\n",
    "bins = [b+0.5 for b in range(0,41,k)]\n",
    "\n",
    "#range(0, int(max(df_tmp[\"TRPMILES\"])), int(max(df_tmp[\"TRPMILES\"])/k))\n",
    "d_len = pd.DataFrame(columns=[\"t\"]+bins[:-1])\n",
    "\n",
    "for t in d_strttime[\"t\"]:\n",
    "    hist_len = np.histogram(df_tmp.loc[df_tmp.STRTTIME==t, \"TRPMILES\"], bins = bins, density = True)\n",
    "    d_len.loc[t,:] = [t]+list(hist_len[0]*k)\n",
    "    \n",
    "d_len"
   ]
  },
  {
   "cell_type": "code",
   "execution_count": null,
   "metadata": {},
   "outputs": [],
   "source": [
    "# Save distribution\n",
    "d_len.to_pickle(\"/usr/app/data/probabilities/trplen.pkl\") "
   ]
  },
  {
   "cell_type": "code",
   "execution_count": null,
   "metadata": {
    "scrolled": true
   },
   "outputs": [],
   "source": [
    "# Just for checking\n",
    "d_len.loc[:,'sum'] = d_len.iloc[:,1:].sum(axis=1)\n",
    "#d_len.iloc[:,1:]\n",
    "d_len[d_len[\"t\"] == 300].tail(1)"
   ]
  },
  {
   "cell_type": "code",
   "execution_count": null,
   "metadata": {},
   "outputs": [],
   "source": [
    "d_len.tail()"
   ]
  },
  {
   "cell_type": "code",
   "execution_count": null,
   "metadata": {
    "scrolled": true
   },
   "outputs": [],
   "source": [
    "pd.DataFrame([(p,np.percentile(df_tmp.loc[:, \"TRPMILES\"], p)) for p in range(90,101,1)])\n",
    "\n",
    "### => 97% of trips have lenght <= 40.01500 miles\n",
    "\n",
    "#percs = pd.DataFrame([(p,np.percentile(df_tmp.loc[:, \"TRPMILES\"], p)) for p in range(0,101,1)])\n",
    "#percs.head()\n",
    "#percs[0]"
   ]
  },
  {
   "cell_type": "code",
   "execution_count": null,
   "metadata": {
    "scrolled": true
   },
   "outputs": [],
   "source": [
    "fig, ax = plt.subplots(figsize=(15, 8))\n",
    "g = sns.histplot(ax=ax, data=df_tmp[\"TRPMILES\"],color = plt.rcParams['axes.prop_cycle'].by_key()['color'][0])\n",
    "plttr.formatPlot(g, \"Trip Miles\" , \"Amount\",\"\")\n",
    "plts += [(\"prob_trpmiles_total\", plt.gcf())]"
   ]
  },
  {
   "cell_type": "code",
   "execution_count": null,
   "metadata": {},
   "outputs": [],
   "source": [
    "fig, ax = plt.subplots(figsize=(15, 8))\n",
    "g = sns.histplot(ax=ax, data=df_tmp[df_tmp[\"TRPMILES\"]<50][\"TRPMILES\"],color = plt.rcParams['axes.prop_cycle'].by_key()['color'][0])\n",
    "ax.axvline(np.percentile(df_tmp[\"TRPMILES\"], 97), alpha = 1, ymax = 1, linestyle = \":\", color=\"black\")\n",
    "ax.text(40.5, 10000, \"97% Percentile\", size = 12, alpha = 1, color = \"black\")\n",
    "plttr.formatPlot(g, \"Trip Miles\" , \"Amount\",\"\")\n",
    "plts += [(\"prob_trpmiles_total_50\", plt.gcf())]"
   ]
  },
  {
   "cell_type": "code",
   "execution_count": null,
   "metadata": {},
   "outputs": [],
   "source": [
    "df_plot = pd.melt(d_len.iloc[:,:-1].copy(), id_vars=['t'], var_name = \"Length\", value_name = \"d(t)\")\n",
    "df_plot[\"d(t)\"] = df_plot[\"d(t)\"]*100\n",
    "df_plot[\"d(t)\"] = df_plot[\"d(t)\"].astype(\"int32\")\n",
    "df_pivot = df_plot.pivot(\"t\", \"Length\", \"d(t)\")\n",
    "\n",
    "# Draw a heatmap with the numeric values in each cell\n",
    "f, ax = plt.subplots(figsize=(20, 20))\n",
    "g = sns.heatmap(df_pivot, annot=True, fmt=\"d\", linewidths=.5, ax=ax,cmap = sns.color_palette(\"viridis\", as_cmap=True))\n",
    "plts += [(\"prob_trpln_heat\", g)]"
   ]
  },
  {
   "cell_type": "code",
   "execution_count": null,
   "metadata": {},
   "outputs": [],
   "source": [
    "g = sns.FacetGrid(df_plot, col=\"t\", col_wrap = 6)\n",
    "g.map_dataframe(sns.barplot, x=\"Length\", y=\"d(t)\", palette = sns.color_palette(\"hls\", len(df_plot[\"Length\"].unique())))\n",
    "g.set_axis_labels(\"Distance\", \"d(t)\")\n",
    "plts += [(\"prob_trpstrt_t\", g)]"
   ]
  },
  {
   "cell_type": "code",
   "execution_count": null,
   "metadata": {
    "scrolled": true
   },
   "outputs": [],
   "source": [
    "plt.figure(figsize=(15,8))\n",
    "plt = sns.lineplot(x=df_plot[\"Length\"], y=df_plot[\"d(t)\"]/100,legend = False,\n",
    "            )# hue=df_plot[\"strttime\"], palette = sns.color_palette(\"hls\", len(df_plot[\"strttime\"].unique())))\n",
    "plts += [(\"prob_trpln_agg\", g)]"
   ]
  },
  {
   "cell_type": "code",
   "execution_count": null,
   "metadata": {},
   "outputs": [],
   "source": [
    "# Read in excel\n",
    "prc = pd.read_csv(\"/usr/app/data/input/Price_avg.csv\", sep=\";\")\n",
    "prc.drop(columns=[\"Stunde des Tages\"], inplace=True)\n",
    "# Calculate euro/kWh\n",
    "prc[[\"Year\",\"Winter\",\"Sommer\"]] = prc[[\"Year\",\"Winter\",\"Sommer\"]]/1000\n",
    "prc[\"Count\"] = (prc[\"Count\"]-1)*int(tau)\n",
    "prc.head()"
   ]
  },
  {
   "cell_type": "code",
   "execution_count": null,
   "metadata": {},
   "outputs": [],
   "source": [
    "def construct_pric_dist(prc):\n",
    "\n",
    "    prc[\"mu\"] = prc[\"Year\"]\n",
    "    prc[\"sd\"] = abs(prc[\"Year\"]-prc[\"Winter\"])\n",
    "    prob_ls = []\n",
    "    for t in prc[\"Count\"]:\n",
    "        # Derive normal distribution for each point in time (sd is sqrt(1/2 * (mean-lower)^2 + (mean-upper)^2)) = mean-lower\n",
    "        s = np.random.normal(prc.loc[prc[\"Count\"] == t,\"mu\"], prc.loc[prc[\"Count\"] == t,\"sd\"], 10000)\n",
    "\n",
    "        # Derive histrogram from normal distribution with 3 bins\n",
    "        hist, bin_edges = np.histogram(s, bins = 3, density = True)\n",
    "\n",
    "        # Construct dataframe - use means of bin edges as price and corresponding hist probability\n",
    "        prob = pd.DataFrame({\"prc\": [round((x+y)/2,3) for x,y in zip(bin_edges, bin_edges[1:])], \"p\" : hist * np.diff(bin_edges),\n",
    "                            \"mu\": [prc.loc[prc[\"Count\"] == t,\"mu\"].tolist()[0]]*3, \"sd\": [prc.loc[prc[\"Count\"] == t,\"sd\"].tolist()[0]]*3}) \n",
    "        prob[\"t\"] = t\n",
    "        prob_ls += [prob]\n",
    "\n",
    "    # Price to buy\n",
    "    d_prc = pd.concat(prob_ls)\n",
    "    return d_prc\n"
   ]
  },
  {
   "cell_type": "code",
   "execution_count": null,
   "metadata": {
    "scrolled": true
   },
   "outputs": [],
   "source": [
    "np.random.seed(0)\n",
    "# Price to sell\n",
    "d_prc_b = construct_pric_dist(prc)\n",
    "print(d_prc_b.head())\n",
    "\n",
    "# Price to sell\n",
    "# Assume prices for selling are 10&% lower\n",
    "prc[[\"Year\",\"Winter\",\"Sommer\"]] = prc[[\"Year\",\"Winter\",\"Sommer\"]]*0.9\n",
    "d_prc_s = construct_pric_dist(prc)\n",
    "print(d_prc_s.head())"
   ]
  },
  {
   "cell_type": "code",
   "execution_count": null,
   "metadata": {},
   "outputs": [],
   "source": [
    "# Save distribution\n",
    "d_prc_b[[\"prc\",\"p\",\"t\"]] .to_pickle(\"/usr/app/data/probabilities/d_prc_b.pkl\") \n",
    "d_prc_s[[\"prc\",\"p\",\"t\"]].to_pickle(\"/usr/app/data/probabilities/d_prc_s.pkl\") "
   ]
  },
  {
   "cell_type": "code",
   "execution_count": null,
   "metadata": {},
   "outputs": [],
   "source": [
    "# Aggregated plot with err\n",
    "\n",
    "# Single plots\n",
    "## Combine sell and buy\n",
    "d_prc_b[\"type\"] = \"b\"\n",
    "d_prc_s[\"type\"] = \"s\"\n",
    "df_prc_plot = pd.concat([d_prc_b, d_prc_s]).drop(columns=[\"prc\",\"p\"]).drop_duplicates()\n",
    "df_prc_plot.head()\n"
   ]
  },
  {
   "cell_type": "code",
   "execution_count": null,
   "metadata": {
    "scrolled": true
   },
   "outputs": [],
   "source": [
    "np.random.seed(0)\n",
    "df_stacked = pd.DataFrame([[row[\"t\"], row[\"type\"]] + np.random.normal(row[\"mu\"], row[\"sd\"], 10000).tolist() for i, row in df_prc_plot.iterrows()],\n",
    "                         columns=[\"t\", \"type\"]+np.arange(10000).tolist())\n",
    "\n",
    "df_stacked = pd.melt(df_stacked, id_vars=[\"t\",\"type\"], var_name = \"count\", value_name = \"values\")\n",
    "\n",
    "\n",
    "\n"
   ]
  },
  {
   "cell_type": "code",
   "execution_count": null,
   "metadata": {},
   "outputs": [],
   "source": [
    "# Not nice as bars set at one price point for both buy and sell... that is not true acutally\n",
    "g = sns.FacetGrid(pd.concat([d_prc_b, d_prc_s]), col=\"t\", hue=\"type\", col_wrap = 6, sharex=False)\n",
    "g.map_dataframe(sns.barplot, x=\"prc\", y=\"p\",alpha=0.5)\n",
    "g.set_axis_labels(\"Price\", \"d(p)\")"
   ]
  },
  {
   "cell_type": "code",
   "execution_count": null,
   "metadata": {},
   "outputs": [],
   "source": [
    "# Buy\n",
    "g = sns.FacetGrid(d_prc_b.loc[d_prc_b[\"t\"].isin([480,1080,1410])], col=\"t\", col_wrap = 3, sharex=False)\n",
    "g.map_dataframe(sns.barplot, x=\"prc\", y=\"p\")\n",
    "g.set_axis_labels(\"Price\", \"Probability\")\n",
    "for ax in g.axes.flat:\n",
    "    ax.set_xticklabels([round(float(t.get_text()), 3)  for t in ax.get_xticklabels()])\n",
    "\n",
    "plts += [(\"prob_prc_b_t\", g)]"
   ]
  },
  {
   "cell_type": "code",
   "execution_count": null,
   "metadata": {},
   "outputs": [],
   "source": [
    "# Sell\n",
    "g = sns.FacetGrid(d_prc_s.loc[d_prc_b[\"t\"].isin([480,1080,1410])], col=\"t\", col_wrap = 3, sharex=False)\n",
    "g.map_dataframe(sns.barplot, x=\"prc\", y=\"p\")\n",
    "g.set_axis_labels(\"Price\", \"Probability\")\n",
    "for ax in g.axes.flat:\n",
    "    ax.set_xticklabels([round(float(t.get_text()), 3)  for t in ax.get_xticklabels()])\n",
    "\n",
    "plts += [(\"prob_prc_s_t\", g)]"
   ]
  },
  {
   "cell_type": "code",
   "execution_count": null,
   "metadata": {},
   "outputs": [],
   "source": [
    "# Combined prices\n",
    "fig, ax = plt.subplots(figsize=(9, 6))\n",
    "g = sns.lineplot(ax=ax, data=pd.concat([d_prc_b, d_prc_s]), x=\"t\", y=\"prc\", hue=\"type\", legend = False)\n",
    "plttr.formatPlot(g, \"Time (min)\" , \"Price (€/kWh)\",\"Buying and Selling Prices with Error Bounds\" , \"Price Type\", ['Buying', 'Selling'], xticks = np.arange(0, 1441, 60))\n",
    "plts = [(\"prob_prc_t\", plt.gcf())]"
   ]
  },
  {
   "cell_type": "code",
   "execution_count": null,
   "metadata": {},
   "outputs": [],
   "source": [
    "plts"
   ]
  },
  {
   "cell_type": "code",
   "execution_count": null,
   "metadata": {},
   "outputs": [],
   "source": [
    "# Export plots\n",
    "plttr.save(plts)"
   ]
  }
 ],
 "metadata": {
  "kernelspec": {
   "display_name": "Python 3 (ipykernel)",
   "language": "python",
   "name": "python3"
  },
  "language_info": {
   "codemirror_mode": {
    "name": "ipython",
    "version": 3
   },
   "file_extension": ".py",
   "mimetype": "text/x-python",
   "name": "python",
   "nbconvert_exporter": "python",
   "pygments_lexer": "ipython3",
   "version": "3.8.5"
  }
 },
 "nbformat": 4,
 "nbformat_minor": 2
}
